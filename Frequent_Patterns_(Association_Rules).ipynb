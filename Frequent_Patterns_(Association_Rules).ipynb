{
  "nbformat": 4,
  "nbformat_minor": 0,
  "metadata": {
    "colab": {
      "name": "Frequent Patterns (Association Rules).ipynb",
      "provenance": [],
      "include_colab_link": true
    },
    "kernelspec": {
      "name": "python3",
      "display_name": "Python 3"
    },
    "language_info": {
      "name": "python"
    }
  },
  "cells": [
    {
      "cell_type": "markdown",
      "metadata": {
        "id": "view-in-github",
        "colab_type": "text"
      },
      "source": [
        "<a href=\"https://colab.research.google.com/github/Jindapornphopomee/BSC_DPDM23/blob/main/Frequent_Patterns_(Association_Rules).ipynb\" target=\"_parent\"><img src=\"https://colab.research.google.com/assets/colab-badge.svg\" alt=\"Open In Colab\"/></a>"
      ]
    },
    {
      "cell_type": "code",
      "metadata": {
        "id": "KZmRixV_o0Jw"
      },
      "source": [
        "import pandas as pd\n",
        "import os"
      ],
      "execution_count": 1,
      "outputs": []
    },
    {
      "cell_type": "code",
      "metadata": {
        "colab": {
          "base_uri": "https://localhost:8080/"
        },
        "id": "BZaeBFmzp6zA",
        "outputId": "e4b43666-07aa-44e8-9d83-2861220318c4"
      },
      "source": [
        "from google.colab import drive\n",
        "drive.mount('/content/drive')\n",
        "path = '/content/drive/My Drive/bsc_dpdm23_data'"
      ],
      "execution_count": 2,
      "outputs": [
        {
          "output_type": "stream",
          "name": "stdout",
          "text": [
            "Mounted at /content/drive\n"
          ]
        }
      ]
    },
    {
      "cell_type": "code",
      "metadata": {
        "id": "ikJazGz6qAn7"
      },
      "source": [
        "data = pd.read_csv(os.path.join(path,'reduced_marketbasket.csv'),encoding='latin-1')"
      ],
      "execution_count": 3,
      "outputs": []
    },
    {
      "cell_type": "code",
      "metadata": {
        "colab": {
          "base_uri": "https://localhost:8080/",
          "height": 423
        },
        "id": "vVP_s3oxqNnU",
        "outputId": "3cc6c8ee-c201-43b9-88fc-983f913373e9"
      },
      "source": [
        "data"
      ],
      "execution_count": 4,
      "outputs": [
        {
          "output_type": "execute_result",
          "data": {
            "text/plain": [
              "       InvoiceNo StockCode                          Description  Quantity  \\\n",
              "0         536365    85123A   WHITE HANGING HEART T-LIGHT HOLDER         6   \n",
              "1         536365     71053                  WHITE METAL LANTERN         6   \n",
              "2         536365    84406B       CREAM CUPID HEARTS COAT HANGER         8   \n",
              "3         536365    84029G  KNITTED UNION FLAG HOT WATER BOTTLE         6   \n",
              "4         536365    84029E       RED WOOLLY HOTTIE WHITE HEART.         6   \n",
              "...          ...       ...                                  ...       ...   \n",
              "541904    581587     22613          PACK OF 20 SPACEBOY NAPKINS        12   \n",
              "541905    581587     22899         CHILDREN'S APRON DOLLY GIRL          6   \n",
              "541906    581587     23254        CHILDRENS CUTLERY DOLLY GIRL          4   \n",
              "541907    581587     23255      CHILDRENS CUTLERY CIRCUS PARADE         4   \n",
              "541908    581587     22138        BAKING SET 9 PIECE RETROSPOT          3   \n",
              "\n",
              "             InvoiceDate  UnitPrice  CustomerID         Country  \n",
              "0       12/01/2010 08:26       2.55     17850.0  United Kingdom  \n",
              "1       12/01/2010 08:26       3.39     17850.0  United Kingdom  \n",
              "2       12/01/2010 08:26       2.75     17850.0  United Kingdom  \n",
              "3       12/01/2010 08:26       3.39     17850.0  United Kingdom  \n",
              "4       12/01/2010 08:26       3.39     17850.0  United Kingdom  \n",
              "...                  ...        ...         ...             ...  \n",
              "541904  12/09/2011 12:50       0.85     12680.0          France  \n",
              "541905  12/09/2011 12:50       2.10     12680.0          France  \n",
              "541906  12/09/2011 12:50       4.15     12680.0          France  \n",
              "541907  12/09/2011 12:50       4.15     12680.0          France  \n",
              "541908  12/09/2011 12:50       4.95     12680.0          France  \n",
              "\n",
              "[541909 rows x 8 columns]"
            ],
            "text/html": [
              "\n",
              "  <div id=\"df-117bb16c-a9c4-4a7b-8769-761ea7dcc83e\" class=\"colab-df-container\">\n",
              "    <div>\n",
              "<style scoped>\n",
              "    .dataframe tbody tr th:only-of-type {\n",
              "        vertical-align: middle;\n",
              "    }\n",
              "\n",
              "    .dataframe tbody tr th {\n",
              "        vertical-align: top;\n",
              "    }\n",
              "\n",
              "    .dataframe thead th {\n",
              "        text-align: right;\n",
              "    }\n",
              "</style>\n",
              "<table border=\"1\" class=\"dataframe\">\n",
              "  <thead>\n",
              "    <tr style=\"text-align: right;\">\n",
              "      <th></th>\n",
              "      <th>InvoiceNo</th>\n",
              "      <th>StockCode</th>\n",
              "      <th>Description</th>\n",
              "      <th>Quantity</th>\n",
              "      <th>InvoiceDate</th>\n",
              "      <th>UnitPrice</th>\n",
              "      <th>CustomerID</th>\n",
              "      <th>Country</th>\n",
              "    </tr>\n",
              "  </thead>\n",
              "  <tbody>\n",
              "    <tr>\n",
              "      <th>0</th>\n",
              "      <td>536365</td>\n",
              "      <td>85123A</td>\n",
              "      <td>WHITE HANGING HEART T-LIGHT HOLDER</td>\n",
              "      <td>6</td>\n",
              "      <td>12/01/2010 08:26</td>\n",
              "      <td>2.55</td>\n",
              "      <td>17850.0</td>\n",
              "      <td>United Kingdom</td>\n",
              "    </tr>\n",
              "    <tr>\n",
              "      <th>1</th>\n",
              "      <td>536365</td>\n",
              "      <td>71053</td>\n",
              "      <td>WHITE METAL LANTERN</td>\n",
              "      <td>6</td>\n",
              "      <td>12/01/2010 08:26</td>\n",
              "      <td>3.39</td>\n",
              "      <td>17850.0</td>\n",
              "      <td>United Kingdom</td>\n",
              "    </tr>\n",
              "    <tr>\n",
              "      <th>2</th>\n",
              "      <td>536365</td>\n",
              "      <td>84406B</td>\n",
              "      <td>CREAM CUPID HEARTS COAT HANGER</td>\n",
              "      <td>8</td>\n",
              "      <td>12/01/2010 08:26</td>\n",
              "      <td>2.75</td>\n",
              "      <td>17850.0</td>\n",
              "      <td>United Kingdom</td>\n",
              "    </tr>\n",
              "    <tr>\n",
              "      <th>3</th>\n",
              "      <td>536365</td>\n",
              "      <td>84029G</td>\n",
              "      <td>KNITTED UNION FLAG HOT WATER BOTTLE</td>\n",
              "      <td>6</td>\n",
              "      <td>12/01/2010 08:26</td>\n",
              "      <td>3.39</td>\n",
              "      <td>17850.0</td>\n",
              "      <td>United Kingdom</td>\n",
              "    </tr>\n",
              "    <tr>\n",
              "      <th>4</th>\n",
              "      <td>536365</td>\n",
              "      <td>84029E</td>\n",
              "      <td>RED WOOLLY HOTTIE WHITE HEART.</td>\n",
              "      <td>6</td>\n",
              "      <td>12/01/2010 08:26</td>\n",
              "      <td>3.39</td>\n",
              "      <td>17850.0</td>\n",
              "      <td>United Kingdom</td>\n",
              "    </tr>\n",
              "    <tr>\n",
              "      <th>...</th>\n",
              "      <td>...</td>\n",
              "      <td>...</td>\n",
              "      <td>...</td>\n",
              "      <td>...</td>\n",
              "      <td>...</td>\n",
              "      <td>...</td>\n",
              "      <td>...</td>\n",
              "      <td>...</td>\n",
              "    </tr>\n",
              "    <tr>\n",
              "      <th>541904</th>\n",
              "      <td>581587</td>\n",
              "      <td>22613</td>\n",
              "      <td>PACK OF 20 SPACEBOY NAPKINS</td>\n",
              "      <td>12</td>\n",
              "      <td>12/09/2011 12:50</td>\n",
              "      <td>0.85</td>\n",
              "      <td>12680.0</td>\n",
              "      <td>France</td>\n",
              "    </tr>\n",
              "    <tr>\n",
              "      <th>541905</th>\n",
              "      <td>581587</td>\n",
              "      <td>22899</td>\n",
              "      <td>CHILDREN'S APRON DOLLY GIRL</td>\n",
              "      <td>6</td>\n",
              "      <td>12/09/2011 12:50</td>\n",
              "      <td>2.10</td>\n",
              "      <td>12680.0</td>\n",
              "      <td>France</td>\n",
              "    </tr>\n",
              "    <tr>\n",
              "      <th>541906</th>\n",
              "      <td>581587</td>\n",
              "      <td>23254</td>\n",
              "      <td>CHILDRENS CUTLERY DOLLY GIRL</td>\n",
              "      <td>4</td>\n",
              "      <td>12/09/2011 12:50</td>\n",
              "      <td>4.15</td>\n",
              "      <td>12680.0</td>\n",
              "      <td>France</td>\n",
              "    </tr>\n",
              "    <tr>\n",
              "      <th>541907</th>\n",
              "      <td>581587</td>\n",
              "      <td>23255</td>\n",
              "      <td>CHILDRENS CUTLERY CIRCUS PARADE</td>\n",
              "      <td>4</td>\n",
              "      <td>12/09/2011 12:50</td>\n",
              "      <td>4.15</td>\n",
              "      <td>12680.0</td>\n",
              "      <td>France</td>\n",
              "    </tr>\n",
              "    <tr>\n",
              "      <th>541908</th>\n",
              "      <td>581587</td>\n",
              "      <td>22138</td>\n",
              "      <td>BAKING SET 9 PIECE RETROSPOT</td>\n",
              "      <td>3</td>\n",
              "      <td>12/09/2011 12:50</td>\n",
              "      <td>4.95</td>\n",
              "      <td>12680.0</td>\n",
              "      <td>France</td>\n",
              "    </tr>\n",
              "  </tbody>\n",
              "</table>\n",
              "<p>541909 rows × 8 columns</p>\n",
              "</div>\n",
              "    <div class=\"colab-df-buttons\">\n",
              "\n",
              "  <div class=\"colab-df-container\">\n",
              "    <button class=\"colab-df-convert\" onclick=\"convertToInteractive('df-117bb16c-a9c4-4a7b-8769-761ea7dcc83e')\"\n",
              "            title=\"Convert this dataframe to an interactive table.\"\n",
              "            style=\"display:none;\">\n",
              "\n",
              "  <svg xmlns=\"http://www.w3.org/2000/svg\" height=\"24px\" viewBox=\"0 -960 960 960\">\n",
              "    <path d=\"M120-120v-720h720v720H120Zm60-500h600v-160H180v160Zm220 220h160v-160H400v160Zm0 220h160v-160H400v160ZM180-400h160v-160H180v160Zm440 0h160v-160H620v160ZM180-180h160v-160H180v160Zm440 0h160v-160H620v160Z\"/>\n",
              "  </svg>\n",
              "    </button>\n",
              "\n",
              "  <style>\n",
              "    .colab-df-container {\n",
              "      display:flex;\n",
              "      gap: 12px;\n",
              "    }\n",
              "\n",
              "    .colab-df-convert {\n",
              "      background-color: #E8F0FE;\n",
              "      border: none;\n",
              "      border-radius: 50%;\n",
              "      cursor: pointer;\n",
              "      display: none;\n",
              "      fill: #1967D2;\n",
              "      height: 32px;\n",
              "      padding: 0 0 0 0;\n",
              "      width: 32px;\n",
              "    }\n",
              "\n",
              "    .colab-df-convert:hover {\n",
              "      background-color: #E2EBFA;\n",
              "      box-shadow: 0px 1px 2px rgba(60, 64, 67, 0.3), 0px 1px 3px 1px rgba(60, 64, 67, 0.15);\n",
              "      fill: #174EA6;\n",
              "    }\n",
              "\n",
              "    .colab-df-buttons div {\n",
              "      margin-bottom: 4px;\n",
              "    }\n",
              "\n",
              "    [theme=dark] .colab-df-convert {\n",
              "      background-color: #3B4455;\n",
              "      fill: #D2E3FC;\n",
              "    }\n",
              "\n",
              "    [theme=dark] .colab-df-convert:hover {\n",
              "      background-color: #434B5C;\n",
              "      box-shadow: 0px 1px 3px 1px rgba(0, 0, 0, 0.15);\n",
              "      filter: drop-shadow(0px 1px 2px rgba(0, 0, 0, 0.3));\n",
              "      fill: #FFFFFF;\n",
              "    }\n",
              "  </style>\n",
              "\n",
              "    <script>\n",
              "      const buttonEl =\n",
              "        document.querySelector('#df-117bb16c-a9c4-4a7b-8769-761ea7dcc83e button.colab-df-convert');\n",
              "      buttonEl.style.display =\n",
              "        google.colab.kernel.accessAllowed ? 'block' : 'none';\n",
              "\n",
              "      async function convertToInteractive(key) {\n",
              "        const element = document.querySelector('#df-117bb16c-a9c4-4a7b-8769-761ea7dcc83e');\n",
              "        const dataTable =\n",
              "          await google.colab.kernel.invokeFunction('convertToInteractive',\n",
              "                                                    [key], {});\n",
              "        if (!dataTable) return;\n",
              "\n",
              "        const docLinkHtml = 'Like what you see? Visit the ' +\n",
              "          '<a target=\"_blank\" href=https://colab.research.google.com/notebooks/data_table.ipynb>data table notebook</a>'\n",
              "          + ' to learn more about interactive tables.';\n",
              "        element.innerHTML = '';\n",
              "        dataTable['output_type'] = 'display_data';\n",
              "        await google.colab.output.renderOutput(dataTable, element);\n",
              "        const docLink = document.createElement('div');\n",
              "        docLink.innerHTML = docLinkHtml;\n",
              "        element.appendChild(docLink);\n",
              "      }\n",
              "    </script>\n",
              "  </div>\n",
              "\n",
              "\n",
              "<div id=\"df-f97c118d-ceb0-4078-ba49-a03f49f45dff\">\n",
              "  <button class=\"colab-df-quickchart\" onclick=\"quickchart('df-f97c118d-ceb0-4078-ba49-a03f49f45dff')\"\n",
              "            title=\"Suggest charts\"\n",
              "            style=\"display:none;\">\n",
              "\n",
              "<svg xmlns=\"http://www.w3.org/2000/svg\" height=\"24px\"viewBox=\"0 0 24 24\"\n",
              "     width=\"24px\">\n",
              "    <g>\n",
              "        <path d=\"M19 3H5c-1.1 0-2 .9-2 2v14c0 1.1.9 2 2 2h14c1.1 0 2-.9 2-2V5c0-1.1-.9-2-2-2zM9 17H7v-7h2v7zm4 0h-2V7h2v10zm4 0h-2v-4h2v4z\"/>\n",
              "    </g>\n",
              "</svg>\n",
              "  </button>\n",
              "\n",
              "<style>\n",
              "  .colab-df-quickchart {\n",
              "      --bg-color: #E8F0FE;\n",
              "      --fill-color: #1967D2;\n",
              "      --hover-bg-color: #E2EBFA;\n",
              "      --hover-fill-color: #174EA6;\n",
              "      --disabled-fill-color: #AAA;\n",
              "      --disabled-bg-color: #DDD;\n",
              "  }\n",
              "\n",
              "  [theme=dark] .colab-df-quickchart {\n",
              "      --bg-color: #3B4455;\n",
              "      --fill-color: #D2E3FC;\n",
              "      --hover-bg-color: #434B5C;\n",
              "      --hover-fill-color: #FFFFFF;\n",
              "      --disabled-bg-color: #3B4455;\n",
              "      --disabled-fill-color: #666;\n",
              "  }\n",
              "\n",
              "  .colab-df-quickchart {\n",
              "    background-color: var(--bg-color);\n",
              "    border: none;\n",
              "    border-radius: 50%;\n",
              "    cursor: pointer;\n",
              "    display: none;\n",
              "    fill: var(--fill-color);\n",
              "    height: 32px;\n",
              "    padding: 0;\n",
              "    width: 32px;\n",
              "  }\n",
              "\n",
              "  .colab-df-quickchart:hover {\n",
              "    background-color: var(--hover-bg-color);\n",
              "    box-shadow: 0 1px 2px rgba(60, 64, 67, 0.3), 0 1px 3px 1px rgba(60, 64, 67, 0.15);\n",
              "    fill: var(--button-hover-fill-color);\n",
              "  }\n",
              "\n",
              "  .colab-df-quickchart-complete:disabled,\n",
              "  .colab-df-quickchart-complete:disabled:hover {\n",
              "    background-color: var(--disabled-bg-color);\n",
              "    fill: var(--disabled-fill-color);\n",
              "    box-shadow: none;\n",
              "  }\n",
              "\n",
              "  .colab-df-spinner {\n",
              "    border: 2px solid var(--fill-color);\n",
              "    border-color: transparent;\n",
              "    border-bottom-color: var(--fill-color);\n",
              "    animation:\n",
              "      spin 1s steps(1) infinite;\n",
              "  }\n",
              "\n",
              "  @keyframes spin {\n",
              "    0% {\n",
              "      border-color: transparent;\n",
              "      border-bottom-color: var(--fill-color);\n",
              "      border-left-color: var(--fill-color);\n",
              "    }\n",
              "    20% {\n",
              "      border-color: transparent;\n",
              "      border-left-color: var(--fill-color);\n",
              "      border-top-color: var(--fill-color);\n",
              "    }\n",
              "    30% {\n",
              "      border-color: transparent;\n",
              "      border-left-color: var(--fill-color);\n",
              "      border-top-color: var(--fill-color);\n",
              "      border-right-color: var(--fill-color);\n",
              "    }\n",
              "    40% {\n",
              "      border-color: transparent;\n",
              "      border-right-color: var(--fill-color);\n",
              "      border-top-color: var(--fill-color);\n",
              "    }\n",
              "    60% {\n",
              "      border-color: transparent;\n",
              "      border-right-color: var(--fill-color);\n",
              "    }\n",
              "    80% {\n",
              "      border-color: transparent;\n",
              "      border-right-color: var(--fill-color);\n",
              "      border-bottom-color: var(--fill-color);\n",
              "    }\n",
              "    90% {\n",
              "      border-color: transparent;\n",
              "      border-bottom-color: var(--fill-color);\n",
              "    }\n",
              "  }\n",
              "</style>\n",
              "\n",
              "  <script>\n",
              "    async function quickchart(key) {\n",
              "      const quickchartButtonEl =\n",
              "        document.querySelector('#' + key + ' button');\n",
              "      quickchartButtonEl.disabled = true;  // To prevent multiple clicks.\n",
              "      quickchartButtonEl.classList.add('colab-df-spinner');\n",
              "      try {\n",
              "        const charts = await google.colab.kernel.invokeFunction(\n",
              "            'suggestCharts', [key], {});\n",
              "      } catch (error) {\n",
              "        console.error('Error during call to suggestCharts:', error);\n",
              "      }\n",
              "      quickchartButtonEl.classList.remove('colab-df-spinner');\n",
              "      quickchartButtonEl.classList.add('colab-df-quickchart-complete');\n",
              "    }\n",
              "    (() => {\n",
              "      let quickchartButtonEl =\n",
              "        document.querySelector('#df-f97c118d-ceb0-4078-ba49-a03f49f45dff button');\n",
              "      quickchartButtonEl.style.display =\n",
              "        google.colab.kernel.accessAllowed ? 'block' : 'none';\n",
              "    })();\n",
              "  </script>\n",
              "</div>\n",
              "    </div>\n",
              "  </div>\n"
            ]
          },
          "metadata": {},
          "execution_count": 4
        }
      ]
    },
    {
      "cell_type": "markdown",
      "source": [
        "# แปลง data ให้อยู่ในรูปแบบ Transaction data ด้วย groupby.apply(list)\n",
        "กลุ่มที่เราจัดได้เอามาเป็นริส"
      ],
      "metadata": {
        "id": "RXfw_i8yVzvY"
      }
    },
    {
      "cell_type": "code",
      "metadata": {
        "colab": {
          "base_uri": "https://localhost:8080/"
        },
        "id": "tgURZufxqOsX",
        "outputId": "4279fdd4-def7-48be-9040-790b404e6757"
      },
      "source": [
        "data.groupby('InvoiceNo')['StockCode'].apply(list)"
      ],
      "execution_count": 5,
      "outputs": [
        {
          "output_type": "execute_result",
          "data": {
            "text/plain": [
              "InvoiceNo\n",
              "536365     [85123A, 71053, 84406B, 84029G, 84029E, 22752,...\n",
              "536366                                        [22633, 22632]\n",
              "536367     [84879, 22745, 22748, 22749, 22310, 84969, 226...\n",
              "536368                          [22960, 22913, 22912, 22914]\n",
              "536369                                               [21756]\n",
              "                                 ...                        \n",
              "C581484                                              [23843]\n",
              "C581490                                       [22178, 23144]\n",
              "C581499                                                  [M]\n",
              "C581568                                              [21258]\n",
              "C581569                                       [84978, 20979]\n",
              "Name: StockCode, Length: 25900, dtype: object"
            ]
          },
          "metadata": {},
          "execution_count": 5
        }
      ]
    },
    {
      "cell_type": "code",
      "metadata": {
        "id": "WQJgxn-KuAPL"
      },
      "source": [
        "transactions = data.groupby('InvoiceNo')['StockCode'].apply(list)"
      ],
      "execution_count": 6,
      "outputs": []
    },
    {
      "cell_type": "markdown",
      "metadata": {
        "id": "TqkZl7tUsgUT"
      },
      "source": [
        "## Association Rules"
      ]
    },
    {
      "cell_type": "code",
      "metadata": {
        "colab": {
          "base_uri": "https://localhost:8080/"
        },
        "id": "kxLayaaAtkh8",
        "outputId": "f3d56e02-a29d-4659-9dfe-e0b3855fcc76"
      },
      "source": [
        "!pip install apyori"
      ],
      "execution_count": 7,
      "outputs": [
        {
          "output_type": "stream",
          "name": "stdout",
          "text": [
            "Collecting apyori\n",
            "  Downloading apyori-1.1.2.tar.gz (8.6 kB)\n",
            "  Preparing metadata (setup.py) ... \u001b[?25l\u001b[?25hdone\n",
            "Building wheels for collected packages: apyori\n",
            "  Building wheel for apyori (setup.py) ... \u001b[?25l\u001b[?25hdone\n",
            "  Created wheel for apyori: filename=apyori-1.1.2-py3-none-any.whl size=5954 sha256=81c64b55ccc323164f7cc6316666c59d0a3bb50dfbea48b0392f5f12a419f05c\n",
            "  Stored in directory: /root/.cache/pip/wheels/c4/1a/79/20f55c470a50bb3702a8cb7c94d8ada15573538c7f4baebe2d\n",
            "Successfully built apyori\n",
            "Installing collected packages: apyori\n",
            "Successfully installed apyori-1.1.2\n"
          ]
        }
      ]
    },
    {
      "cell_type": "code",
      "metadata": {
        "id": "MU_DkGZ2sKw_"
      },
      "source": [
        "from apyori import apriori"
      ],
      "execution_count": 8,
      "outputs": []
    },
    {
      "cell_type": "code",
      "source": [
        "list(apriori(transactions,min_support = 0.1))"
      ],
      "metadata": {
        "id": "hSHXYAaOX8uy",
        "outputId": "87a7d8e2-8e2d-4374-b8bc-af54dced6e68",
        "colab": {
          "base_uri": "https://localhost:8080/"
        }
      },
      "execution_count": 9,
      "outputs": [
        {
          "output_type": "execute_result",
          "data": {
            "text/plain": [
              "[]"
            ]
          },
          "metadata": {},
          "execution_count": 9
        }
      ]
    },
    {
      "cell_type": "code",
      "metadata": {
        "colab": {
          "base_uri": "https://localhost:8080/"
        },
        "id": "Uwysx9eLtg7H",
        "outputId": "435b616a-6dfc-418d-a28b-3ce2d9a24bde"
      },
      "source": [
        "frequentItemsets = list(apriori(transactions,min_support = 0.065))\n",
        "frequentItemsets"
      ],
      "execution_count": 10,
      "outputs": [
        {
          "output_type": "execute_result",
          "data": {
            "text/plain": [
              "[RelationRecord(items=frozenset({'22423'}), support=0.08386100386100385, ordered_statistics=[OrderedStatistic(items_base=frozenset(), items_add=frozenset({'22423'}), confidence=0.08386100386100385, lift=1.0)]),\n",
              " RelationRecord(items=frozenset({'47566'}), support=0.06586872586872587, ordered_statistics=[OrderedStatistic(items_base=frozenset(), items_add=frozenset({'47566'}), confidence=0.06586872586872587, lift=1.0)]),\n",
              " RelationRecord(items=frozenset({'85099B'}), support=0.08243243243243244, ordered_statistics=[OrderedStatistic(items_base=frozenset(), items_add=frozenset({'85099B'}), confidence=0.08243243243243244, lift=1.0)]),\n",
              " RelationRecord(items=frozenset({'85123A'}), support=0.08671814671814672, ordered_statistics=[OrderedStatistic(items_base=frozenset(), items_add=frozenset({'85123A'}), confidence=0.08671814671814672, lift=1.0)])]"
            ]
          },
          "metadata": {},
          "execution_count": 10
        }
      ]
    },
    {
      "cell_type": "code",
      "metadata": {
        "id": "Cy62VyRYubh1",
        "outputId": "e076e728-1843-4d78-c2ea-6144df51227f",
        "colab": {
          "base_uri": "https://localhost:8080/"
        }
      },
      "source": [
        "len(frequentItemsets)"
      ],
      "execution_count": 11,
      "outputs": [
        {
          "output_type": "execute_result",
          "data": {
            "text/plain": [
              "4"
            ]
          },
          "metadata": {},
          "execution_count": 11
        }
      ]
    },
    {
      "cell_type": "code",
      "source": [
        "frequentItemsets[0][0]"
      ],
      "metadata": {
        "id": "KcLWBRQWmuor",
        "outputId": "c68e7740-6b87-4438-cfdd-5fd03896f76e",
        "colab": {
          "base_uri": "https://localhost:8080/"
        }
      },
      "execution_count": 12,
      "outputs": [
        {
          "output_type": "execute_result",
          "data": {
            "text/plain": [
              "frozenset({'22423'})"
            ]
          },
          "metadata": {},
          "execution_count": 12
        }
      ]
    },
    {
      "cell_type": "code",
      "source": [
        "dir(frequentItemsets[0][0])"
      ],
      "metadata": {
        "id": "GJl8vZ_dm92S",
        "outputId": "7c896fc9-6f06-4ca0-d78d-66250c221d35",
        "colab": {
          "base_uri": "https://localhost:8080/"
        }
      },
      "execution_count": 13,
      "outputs": [
        {
          "output_type": "execute_result",
          "data": {
            "text/plain": [
              "['__and__',\n",
              " '__class__',\n",
              " '__class_getitem__',\n",
              " '__contains__',\n",
              " '__delattr__',\n",
              " '__dir__',\n",
              " '__doc__',\n",
              " '__eq__',\n",
              " '__format__',\n",
              " '__ge__',\n",
              " '__getattribute__',\n",
              " '__gt__',\n",
              " '__hash__',\n",
              " '__init__',\n",
              " '__init_subclass__',\n",
              " '__iter__',\n",
              " '__le__',\n",
              " '__len__',\n",
              " '__lt__',\n",
              " '__ne__',\n",
              " '__new__',\n",
              " '__or__',\n",
              " '__rand__',\n",
              " '__reduce__',\n",
              " '__reduce_ex__',\n",
              " '__repr__',\n",
              " '__ror__',\n",
              " '__rsub__',\n",
              " '__rxor__',\n",
              " '__setattr__',\n",
              " '__sizeof__',\n",
              " '__str__',\n",
              " '__sub__',\n",
              " '__subclasshook__',\n",
              " '__xor__',\n",
              " 'copy',\n",
              " 'difference',\n",
              " 'intersection',\n",
              " 'isdisjoint',\n",
              " 'issubset',\n",
              " 'issuperset',\n",
              " 'symmetric_difference',\n",
              " 'union']"
            ]
          },
          "metadata": {},
          "execution_count": 13
        }
      ]
    },
    {
      "cell_type": "code",
      "source": [
        "frequentItemsets[0][0].__len__()"
      ],
      "metadata": {
        "id": "XJalbowGoIZJ",
        "outputId": "6a14dd55-e510-4e48-f4ee-e0808f321d42",
        "colab": {
          "base_uri": "https://localhost:8080/"
        }
      },
      "execution_count": 14,
      "outputs": [
        {
          "output_type": "execute_result",
          "data": {
            "text/plain": [
              "1"
            ]
          },
          "metadata": {},
          "execution_count": 14
        }
      ]
    },
    {
      "cell_type": "code",
      "source": [
        "min_sup = 0.03\n",
        "\n",
        "frequentItemsets = list(apriori(transactions,min_support = min_sup))\n",
        "for i in frequentItemsets:\n",
        "    if i[0].__len__()>1:\n",
        "        print('yes')\n",
        "        print(i)"
      ],
      "metadata": {
        "id": "jM2C0KM3oVNE",
        "outputId": "d833d2f3-6ad3-42c6-ceae-71e947d70adf",
        "colab": {
          "base_uri": "https://localhost:8080/"
        }
      },
      "execution_count": 15,
      "outputs": [
        {
          "output_type": "stream",
          "name": "stdout",
          "text": [
            "yes\n",
            "RelationRecord(items=frozenset({'85099B', '22386'}), support=0.03216216216216216, ordered_statistics=[OrderedStatistic(items_base=frozenset(), items_add=frozenset({'85099B', '22386'}), confidence=0.03216216216216216, lift=1.0), OrderedStatistic(items_base=frozenset({'22386'}), items_add=frozenset({'85099B'}), confidence=0.6766856214459789, lift=8.20897311262335), OrderedStatistic(items_base=frozenset({'85099B'}), items_add=frozenset({'22386'}), confidence=0.39016393442622943, lift=8.20897311262335)])\n",
            "yes\n",
            "RelationRecord(items=frozenset({'22697', '22699'}), support=0.03027027027027027, ordered_statistics=[OrderedStatistic(items_base=frozenset(), items_add=frozenset({'22697', '22699'}), confidence=0.03027027027027027, lift=1.0), OrderedStatistic(items_base=frozenset({'22697'}), items_add=frozenset({'22699'}), confidence=0.7417218543046358, lift=17.1523178807947), OrderedStatistic(items_base=frozenset({'22699'}), items_add=frozenset({'22697'}), confidence=0.7, lift=17.1523178807947)])\n"
          ]
        }
      ]
    },
    {
      "cell_type": "markdown",
      "source": [
        "RelationRecord(items=frozenset({'22386', '85099B'}),\n",
        "\n",
        "support=0.03216216216216216,\n",
        "\n",
        "ordered_statistics=[OrderedStatistic(items_base=frozenset(), items_add=frozenset({'22386', '85099B'}), confidence=0.03216216216216216, lift=1.0),\n",
        "\n",
        "OrderedStatistic(items_base=frozenset({'22386'}), items_add=frozenset({'85099B'}), confidence=0.6766856214459789, lift=8.20897311262335),\n",
        "\n",
        "OrderedStatistic(items_base=frozenset({'85099B'}), items_add=frozenset({'22386'}), confidence=0.39016393442622943, lift=8.20897311262335)])\n"
      ],
      "metadata": {
        "id": "G1folVtqpH_v"
      }
    },
    {
      "cell_type": "code",
      "source": [
        "set(data[(data['StockCode']=='22386') | (data['StockCode']=='85099B') | (data['StockCode']=='22699') | (data['StockCode']=='22697') ]['Description'])"
      ],
      "metadata": {
        "id": "OC4mSCPGo19r",
        "outputId": "61100848-c00e-4d23-9de3-d141bdc998a7",
        "colab": {
          "base_uri": "https://localhost:8080/"
        }
      },
      "execution_count": 16,
      "outputs": [
        {
          "output_type": "execute_result",
          "data": {
            "text/plain": [
              "{'GREEN REGENCY TEACUP AND SAUCER',\n",
              " 'JUMBO BAG PINK POLKADOT',\n",
              " 'JUMBO BAG RED RETROSPOT',\n",
              " 'ROSES REGENCY TEACUP AND SAUCER '}"
            ]
          },
          "metadata": {},
          "execution_count": 16
        }
      ]
    },
    {
      "cell_type": "markdown",
      "source": [
        "RelationRecord(items=frozenset({'22699', '22697'}), support=0.03027027027027027,\n",
        "\n",
        "ordered_statistics=[OrderedStatistic(items_base=frozenset(), items_add=frozenset({'22699', '22697'}), confidence=0.03027027027027027, lift=1.0),\n",
        "\n",
        "OrderedStatistic(items_base=frozenset({'22697'}), items_add=frozenset({'22699'}), confidence=0.7417218543046358, lift=17.1523178807947),\n",
        "\n",
        "OrderedStatistic(items_base=frozenset({'22699'}), items_add=frozenset({'22697'}), confidence=0.7, lift=17.1523178807947)])"
      ],
      "metadata": {
        "id": "dYvCIbEVtyZy"
      }
    },
    {
      "cell_type": "markdown",
      "source": [
        "### quiz 22386 และ 85099B คือสินค้าอะไร"
      ],
      "metadata": {
        "id": "-1-SEADQbHIy"
      }
    },
    {
      "cell_type": "code",
      "source": [
        "data[data['StockCode']=='22386']['Description']"
      ],
      "metadata": {
        "id": "Gj-6ngp4bUyj",
        "outputId": "88d49907-6a3e-45a6-ae91-19ef8b7ef90c",
        "colab": {
          "base_uri": "https://localhost:8080/"
        }
      },
      "execution_count": 17,
      "outputs": [
        {
          "output_type": "execute_result",
          "data": {
            "text/plain": [
              "86        JUMBO BAG PINK POLKADOT\n",
              "789       JUMBO BAG PINK POLKADOT\n",
              "1428      JUMBO BAG PINK POLKADOT\n",
              "2427      JUMBO BAG PINK POLKADOT\n",
              "2712      JUMBO BAG PINK POLKADOT\n",
              "                   ...           \n",
              "534742    JUMBO BAG PINK POLKADOT\n",
              "537138    JUMBO BAG PINK POLKADOT\n",
              "539585    JUMBO BAG PINK POLKADOT\n",
              "541421    JUMBO BAG PINK POLKADOT\n",
              "541806    JUMBO BAG PINK POLKADOT\n",
              "Name: Description, Length: 1251, dtype: object"
            ]
          },
          "metadata": {},
          "execution_count": 17
        }
      ]
    },
    {
      "cell_type": "code",
      "source": [
        "data[data['StockCode']=='85099B']['Description']"
      ],
      "metadata": {
        "id": "F2HpOPaocEPS",
        "outputId": "b2d687fe-c1e0-4a1a-86e5-9aee451430b8",
        "colab": {
          "base_uri": "https://localhost:8080/"
        }
      },
      "execution_count": 18,
      "outputs": [
        {
          "output_type": "execute_result",
          "data": {
            "text/plain": [
              "177       JUMBO BAG RED RETROSPOT\n",
              "234       JUMBO BAG RED RETROSPOT\n",
              "533       JUMBO BAG RED RETROSPOT\n",
              "790       JUMBO BAG RED RETROSPOT\n",
              "1069      JUMBO BAG RED RETROSPOT\n",
              "                   ...           \n",
              "538603    JUMBO BAG RED RETROSPOT\n",
              "538913    JUMBO BAG RED RETROSPOT\n",
              "539338    JUMBO BAG RED RETROSPOT\n",
              "540434    JUMBO BAG RED RETROSPOT\n",
              "541536    JUMBO BAG RED RETROSPOT\n",
              "Name: Description, Length: 2159, dtype: object"
            ]
          },
          "metadata": {},
          "execution_count": 18
        }
      ]
    },
    {
      "cell_type": "code",
      "source": [
        "data[data['InvoiceNo']=='562950']"
      ],
      "metadata": {
        "id": "HazWszWkuW2o",
        "outputId": "083a6056-debb-451f-d7b8-f3b67f409d03",
        "colab": {
          "base_uri": "https://localhost:8080/",
          "height": 613
        }
      },
      "execution_count": 19,
      "outputs": [
        {
          "output_type": "execute_result",
          "data": {
            "text/plain": [
              "       InvoiceNo StockCode                         Description  Quantity  \\\n",
              "297488    562950     22752        SET 7 BABUSHKA NESTING BOXES         2   \n",
              "297489    562950     22755     SMALL PURPLE BABUSHKA NOTEBOOK         12   \n",
              "297490    562950     22753     SMALL YELLOW BABUSHKA NOTEBOOK         12   \n",
              "297491    562950     22754        SMALL RED BABUSHKA NOTEBOOK         12   \n",
              "297492    562950     22757        LARGE RED BABUSHKA NOTEBOOK         12   \n",
              "297493    562950     22758    LARGE PURPLE BABUSHKA NOTEBOOK          12   \n",
              "297494    562950     22756     LARGE YELLOW BABUSHKA NOTEBOOK         12   \n",
              "297495    562950     23310             BUBBLEGUM RING ASSORTED        36   \n",
              "297496    562950     23280  FOLDING BUTTERFLY MIRROR HOT PINK         12   \n",
              "297497    562950     22383              LUNCH BAG SUKI DESIGN         10   \n",
              "297498    562950     22492             MINI PAINT SET VINTAGE         36   \n",
              "297499    562950     71459      HANGING JAM JAR T-LIGHT HOLDER        12   \n",
              "297500    562950     84945  MULTI COLOUR SILVER T-LIGHT HOLDER        12   \n",
              "297501    562950     21175         GIN + TONIC DIET METAL SIGN        12   \n",
              "297502    562950     23164                  REGENCY CAKE SLICE         4   \n",
              "297503    562950     23245          SET OF 3 REGENCY CAKE TINS         4   \n",
              "297504    562950     23171            REGENCY TEA PLATE GREEN         12   \n",
              "297505    562950     22697     GREEN REGENCY TEACUP AND SAUCER         6   \n",
              "\n",
              "             InvoiceDate  UnitPrice  CustomerID         Country  \n",
              "297488  08/11/2011 09:56       8.50     15608.0  United Kingdom  \n",
              "297489  08/11/2011 09:56       0.85     15608.0  United Kingdom  \n",
              "297490  08/11/2011 09:56       0.85     15608.0  United Kingdom  \n",
              "297491  08/11/2011 09:56       0.85     15608.0  United Kingdom  \n",
              "297492  08/11/2011 09:56       1.25     15608.0  United Kingdom  \n",
              "297493  08/11/2011 09:56       1.25     15608.0  United Kingdom  \n",
              "297494  08/11/2011 09:56       1.25     15608.0  United Kingdom  \n",
              "297495  08/11/2011 09:56       0.42     15608.0  United Kingdom  \n",
              "297496  08/11/2011 09:56       0.83     15608.0  United Kingdom  \n",
              "297497  08/11/2011 09:56       1.65     15608.0  United Kingdom  \n",
              "297498  08/11/2011 09:56       0.65     15608.0  United Kingdom  \n",
              "297499  08/11/2011 09:56       0.85     15608.0  United Kingdom  \n",
              "297500  08/11/2011 09:56       0.85     15608.0  United Kingdom  \n",
              "297501  08/11/2011 09:56       2.55     15608.0  United Kingdom  \n",
              "297502  08/11/2011 09:56       4.95     15608.0  United Kingdom  \n",
              "297503  08/11/2011 09:56       4.95     15608.0  United Kingdom  \n",
              "297504  08/11/2011 09:56       1.65     15608.0  United Kingdom  \n",
              "297505  08/11/2011 09:56       2.95     15608.0  United Kingdom  "
            ],
            "text/html": [
              "\n",
              "  <div id=\"df-0a1868d4-45ab-4426-9284-3a459f6b06d3\" class=\"colab-df-container\">\n",
              "    <div>\n",
              "<style scoped>\n",
              "    .dataframe tbody tr th:only-of-type {\n",
              "        vertical-align: middle;\n",
              "    }\n",
              "\n",
              "    .dataframe tbody tr th {\n",
              "        vertical-align: top;\n",
              "    }\n",
              "\n",
              "    .dataframe thead th {\n",
              "        text-align: right;\n",
              "    }\n",
              "</style>\n",
              "<table border=\"1\" class=\"dataframe\">\n",
              "  <thead>\n",
              "    <tr style=\"text-align: right;\">\n",
              "      <th></th>\n",
              "      <th>InvoiceNo</th>\n",
              "      <th>StockCode</th>\n",
              "      <th>Description</th>\n",
              "      <th>Quantity</th>\n",
              "      <th>InvoiceDate</th>\n",
              "      <th>UnitPrice</th>\n",
              "      <th>CustomerID</th>\n",
              "      <th>Country</th>\n",
              "    </tr>\n",
              "  </thead>\n",
              "  <tbody>\n",
              "    <tr>\n",
              "      <th>297488</th>\n",
              "      <td>562950</td>\n",
              "      <td>22752</td>\n",
              "      <td>SET 7 BABUSHKA NESTING BOXES</td>\n",
              "      <td>2</td>\n",
              "      <td>08/11/2011 09:56</td>\n",
              "      <td>8.50</td>\n",
              "      <td>15608.0</td>\n",
              "      <td>United Kingdom</td>\n",
              "    </tr>\n",
              "    <tr>\n",
              "      <th>297489</th>\n",
              "      <td>562950</td>\n",
              "      <td>22755</td>\n",
              "      <td>SMALL PURPLE BABUSHKA NOTEBOOK</td>\n",
              "      <td>12</td>\n",
              "      <td>08/11/2011 09:56</td>\n",
              "      <td>0.85</td>\n",
              "      <td>15608.0</td>\n",
              "      <td>United Kingdom</td>\n",
              "    </tr>\n",
              "    <tr>\n",
              "      <th>297490</th>\n",
              "      <td>562950</td>\n",
              "      <td>22753</td>\n",
              "      <td>SMALL YELLOW BABUSHKA NOTEBOOK</td>\n",
              "      <td>12</td>\n",
              "      <td>08/11/2011 09:56</td>\n",
              "      <td>0.85</td>\n",
              "      <td>15608.0</td>\n",
              "      <td>United Kingdom</td>\n",
              "    </tr>\n",
              "    <tr>\n",
              "      <th>297491</th>\n",
              "      <td>562950</td>\n",
              "      <td>22754</td>\n",
              "      <td>SMALL RED BABUSHKA NOTEBOOK</td>\n",
              "      <td>12</td>\n",
              "      <td>08/11/2011 09:56</td>\n",
              "      <td>0.85</td>\n",
              "      <td>15608.0</td>\n",
              "      <td>United Kingdom</td>\n",
              "    </tr>\n",
              "    <tr>\n",
              "      <th>297492</th>\n",
              "      <td>562950</td>\n",
              "      <td>22757</td>\n",
              "      <td>LARGE RED BABUSHKA NOTEBOOK</td>\n",
              "      <td>12</td>\n",
              "      <td>08/11/2011 09:56</td>\n",
              "      <td>1.25</td>\n",
              "      <td>15608.0</td>\n",
              "      <td>United Kingdom</td>\n",
              "    </tr>\n",
              "    <tr>\n",
              "      <th>297493</th>\n",
              "      <td>562950</td>\n",
              "      <td>22758</td>\n",
              "      <td>LARGE PURPLE BABUSHKA NOTEBOOK</td>\n",
              "      <td>12</td>\n",
              "      <td>08/11/2011 09:56</td>\n",
              "      <td>1.25</td>\n",
              "      <td>15608.0</td>\n",
              "      <td>United Kingdom</td>\n",
              "    </tr>\n",
              "    <tr>\n",
              "      <th>297494</th>\n",
              "      <td>562950</td>\n",
              "      <td>22756</td>\n",
              "      <td>LARGE YELLOW BABUSHKA NOTEBOOK</td>\n",
              "      <td>12</td>\n",
              "      <td>08/11/2011 09:56</td>\n",
              "      <td>1.25</td>\n",
              "      <td>15608.0</td>\n",
              "      <td>United Kingdom</td>\n",
              "    </tr>\n",
              "    <tr>\n",
              "      <th>297495</th>\n",
              "      <td>562950</td>\n",
              "      <td>23310</td>\n",
              "      <td>BUBBLEGUM RING ASSORTED</td>\n",
              "      <td>36</td>\n",
              "      <td>08/11/2011 09:56</td>\n",
              "      <td>0.42</td>\n",
              "      <td>15608.0</td>\n",
              "      <td>United Kingdom</td>\n",
              "    </tr>\n",
              "    <tr>\n",
              "      <th>297496</th>\n",
              "      <td>562950</td>\n",
              "      <td>23280</td>\n",
              "      <td>FOLDING BUTTERFLY MIRROR HOT PINK</td>\n",
              "      <td>12</td>\n",
              "      <td>08/11/2011 09:56</td>\n",
              "      <td>0.83</td>\n",
              "      <td>15608.0</td>\n",
              "      <td>United Kingdom</td>\n",
              "    </tr>\n",
              "    <tr>\n",
              "      <th>297497</th>\n",
              "      <td>562950</td>\n",
              "      <td>22383</td>\n",
              "      <td>LUNCH BAG SUKI DESIGN</td>\n",
              "      <td>10</td>\n",
              "      <td>08/11/2011 09:56</td>\n",
              "      <td>1.65</td>\n",
              "      <td>15608.0</td>\n",
              "      <td>United Kingdom</td>\n",
              "    </tr>\n",
              "    <tr>\n",
              "      <th>297498</th>\n",
              "      <td>562950</td>\n",
              "      <td>22492</td>\n",
              "      <td>MINI PAINT SET VINTAGE</td>\n",
              "      <td>36</td>\n",
              "      <td>08/11/2011 09:56</td>\n",
              "      <td>0.65</td>\n",
              "      <td>15608.0</td>\n",
              "      <td>United Kingdom</td>\n",
              "    </tr>\n",
              "    <tr>\n",
              "      <th>297499</th>\n",
              "      <td>562950</td>\n",
              "      <td>71459</td>\n",
              "      <td>HANGING JAM JAR T-LIGHT HOLDER</td>\n",
              "      <td>12</td>\n",
              "      <td>08/11/2011 09:56</td>\n",
              "      <td>0.85</td>\n",
              "      <td>15608.0</td>\n",
              "      <td>United Kingdom</td>\n",
              "    </tr>\n",
              "    <tr>\n",
              "      <th>297500</th>\n",
              "      <td>562950</td>\n",
              "      <td>84945</td>\n",
              "      <td>MULTI COLOUR SILVER T-LIGHT HOLDER</td>\n",
              "      <td>12</td>\n",
              "      <td>08/11/2011 09:56</td>\n",
              "      <td>0.85</td>\n",
              "      <td>15608.0</td>\n",
              "      <td>United Kingdom</td>\n",
              "    </tr>\n",
              "    <tr>\n",
              "      <th>297501</th>\n",
              "      <td>562950</td>\n",
              "      <td>21175</td>\n",
              "      <td>GIN + TONIC DIET METAL SIGN</td>\n",
              "      <td>12</td>\n",
              "      <td>08/11/2011 09:56</td>\n",
              "      <td>2.55</td>\n",
              "      <td>15608.0</td>\n",
              "      <td>United Kingdom</td>\n",
              "    </tr>\n",
              "    <tr>\n",
              "      <th>297502</th>\n",
              "      <td>562950</td>\n",
              "      <td>23164</td>\n",
              "      <td>REGENCY CAKE SLICE</td>\n",
              "      <td>4</td>\n",
              "      <td>08/11/2011 09:56</td>\n",
              "      <td>4.95</td>\n",
              "      <td>15608.0</td>\n",
              "      <td>United Kingdom</td>\n",
              "    </tr>\n",
              "    <tr>\n",
              "      <th>297503</th>\n",
              "      <td>562950</td>\n",
              "      <td>23245</td>\n",
              "      <td>SET OF 3 REGENCY CAKE TINS</td>\n",
              "      <td>4</td>\n",
              "      <td>08/11/2011 09:56</td>\n",
              "      <td>4.95</td>\n",
              "      <td>15608.0</td>\n",
              "      <td>United Kingdom</td>\n",
              "    </tr>\n",
              "    <tr>\n",
              "      <th>297504</th>\n",
              "      <td>562950</td>\n",
              "      <td>23171</td>\n",
              "      <td>REGENCY TEA PLATE GREEN</td>\n",
              "      <td>12</td>\n",
              "      <td>08/11/2011 09:56</td>\n",
              "      <td>1.65</td>\n",
              "      <td>15608.0</td>\n",
              "      <td>United Kingdom</td>\n",
              "    </tr>\n",
              "    <tr>\n",
              "      <th>297505</th>\n",
              "      <td>562950</td>\n",
              "      <td>22697</td>\n",
              "      <td>GREEN REGENCY TEACUP AND SAUCER</td>\n",
              "      <td>6</td>\n",
              "      <td>08/11/2011 09:56</td>\n",
              "      <td>2.95</td>\n",
              "      <td>15608.0</td>\n",
              "      <td>United Kingdom</td>\n",
              "    </tr>\n",
              "  </tbody>\n",
              "</table>\n",
              "</div>\n",
              "    <div class=\"colab-df-buttons\">\n",
              "\n",
              "  <div class=\"colab-df-container\">\n",
              "    <button class=\"colab-df-convert\" onclick=\"convertToInteractive('df-0a1868d4-45ab-4426-9284-3a459f6b06d3')\"\n",
              "            title=\"Convert this dataframe to an interactive table.\"\n",
              "            style=\"display:none;\">\n",
              "\n",
              "  <svg xmlns=\"http://www.w3.org/2000/svg\" height=\"24px\" viewBox=\"0 -960 960 960\">\n",
              "    <path d=\"M120-120v-720h720v720H120Zm60-500h600v-160H180v160Zm220 220h160v-160H400v160Zm0 220h160v-160H400v160ZM180-400h160v-160H180v160Zm440 0h160v-160H620v160ZM180-180h160v-160H180v160Zm440 0h160v-160H620v160Z\"/>\n",
              "  </svg>\n",
              "    </button>\n",
              "\n",
              "  <style>\n",
              "    .colab-df-container {\n",
              "      display:flex;\n",
              "      gap: 12px;\n",
              "    }\n",
              "\n",
              "    .colab-df-convert {\n",
              "      background-color: #E8F0FE;\n",
              "      border: none;\n",
              "      border-radius: 50%;\n",
              "      cursor: pointer;\n",
              "      display: none;\n",
              "      fill: #1967D2;\n",
              "      height: 32px;\n",
              "      padding: 0 0 0 0;\n",
              "      width: 32px;\n",
              "    }\n",
              "\n",
              "    .colab-df-convert:hover {\n",
              "      background-color: #E2EBFA;\n",
              "      box-shadow: 0px 1px 2px rgba(60, 64, 67, 0.3), 0px 1px 3px 1px rgba(60, 64, 67, 0.15);\n",
              "      fill: #174EA6;\n",
              "    }\n",
              "\n",
              "    .colab-df-buttons div {\n",
              "      margin-bottom: 4px;\n",
              "    }\n",
              "\n",
              "    [theme=dark] .colab-df-convert {\n",
              "      background-color: #3B4455;\n",
              "      fill: #D2E3FC;\n",
              "    }\n",
              "\n",
              "    [theme=dark] .colab-df-convert:hover {\n",
              "      background-color: #434B5C;\n",
              "      box-shadow: 0px 1px 3px 1px rgba(0, 0, 0, 0.15);\n",
              "      filter: drop-shadow(0px 1px 2px rgba(0, 0, 0, 0.3));\n",
              "      fill: #FFFFFF;\n",
              "    }\n",
              "  </style>\n",
              "\n",
              "    <script>\n",
              "      const buttonEl =\n",
              "        document.querySelector('#df-0a1868d4-45ab-4426-9284-3a459f6b06d3 button.colab-df-convert');\n",
              "      buttonEl.style.display =\n",
              "        google.colab.kernel.accessAllowed ? 'block' : 'none';\n",
              "\n",
              "      async function convertToInteractive(key) {\n",
              "        const element = document.querySelector('#df-0a1868d4-45ab-4426-9284-3a459f6b06d3');\n",
              "        const dataTable =\n",
              "          await google.colab.kernel.invokeFunction('convertToInteractive',\n",
              "                                                    [key], {});\n",
              "        if (!dataTable) return;\n",
              "\n",
              "        const docLinkHtml = 'Like what you see? Visit the ' +\n",
              "          '<a target=\"_blank\" href=https://colab.research.google.com/notebooks/data_table.ipynb>data table notebook</a>'\n",
              "          + ' to learn more about interactive tables.';\n",
              "        element.innerHTML = '';\n",
              "        dataTable['output_type'] = 'display_data';\n",
              "        await google.colab.output.renderOutput(dataTable, element);\n",
              "        const docLink = document.createElement('div');\n",
              "        docLink.innerHTML = docLinkHtml;\n",
              "        element.appendChild(docLink);\n",
              "      }\n",
              "    </script>\n",
              "  </div>\n",
              "\n",
              "\n",
              "<div id=\"df-fd4f46fe-7b80-4ca1-b0fe-758ccc1175de\">\n",
              "  <button class=\"colab-df-quickchart\" onclick=\"quickchart('df-fd4f46fe-7b80-4ca1-b0fe-758ccc1175de')\"\n",
              "            title=\"Suggest charts\"\n",
              "            style=\"display:none;\">\n",
              "\n",
              "<svg xmlns=\"http://www.w3.org/2000/svg\" height=\"24px\"viewBox=\"0 0 24 24\"\n",
              "     width=\"24px\">\n",
              "    <g>\n",
              "        <path d=\"M19 3H5c-1.1 0-2 .9-2 2v14c0 1.1.9 2 2 2h14c1.1 0 2-.9 2-2V5c0-1.1-.9-2-2-2zM9 17H7v-7h2v7zm4 0h-2V7h2v10zm4 0h-2v-4h2v4z\"/>\n",
              "    </g>\n",
              "</svg>\n",
              "  </button>\n",
              "\n",
              "<style>\n",
              "  .colab-df-quickchart {\n",
              "      --bg-color: #E8F0FE;\n",
              "      --fill-color: #1967D2;\n",
              "      --hover-bg-color: #E2EBFA;\n",
              "      --hover-fill-color: #174EA6;\n",
              "      --disabled-fill-color: #AAA;\n",
              "      --disabled-bg-color: #DDD;\n",
              "  }\n",
              "\n",
              "  [theme=dark] .colab-df-quickchart {\n",
              "      --bg-color: #3B4455;\n",
              "      --fill-color: #D2E3FC;\n",
              "      --hover-bg-color: #434B5C;\n",
              "      --hover-fill-color: #FFFFFF;\n",
              "      --disabled-bg-color: #3B4455;\n",
              "      --disabled-fill-color: #666;\n",
              "  }\n",
              "\n",
              "  .colab-df-quickchart {\n",
              "    background-color: var(--bg-color);\n",
              "    border: none;\n",
              "    border-radius: 50%;\n",
              "    cursor: pointer;\n",
              "    display: none;\n",
              "    fill: var(--fill-color);\n",
              "    height: 32px;\n",
              "    padding: 0;\n",
              "    width: 32px;\n",
              "  }\n",
              "\n",
              "  .colab-df-quickchart:hover {\n",
              "    background-color: var(--hover-bg-color);\n",
              "    box-shadow: 0 1px 2px rgba(60, 64, 67, 0.3), 0 1px 3px 1px rgba(60, 64, 67, 0.15);\n",
              "    fill: var(--button-hover-fill-color);\n",
              "  }\n",
              "\n",
              "  .colab-df-quickchart-complete:disabled,\n",
              "  .colab-df-quickchart-complete:disabled:hover {\n",
              "    background-color: var(--disabled-bg-color);\n",
              "    fill: var(--disabled-fill-color);\n",
              "    box-shadow: none;\n",
              "  }\n",
              "\n",
              "  .colab-df-spinner {\n",
              "    border: 2px solid var(--fill-color);\n",
              "    border-color: transparent;\n",
              "    border-bottom-color: var(--fill-color);\n",
              "    animation:\n",
              "      spin 1s steps(1) infinite;\n",
              "  }\n",
              "\n",
              "  @keyframes spin {\n",
              "    0% {\n",
              "      border-color: transparent;\n",
              "      border-bottom-color: var(--fill-color);\n",
              "      border-left-color: var(--fill-color);\n",
              "    }\n",
              "    20% {\n",
              "      border-color: transparent;\n",
              "      border-left-color: var(--fill-color);\n",
              "      border-top-color: var(--fill-color);\n",
              "    }\n",
              "    30% {\n",
              "      border-color: transparent;\n",
              "      border-left-color: var(--fill-color);\n",
              "      border-top-color: var(--fill-color);\n",
              "      border-right-color: var(--fill-color);\n",
              "    }\n",
              "    40% {\n",
              "      border-color: transparent;\n",
              "      border-right-color: var(--fill-color);\n",
              "      border-top-color: var(--fill-color);\n",
              "    }\n",
              "    60% {\n",
              "      border-color: transparent;\n",
              "      border-right-color: var(--fill-color);\n",
              "    }\n",
              "    80% {\n",
              "      border-color: transparent;\n",
              "      border-right-color: var(--fill-color);\n",
              "      border-bottom-color: var(--fill-color);\n",
              "    }\n",
              "    90% {\n",
              "      border-color: transparent;\n",
              "      border-bottom-color: var(--fill-color);\n",
              "    }\n",
              "  }\n",
              "</style>\n",
              "\n",
              "  <script>\n",
              "    async function quickchart(key) {\n",
              "      const quickchartButtonEl =\n",
              "        document.querySelector('#' + key + ' button');\n",
              "      quickchartButtonEl.disabled = true;  // To prevent multiple clicks.\n",
              "      quickchartButtonEl.classList.add('colab-df-spinner');\n",
              "      try {\n",
              "        const charts = await google.colab.kernel.invokeFunction(\n",
              "            'suggestCharts', [key], {});\n",
              "      } catch (error) {\n",
              "        console.error('Error during call to suggestCharts:', error);\n",
              "      }\n",
              "      quickchartButtonEl.classList.remove('colab-df-spinner');\n",
              "      quickchartButtonEl.classList.add('colab-df-quickchart-complete');\n",
              "    }\n",
              "    (() => {\n",
              "      let quickchartButtonEl =\n",
              "        document.querySelector('#df-fd4f46fe-7b80-4ca1-b0fe-758ccc1175de button');\n",
              "      quickchartButtonEl.style.display =\n",
              "        google.colab.kernel.accessAllowed ? 'block' : 'none';\n",
              "    })();\n",
              "  </script>\n",
              "</div>\n",
              "    </div>\n",
              "  </div>\n"
            ]
          },
          "metadata": {},
          "execution_count": 19
        }
      ]
    },
    {
      "cell_type": "markdown",
      "source": [
        "### Hw หา Frequent Item Set และ Association Rules\n",
        "*   ของช่วงเวลา Chirtmas & New Year(1 Dec -31 Dec)\n",
        "*   ของประเทศในทวีป Europe\n",
        "*   ของช่วงเวลา ตรุษจีน ในทวีป Asai (15 jan-15 Feb)\n",
        "*ของช่วงเวลา Chirtmas & New Year ในทวีป Europe (1 Dec -31 Dec)\n",
        "*   ของวันวาเลนไทน์\n",
        "*   โดยจัดกลุ่มตามประเทศ+เดือน"
      ],
      "metadata": {
        "id": "beDfFAfUfNfx"
      }
    },
    {
      "cell_type": "code",
      "source": [
        "!pip install apyori"
      ],
      "metadata": {
        "id": "2vRe-qS6fkIC",
        "outputId": "cda6c59d-a183-4778-f4c1-366ccd151555",
        "colab": {
          "base_uri": "https://localhost:8080/"
        }
      },
      "execution_count": 22,
      "outputs": [
        {
          "output_type": "stream",
          "name": "stdout",
          "text": [
            "Requirement already satisfied: apyori in /usr/local/lib/python3.10/dist-packages (1.1.2)\n"
          ]
        }
      ]
    },
    {
      "cell_type": "code",
      "source": [
        "from apyori import apriori"
      ],
      "metadata": {
        "id": "trlFYctOf3iI"
      },
      "execution_count": 23,
      "outputs": []
    },
    {
      "cell_type": "code",
      "source": [
        "df = pd.read_csv(os.path.join(path, 'reduced_marketbasket.csv'), encoding='latin-1')"
      ],
      "metadata": {
        "id": "_RD4LFZ9f7IC"
      },
      "execution_count": 24,
      "outputs": []
    },
    {
      "cell_type": "markdown",
      "source": [
        "## ข้อ 1. ช่วงเวลา Chirtmas & New Year(1 Dec -31 Dec)"
      ],
      "metadata": {
        "id": "ib8Tr7V8gARO"
      }
    },
    {
      "cell_type": "code",
      "source": [
        "# Convert รูปแบบเวลาใน column InvoiceDate ให้อยู่ในรูปที่ต้องการ\n",
        "df['InvoiceDate'] = pd.to_datetime(df['InvoiceDate'], format='%m/%d/%Y %H:%M')"
      ],
      "metadata": {
        "id": "TQr1C-LcgBr0"
      },
      "execution_count": 25,
      "outputs": []
    },
    {
      "cell_type": "code",
      "source": [
        "# Filter December 1st to December 31st\n",
        "filtered_df = df[(df['InvoiceDate'].dt.month == 12) & (df['InvoiceDate'].dt.day >= 1) & (df['InvoiceDate'].dt.day <= 31)]\n",
        "\n",
        "#ปริ้นเพื่อตรวจสอบ\n",
        "print(filtered_df)"
      ],
      "metadata": {
        "id": "9rSPaUhTgFrG",
        "outputId": "76d4ac6c-5ccc-4147-9815-fbd4e12a358a",
        "colab": {
          "base_uri": "https://localhost:8080/"
        }
      },
      "execution_count": 26,
      "outputs": [
        {
          "output_type": "stream",
          "name": "stdout",
          "text": [
            "       InvoiceNo StockCode                          Description  Quantity  \\\n",
            "0         536365    85123A   WHITE HANGING HEART T-LIGHT HOLDER         6   \n",
            "1         536365     71053                  WHITE METAL LANTERN         6   \n",
            "2         536365    84406B       CREAM CUPID HEARTS COAT HANGER         8   \n",
            "3         536365    84029G  KNITTED UNION FLAG HOT WATER BOTTLE         6   \n",
            "4         536365    84029E       RED WOOLLY HOTTIE WHITE HEART.         6   \n",
            "...          ...       ...                                  ...       ...   \n",
            "541904    581587     22613          PACK OF 20 SPACEBOY NAPKINS        12   \n",
            "541905    581587     22899         CHILDREN'S APRON DOLLY GIRL          6   \n",
            "541906    581587     23254        CHILDRENS CUTLERY DOLLY GIRL          4   \n",
            "541907    581587     23255      CHILDRENS CUTLERY CIRCUS PARADE         4   \n",
            "541908    581587     22138        BAKING SET 9 PIECE RETROSPOT          3   \n",
            "\n",
            "               InvoiceDate  UnitPrice  CustomerID         Country  \n",
            "0      2010-12-01 08:26:00       2.55     17850.0  United Kingdom  \n",
            "1      2010-12-01 08:26:00       3.39     17850.0  United Kingdom  \n",
            "2      2010-12-01 08:26:00       2.75     17850.0  United Kingdom  \n",
            "3      2010-12-01 08:26:00       3.39     17850.0  United Kingdom  \n",
            "4      2010-12-01 08:26:00       3.39     17850.0  United Kingdom  \n",
            "...                    ...        ...         ...             ...  \n",
            "541904 2011-12-09 12:50:00       0.85     12680.0          France  \n",
            "541905 2011-12-09 12:50:00       2.10     12680.0          France  \n",
            "541906 2011-12-09 12:50:00       4.15     12680.0          France  \n",
            "541907 2011-12-09 12:50:00       4.15     12680.0          France  \n",
            "541908 2011-12-09 12:50:00       4.95     12680.0          France  \n",
            "\n",
            "[68006 rows x 8 columns]\n"
          ]
        }
      ]
    },
    {
      "cell_type": "code",
      "source": [
        "# transactions= filtered_df.groupby('InvoiceNo')['StockCode'].apply(list)\n",
        "# transactions  ### ถ้าใช้ transactions แทน transactions_apply จะเป็นการโชว์ StockCode แทนข้อมูลสินค้า ###"
      ],
      "metadata": {
        "id": "eZDtRU3jgJ8x"
      },
      "execution_count": 27,
      "outputs": []
    },
    {
      "cell_type": "code",
      "source": [
        "transactions = filtered_df.groupby('InvoiceNo')['Description'].apply(list).reset_index() #ทำการ group และทำให้ข้อมูลใน Description เป็นlist\n",
        "transactions_apply = transactions['Description'].apply(lambda x: [str(item) for item in x]) #ใช้ฟังก์ชัน lambda เพื่อแปลงสินค้าทุกชิ้นใน list ของ 'transactions' เป็นข้อความ (string)"
      ],
      "metadata": {
        "id": "5ayuMClJgM3h"
      },
      "execution_count": 28,
      "outputs": []
    },
    {
      "cell_type": "code",
      "source": [
        "frequentItemset = list(apriori(transactions_apply, min_support=0.035))\n",
        "\n",
        "for record in frequentItemset:\n",
        "    if len(record.items) > 1:\n",
        "        print('yes')\n",
        "        print(f\"Items: {', '.join(record.items)}\")\n",
        "        print(f\"Support: {record.support:.4f} ({record.support*100:.2f}%)\")\n",
        "\n",
        "        for i, stat in enumerate(record.ordered_statistics, 1):\n",
        "            items_base = 'None' if not stat.items_base else ', '.join(stat.items_base)\n",
        "            items_add = ', '.join(stat.items_add)\n",
        "            confidence = stat.confidence\n",
        "            lift = stat.lift\n",
        "\n",
        "            print(f\"Rule {i}: ({items_base} -> {items_add} : Confidence={confidence:.4f}, Lift={lift:.4f})\")\n",
        "        print()"
      ],
      "metadata": {
        "id": "zWcp6eYZgRwg",
        "outputId": "71b0417c-d342-4a2b-ab62-f0f2feec37d0",
        "colab": {
          "base_uri": "https://localhost:8080/"
        }
      },
      "execution_count": 29,
      "outputs": [
        {
          "output_type": "stream",
          "name": "stdout",
          "text": [
            "yes\n",
            "Items: ALARM CLOCK BAKELIKE RED , ALARM CLOCK BAKELIKE GREEN\n",
            "Support: 0.0368 (3.68%)\n",
            "Rule 1: (None -> ALARM CLOCK BAKELIKE RED , ALARM CLOCK BAKELIKE GREEN : Confidence=0.0368, Lift=1.0000)\n",
            "Rule 2: (ALARM CLOCK BAKELIKE GREEN -> ALARM CLOCK BAKELIKE RED  : Confidence=0.7089, Lift=14.4627)\n",
            "Rule 3: (ALARM CLOCK BAKELIKE RED  -> ALARM CLOCK BAKELIKE GREEN : Confidence=0.7517, Lift=14.4627)\n",
            "\n",
            "yes\n",
            "Items: CHOCOLATE HOT WATER BOTTLE, HOT WATER BOTTLE I AM SO POORLY\n",
            "Support: 0.0365 (3.65%)\n",
            "Rule 1: (None -> CHOCOLATE HOT WATER BOTTLE, HOT WATER BOTTLE I AM SO POORLY : Confidence=0.0365, Lift=1.0000)\n",
            "Rule 2: (CHOCOLATE HOT WATER BOTTLE -> HOT WATER BOTTLE I AM SO POORLY : Confidence=0.5163, Lift=9.7484)\n",
            "Rule 3: (HOT WATER BOTTLE I AM SO POORLY -> CHOCOLATE HOT WATER BOTTLE : Confidence=0.6894, Lift=9.7484)\n",
            "\n",
            "yes\n",
            "Items: PAPER CHAIN KIT 50'S CHRISTMAS , PAPER CHAIN KIT VINTAGE CHRISTMAS\n",
            "Support: 0.0477 (4.77%)\n",
            "Rule 1: (None -> PAPER CHAIN KIT 50'S CHRISTMAS , PAPER CHAIN KIT VINTAGE CHRISTMAS : Confidence=0.0477, Lift=1.0000)\n",
            "Rule 2: (PAPER CHAIN KIT 50'S CHRISTMAS  -> PAPER CHAIN KIT VINTAGE CHRISTMAS : Confidence=0.5160, Lift=7.1958)\n",
            "Rule 3: (PAPER CHAIN KIT VINTAGE CHRISTMAS -> PAPER CHAIN KIT 50'S CHRISTMAS  : Confidence=0.6651, Lift=7.1958)\n",
            "\n"
          ]
        }
      ]
    },
    {
      "cell_type": "markdown",
      "source": [
        "สรุป เลือกอันที่มีค่าสนับสนุนมากที่สุด\n",
        "\n",
        "\n",
        "*   Items: PAPER CHAIN KIT VINTAGE CHRISTMAS และ PAPER CHAIN KIT 50'S CHRISTMAS\n",
        "ค่าสนับสนุนคือ 0.0477 หรือ 4.77% ของการทำธุรกรรมทั้งหมด\n",
        "*เมื่อ 'PAPER CHAIN KIT 50'S CHRISTMAS' ถูกซื้อ มีความมั่นใจ 51.60% ว่า 'PAPER CHAIN KIT VINTAGE CHRISTMAS' จะถูกซื้อด้วย\n",
        "* เมื่อ 'PAPER CHAIN KIT VINTAGE CHRISTMAS' ถูกซื้อ มีโอกาส 66.51% ว่า 'PAPER\n",
        "CHAIN KIT 50'S CHRISTMAS' จะถูกซื้อด้ว"
      ],
      "metadata": {
        "id": "kMm2S8UlgZOt"
      }
    },
    {
      "cell_type": "markdown",
      "source": [
        "##ข้อ 2. ประเทศในทวีป Europe"
      ],
      "metadata": {
        "id": "Ibg1igXsgxWF"
      }
    },
    {
      "cell_type": "code",
      "source": [
        "europe_countries = {\n",
        "    'Austria', 'Belgium', 'Channel Islands','Cyprus', 'Czech Republic', 'Denmark', 'EIRE',\n",
        "    'European Community', 'Finland', 'France', 'Germany', 'Greece', 'Iceland', 'Italy',\n",
        "    'Lithuania', 'Malta', 'Netherlands', 'Norway', 'Poland', 'Portugal', 'Spain', 'Sweden',\n",
        "    'Switzerland', 'United Kingdom'\n",
        "}"
      ],
      "metadata": {
        "id": "hmejnBV0gzVe"
      },
      "execution_count": 30,
      "outputs": []
    },
    {
      "cell_type": "code",
      "source": [
        "# เลือกประเทศจาก european_countries\n",
        "filtered_df2 = df[df['Country'].isin(europe_countries)]\n",
        "\n",
        "# โชว์ datafram เพื่อcheck\n",
        "print(filtered_df2)"
      ],
      "metadata": {
        "id": "FgFn50uGg4Iy",
        "outputId": "972ef8df-d8ec-4eff-e511-5a8ae41ea366",
        "colab": {
          "base_uri": "https://localhost:8080/"
        }
      },
      "execution_count": 31,
      "outputs": [
        {
          "output_type": "stream",
          "name": "stdout",
          "text": [
            "       InvoiceNo StockCode                          Description  Quantity  \\\n",
            "0         536365    85123A   WHITE HANGING HEART T-LIGHT HOLDER         6   \n",
            "1         536365     71053                  WHITE METAL LANTERN         6   \n",
            "2         536365    84406B       CREAM CUPID HEARTS COAT HANGER         8   \n",
            "3         536365    84029G  KNITTED UNION FLAG HOT WATER BOTTLE         6   \n",
            "4         536365    84029E       RED WOOLLY HOTTIE WHITE HEART.         6   \n",
            "...          ...       ...                                  ...       ...   \n",
            "541904    581587     22613          PACK OF 20 SPACEBOY NAPKINS        12   \n",
            "541905    581587     22899         CHILDREN'S APRON DOLLY GIRL          6   \n",
            "541906    581587     23254        CHILDRENS CUTLERY DOLLY GIRL          4   \n",
            "541907    581587     23255      CHILDRENS CUTLERY CIRCUS PARADE         4   \n",
            "541908    581587     22138        BAKING SET 9 PIECE RETROSPOT          3   \n",
            "\n",
            "               InvoiceDate  UnitPrice  CustomerID         Country  \n",
            "0      2010-12-01 08:26:00       2.55     17850.0  United Kingdom  \n",
            "1      2010-12-01 08:26:00       3.39     17850.0  United Kingdom  \n",
            "2      2010-12-01 08:26:00       2.75     17850.0  United Kingdom  \n",
            "3      2010-12-01 08:26:00       3.39     17850.0  United Kingdom  \n",
            "4      2010-12-01 08:26:00       3.39     17850.0  United Kingdom  \n",
            "...                    ...        ...         ...             ...  \n",
            "541904 2011-12-09 12:50:00       0.85     12680.0          France  \n",
            "541905 2011-12-09 12:50:00       2.10     12680.0          France  \n",
            "541906 2011-12-09 12:50:00       4.15     12680.0          France  \n",
            "541907 2011-12-09 12:50:00       4.15     12680.0          France  \n",
            "541908 2011-12-09 12:50:00       4.95     12680.0          France  \n",
            "\n",
            "[538358 rows x 8 columns]\n"
          ]
        }
      ]
    },
    {
      "cell_type": "code",
      "source": [
        "transactions2 = filtered_df2.groupby('InvoiceNo')['Description'].apply(list).reset_index() #ทำการ group และทำให้ข้อมูลใน Description เป็นlist\n",
        "transactions_apply2 = transactions2['Description'].apply(lambda x: [str(item) for item in x]) #ใช้ฟังก์ชัน lambda เพื่อแปลงสินค้าทุกชิ้นใน list ของ 'transactions' เป็นข้อความ (string)"
      ],
      "metadata": {
        "id": "N0NMgmZBg8fq"
      },
      "execution_count": 32,
      "outputs": []
    },
    {
      "cell_type": "code",
      "source": [
        "frequentItemset2 = list(apriori(transactions_apply2, min_support=0.025))\n",
        "\n",
        "for record in frequentItemset2:\n",
        "    if len(record.items) > 1:\n",
        "        print('yes')\n",
        "        print(f\"Items: {', '.join(record.items)}\")\n",
        "        print(f\"Support: {record.support:.4f} ({record.support*100:.2f}%)\")\n",
        "\n",
        "        for i, stat in enumerate(record.ordered_statistics, 1):\n",
        "            items_base = 'None' if not stat.items_base else ', '.join(stat.items_base)\n",
        "            items_add = ', '.join(stat.items_add)\n",
        "            confidence = stat.confidence\n",
        "            lift = stat.lift\n",
        "\n",
        "            print(f\"Rule {i}: ({items_base} -> {items_add} : Confidence={confidence:.4f}, Lift={lift:.4f})\")\n",
        "        print()"
      ],
      "metadata": {
        "id": "EhN50jTOhCnn",
        "outputId": "73a667c2-59b0-466e-8111-d7323f2a1f41",
        "colab": {
          "base_uri": "https://localhost:8080/"
        }
      },
      "execution_count": 33,
      "outputs": [
        {
          "output_type": "stream",
          "name": "stdout",
          "text": [
            "yes\n",
            "Items: ROSES REGENCY TEACUP AND SAUCER , GREEN REGENCY TEACUP AND SAUCER\n",
            "Support: 0.0301 (3.01%)\n",
            "Rule 1: (None -> ROSES REGENCY TEACUP AND SAUCER , GREEN REGENCY TEACUP AND SAUCER : Confidence=0.0301, Lift=1.0000)\n",
            "Rule 2: (GREEN REGENCY TEACUP AND SAUCER -> ROSES REGENCY TEACUP AND SAUCER  : Confidence=0.7402, Lift=17.2054)\n",
            "Rule 3: (ROSES REGENCY TEACUP AND SAUCER  -> GREEN REGENCY TEACUP AND SAUCER : Confidence=0.7001, Lift=17.2054)\n",
            "\n",
            "yes\n",
            "Items: JUMBO BAG RED RETROSPOT, JUMBO BAG PINK POLKADOT\n",
            "Support: 0.0323 (3.23%)\n",
            "Rule 1: (None -> JUMBO BAG RED RETROSPOT, JUMBO BAG PINK POLKADOT : Confidence=0.0323, Lift=1.0000)\n",
            "Rule 2: (JUMBO BAG PINK POLKADOT -> JUMBO BAG RED RETROSPOT : Confidence=0.6775, Lift=8.2039)\n",
            "Rule 3: (JUMBO BAG RED RETROSPOT -> JUMBO BAG PINK POLKADOT : Confidence=0.3915, Lift=8.2039)\n",
            "\n",
            "yes\n",
            "Items: JUMBO SHOPPER VINTAGE RED PAISLEY, JUMBO BAG RED RETROSPOT\n",
            "Support: 0.0265 (2.65%)\n",
            "Rule 1: (None -> JUMBO SHOPPER VINTAGE RED PAISLEY, JUMBO BAG RED RETROSPOT : Confidence=0.0265, Lift=1.0000)\n",
            "Rule 2: (JUMBO BAG RED RETROSPOT -> JUMBO SHOPPER VINTAGE RED PAISLEY : Confidence=0.3209, Lift=6.9807)\n",
            "Rule 3: (JUMBO SHOPPER VINTAGE RED PAISLEY -> JUMBO BAG RED RETROSPOT : Confidence=0.5765, Lift=6.9807)\n",
            "\n",
            "yes\n",
            "Items: JUMBO BAG RED RETROSPOT, JUMBO STORAGE BAG SUKI\n",
            "Support: 0.0285 (2.85%)\n",
            "Rule 1: (None -> JUMBO BAG RED RETROSPOT, JUMBO STORAGE BAG SUKI : Confidence=0.0285, Lift=1.0000)\n",
            "Rule 2: (JUMBO BAG RED RETROSPOT -> JUMBO STORAGE BAG SUKI : Confidence=0.3449, Lift=7.4026)\n",
            "Rule 3: (JUMBO STORAGE BAG SUKI -> JUMBO BAG RED RETROSPOT : Confidence=0.6113, Lift=7.4026)\n",
            "\n",
            "yes\n",
            "Items: LUNCH BAG  BLACK SKULL., LUNCH BAG RED RETROSPOT\n",
            "Support: 0.0251 (2.51%)\n",
            "Rule 1: (None -> LUNCH BAG  BLACK SKULL., LUNCH BAG RED RETROSPOT : Confidence=0.0251, Lift=1.0000)\n",
            "Rule 2: (LUNCH BAG  BLACK SKULL. -> LUNCH BAG RED RETROSPOT : Confidence=0.5012, Lift=8.1052)\n",
            "Rule 3: (LUNCH BAG RED RETROSPOT -> LUNCH BAG  BLACK SKULL. : Confidence=0.4060, Lift=8.1052)\n",
            "\n"
          ]
        }
      ]
    },
    {
      "cell_type": "markdown",
      "source": [
        "##ข้อ 3. ช่วงเวลา ตรุษจีน ในทวีป Asai (15 jan-15 Feb)"
      ],
      "metadata": {
        "id": "lo93_HZDhI5G"
      }
    },
    {
      "cell_type": "code",
      "source": [
        "asia_countries= {\n",
        "    'Bahrain', 'Hong Kong', 'Israel', 'Japan', 'Lebanon', 'Saudi Arabia', 'Singapore', 'United Arab Emirates'\n",
        "}"
      ],
      "metadata": {
        "id": "wafZqZH3hKK4"
      },
      "execution_count": 34,
      "outputs": []
    },
    {
      "cell_type": "code",
      "source": [
        "# เลือกวันตรุษจีน ในทวีป Asai (15 jan-15 Feb)\n",
        "filtered_df3 = df[\n",
        "     (((df['InvoiceDate'].dt.month == 1) & (df['InvoiceDate'].dt.day >= 15)) |\n",
        "    ((df['InvoiceDate'].dt.month == 2) & (df['InvoiceDate'].dt.day <= 15))) &\n",
        "    (df['Country'].isin(asia_countries))\n",
        "]\n",
        "\n",
        "\n",
        "# โชว์ datafram เพื่อcheck\n",
        "print(filtered_df3)"
      ],
      "metadata": {
        "id": "ScgdA_mihOs9",
        "outputId": "25d681f8-531e-46ed-a5ac-bae3bb2e7924",
        "colab": {
          "base_uri": "https://localhost:8080/"
        }
      },
      "execution_count": 35,
      "outputs": [
        {
          "output_type": "stream",
          "name": "stdout",
          "text": [
            "      InvoiceNo StockCode                          Description  Quantity  \\\n",
            "69623    541975     22620          4 TRADITIONAL SPINNING TOPS        60   \n",
            "69624    541975    85183B  CHARLIE & LOLA WASTEPAPER BIN FLORA         6   \n",
            "69625    541975    85183A   CHARLIE & LOLA WASTEPAPER BIN BLUE         6   \n",
            "69626    541975     16236                 KITTY PENCIL ERASERS        28   \n",
            "69627    541975     21058               PARTY INVITES WOODLAND        12   \n",
            "...         ...       ...                                  ...       ...   \n",
            "89595    543911    47590B          PINK HAPPY BIRTHDAY BUNTING        12   \n",
            "89596    543911     22117     METAL SIGN HER DINNER IS SERVED         12   \n",
            "89597    543911     82567            AIRLINE LOUNGE,METAL SIGN        12   \n",
            "89598    543911     21910                  WAY OUT METAL SIGN         12   \n",
            "89599    543911     21911                   GARDEN METAL SIGN         12   \n",
            "\n",
            "              InvoiceDate  UnitPrice  CustomerID               Country  \n",
            "69623 2011-01-24 14:24:00       1.25         NaN             Hong Kong  \n",
            "69624 2011-01-24 14:24:00       3.75         NaN             Hong Kong  \n",
            "69625 2011-01-24 14:24:00       3.75         NaN             Hong Kong  \n",
            "69626 2011-01-24 14:24:00       0.21         NaN             Hong Kong  \n",
            "69627 2011-01-24 14:24:00       0.85         NaN             Hong Kong  \n",
            "...                   ...        ...         ...                   ...  \n",
            "89595 2011-02-14 12:46:00       5.45     17829.0  United Arab Emirates  \n",
            "89596 2011-02-14 12:46:00       2.95     17829.0  United Arab Emirates  \n",
            "89597 2011-02-14 12:46:00       2.10     17829.0  United Arab Emirates  \n",
            "89598 2011-02-14 12:46:00       1.65     17829.0  United Arab Emirates  \n",
            "89599 2011-02-14 12:46:00       1.65     17829.0  United Arab Emirates  \n",
            "\n",
            "[273 rows x 8 columns]\n"
          ]
        }
      ]
    },
    {
      "cell_type": "code",
      "source": [
        "transactions3 = filtered_df3.groupby('InvoiceNo')['Description'].apply(list).reset_index() #ทำการ group และทำให้ข้อมูลใน Description เป็นlist\n",
        "transactions_apply3 = transactions3['Description'].apply(lambda x: [str(item) for item in x]) #ใช้ฟังก์ชัน lambda เพื่อแปลงสินค้าทุกชิ้นใน list ของ 'transactions' เป็นข้อความ (string)"
      ],
      "metadata": {
        "id": "8iARz3lphSKf"
      },
      "execution_count": 36,
      "outputs": []
    },
    {
      "cell_type": "code",
      "source": [
        "frequentItemset3 = list(apriori(transactions_apply3, min_support=0.3))\n",
        "\n",
        "for record in frequentItemset3:\n",
        "    if len(record.items) > 1:\n",
        "        print('yes')\n",
        "        print(f\"Items: {', '.join(record.items)}\")\n",
        "        print(f\"Support: {record.support:.4f} ({record.support*100:.2f}%)\")\n",
        "\n",
        "        for i, stat in enumerate(record.ordered_statistics, 1):\n",
        "            items_base = 'None' if not stat.items_base else ', '.join(stat.items_base)\n",
        "            items_add = ', '.join(stat.items_add)\n",
        "            confidence = stat.confidence\n",
        "            lift = stat.lift\n",
        "\n",
        "            print(f\"Rule {i}: ({items_base} -> {items_add} : Confidence={confidence:.4f}, Lift={lift:.4f})\")\n",
        "        print()"
      ],
      "metadata": {
        "id": "SuJeFT8rhVE-",
        "outputId": "9f4f3fc5-4819-4aca-806d-8090366df6cb",
        "colab": {
          "base_uri": "https://localhost:8080/"
        }
      },
      "execution_count": 37,
      "outputs": [
        {
          "output_type": "stream",
          "name": "stdout",
          "text": [
            "yes\n",
            "Items: BASKET OF TOADSTOOLS, LUNCH BAG RED RETROSPOT\n",
            "Support: 0.3333 (33.33%)\n",
            "Rule 1: (None -> BASKET OF TOADSTOOLS, LUNCH BAG RED RETROSPOT : Confidence=0.3333, Lift=1.0000)\n",
            "Rule 2: (BASKET OF TOADSTOOLS -> LUNCH BAG RED RETROSPOT : Confidence=1.0000, Lift=3.0000)\n",
            "Rule 3: (LUNCH BAG RED RETROSPOT -> BASKET OF TOADSTOOLS : Confidence=1.0000, Lift=3.0000)\n",
            "\n",
            "yes\n",
            "Items: SET 3 RETROSPOT TEA,COFFEE,SUGAR, BASKET OF TOADSTOOLS\n",
            "Support: 0.3333 (33.33%)\n",
            "Rule 1: (None -> SET 3 RETROSPOT TEA,COFFEE,SUGAR, BASKET OF TOADSTOOLS : Confidence=0.3333, Lift=1.0000)\n",
            "Rule 2: (BASKET OF TOADSTOOLS -> SET 3 RETROSPOT TEA,COFFEE,SUGAR : Confidence=1.0000, Lift=3.0000)\n",
            "Rule 3: (SET 3 RETROSPOT TEA,COFFEE,SUGAR -> BASKET OF TOADSTOOLS : Confidence=1.0000, Lift=3.0000)\n",
            "\n",
            "yes\n",
            "Items: BATH BUILDING BLOCK WORD, JAM MAKING SET WITH JARS\n",
            "Support: 0.3333 (33.33%)\n",
            "Rule 1: (None -> BATH BUILDING BLOCK WORD, JAM MAKING SET WITH JARS : Confidence=0.3333, Lift=1.0000)\n",
            "Rule 2: (BATH BUILDING BLOCK WORD -> JAM MAKING SET WITH JARS : Confidence=1.0000, Lift=3.0000)\n",
            "Rule 3: (JAM MAKING SET WITH JARS -> BATH BUILDING BLOCK WORD : Confidence=1.0000, Lift=3.0000)\n",
            "\n",
            "yes\n",
            "Items: LADIES & GENTLEMEN METAL SIGN, BATH BUILDING BLOCK WORD\n",
            "Support: 0.3333 (33.33%)\n",
            "Rule 1: (None -> LADIES & GENTLEMEN METAL SIGN, BATH BUILDING BLOCK WORD : Confidence=0.3333, Lift=1.0000)\n",
            "Rule 2: (BATH BUILDING BLOCK WORD -> LADIES & GENTLEMEN METAL SIGN : Confidence=1.0000, Lift=2.0000)\n",
            "Rule 3: (LADIES & GENTLEMEN METAL SIGN -> BATH BUILDING BLOCK WORD : Confidence=0.6667, Lift=2.0000)\n",
            "\n",
            "yes\n",
            "Items: BATH BUILDING BLOCK WORD, SET 3 PAPER VINTAGE CHICK PAPER EGG\n",
            "Support: 0.3333 (33.33%)\n",
            "Rule 1: (None -> BATH BUILDING BLOCK WORD, SET 3 PAPER VINTAGE CHICK PAPER EGG : Confidence=0.3333, Lift=1.0000)\n",
            "Rule 2: (BATH BUILDING BLOCK WORD -> SET 3 PAPER VINTAGE CHICK PAPER EGG : Confidence=1.0000, Lift=2.0000)\n",
            "Rule 3: (SET 3 PAPER VINTAGE CHICK PAPER EGG -> BATH BUILDING BLOCK WORD : Confidence=0.6667, Lift=2.0000)\n",
            "\n",
            "yes\n",
            "Items: BEWARE OF THE CAT METAL SIGN , LADIES & GENTLEMEN METAL SIGN\n",
            "Support: 0.3333 (33.33%)\n",
            "Rule 1: (None -> BEWARE OF THE CAT METAL SIGN , LADIES & GENTLEMEN METAL SIGN : Confidence=0.3333, Lift=1.0000)\n",
            "Rule 2: (BEWARE OF THE CAT METAL SIGN  -> LADIES & GENTLEMEN METAL SIGN : Confidence=1.0000, Lift=2.0000)\n",
            "Rule 3: (LADIES & GENTLEMEN METAL SIGN -> BEWARE OF THE CAT METAL SIGN  : Confidence=0.6667, Lift=2.0000)\n",
            "\n",
            "yes\n",
            "Items: LAUNDRY 15C METAL SIGN, BEWARE OF THE CAT METAL SIGN \n",
            "Support: 0.3333 (33.33%)\n",
            "Rule 1: (None -> LAUNDRY 15C METAL SIGN, BEWARE OF THE CAT METAL SIGN  : Confidence=0.3333, Lift=1.0000)\n",
            "Rule 2: (BEWARE OF THE CAT METAL SIGN  -> LAUNDRY 15C METAL SIGN : Confidence=1.0000, Lift=3.0000)\n",
            "Rule 3: (LAUNDRY 15C METAL SIGN -> BEWARE OF THE CAT METAL SIGN  : Confidence=1.0000, Lift=3.0000)\n",
            "\n",
            "yes\n",
            "Items: BEWARE OF THE CAT METAL SIGN , WASHROOM METAL SIGN\n",
            "Support: 0.3333 (33.33%)\n",
            "Rule 1: (None -> BEWARE OF THE CAT METAL SIGN , WASHROOM METAL SIGN : Confidence=0.3333, Lift=1.0000)\n",
            "Rule 2: (BEWARE OF THE CAT METAL SIGN  -> WASHROOM METAL SIGN : Confidence=1.0000, Lift=3.0000)\n",
            "Rule 3: (WASHROOM METAL SIGN -> BEWARE OF THE CAT METAL SIGN  : Confidence=1.0000, Lift=3.0000)\n",
            "\n",
            "yes\n",
            "Items: LADIES & GENTLEMEN METAL SIGN, DOORMAT UNION FLAG\n",
            "Support: 0.3333 (33.33%)\n",
            "Rule 1: (None -> LADIES & GENTLEMEN METAL SIGN, DOORMAT UNION FLAG : Confidence=0.3333, Lift=1.0000)\n",
            "Rule 2: (DOORMAT UNION FLAG -> LADIES & GENTLEMEN METAL SIGN : Confidence=1.0000, Lift=2.0000)\n",
            "Rule 3: (LADIES & GENTLEMEN METAL SIGN -> DOORMAT UNION FLAG : Confidence=0.6667, Lift=2.0000)\n",
            "\n",
            "yes\n",
            "Items: DOORMAT UNION FLAG, METAL SIGN TAKE IT OR LEAVE IT \n",
            "Support: 0.3333 (33.33%)\n",
            "Rule 1: (None -> DOORMAT UNION FLAG, METAL SIGN TAKE IT OR LEAVE IT  : Confidence=0.3333, Lift=1.0000)\n",
            "Rule 2: (DOORMAT UNION FLAG -> METAL SIGN TAKE IT OR LEAVE IT  : Confidence=1.0000, Lift=3.0000)\n",
            "Rule 3: (METAL SIGN TAKE IT OR LEAVE IT  -> DOORMAT UNION FLAG : Confidence=1.0000, Lift=3.0000)\n",
            "\n",
            "yes\n",
            "Items: LADIES & GENTLEMEN METAL SIGN, JAM MAKING SET WITH JARS\n",
            "Support: 0.3333 (33.33%)\n",
            "Rule 1: (None -> LADIES & GENTLEMEN METAL SIGN, JAM MAKING SET WITH JARS : Confidence=0.3333, Lift=1.0000)\n",
            "Rule 2: (JAM MAKING SET WITH JARS -> LADIES & GENTLEMEN METAL SIGN : Confidence=1.0000, Lift=2.0000)\n",
            "Rule 3: (LADIES & GENTLEMEN METAL SIGN -> JAM MAKING SET WITH JARS : Confidence=0.6667, Lift=2.0000)\n",
            "\n",
            "yes\n",
            "Items: SET 3 PAPER VINTAGE CHICK PAPER EGG, JAM MAKING SET WITH JARS\n",
            "Support: 0.3333 (33.33%)\n",
            "Rule 1: (None -> SET 3 PAPER VINTAGE CHICK PAPER EGG, JAM MAKING SET WITH JARS : Confidence=0.3333, Lift=1.0000)\n",
            "Rule 2: (JAM MAKING SET WITH JARS -> SET 3 PAPER VINTAGE CHICK PAPER EGG : Confidence=1.0000, Lift=2.0000)\n",
            "Rule 3: (SET 3 PAPER VINTAGE CHICK PAPER EGG -> JAM MAKING SET WITH JARS : Confidence=0.6667, Lift=2.0000)\n",
            "\n",
            "yes\n",
            "Items: LAUNDRY 15C METAL SIGN, LADIES & GENTLEMEN METAL SIGN\n",
            "Support: 0.3333 (33.33%)\n",
            "Rule 1: (None -> LAUNDRY 15C METAL SIGN, LADIES & GENTLEMEN METAL SIGN : Confidence=0.3333, Lift=1.0000)\n",
            "Rule 2: (LADIES & GENTLEMEN METAL SIGN -> LAUNDRY 15C METAL SIGN : Confidence=0.6667, Lift=2.0000)\n",
            "Rule 3: (LAUNDRY 15C METAL SIGN -> LADIES & GENTLEMEN METAL SIGN : Confidence=1.0000, Lift=2.0000)\n",
            "\n",
            "yes\n",
            "Items: LADIES & GENTLEMEN METAL SIGN, METAL SIGN TAKE IT OR LEAVE IT \n",
            "Support: 0.3333 (33.33%)\n",
            "Rule 1: (None -> LADIES & GENTLEMEN METAL SIGN, METAL SIGN TAKE IT OR LEAVE IT  : Confidence=0.3333, Lift=1.0000)\n",
            "Rule 2: (LADIES & GENTLEMEN METAL SIGN -> METAL SIGN TAKE IT OR LEAVE IT  : Confidence=0.6667, Lift=2.0000)\n",
            "Rule 3: (METAL SIGN TAKE IT OR LEAVE IT  -> LADIES & GENTLEMEN METAL SIGN : Confidence=1.0000, Lift=2.0000)\n",
            "\n",
            "yes\n",
            "Items: LADIES & GENTLEMEN METAL SIGN, SET 3 PAPER VINTAGE CHICK PAPER EGG\n",
            "Support: 0.3333 (33.33%)\n",
            "Rule 1: (None -> LADIES & GENTLEMEN METAL SIGN, SET 3 PAPER VINTAGE CHICK PAPER EGG : Confidence=0.3333, Lift=1.0000)\n",
            "Rule 2: (LADIES & GENTLEMEN METAL SIGN -> SET 3 PAPER VINTAGE CHICK PAPER EGG : Confidence=0.6667, Lift=1.3333)\n",
            "Rule 3: (SET 3 PAPER VINTAGE CHICK PAPER EGG -> LADIES & GENTLEMEN METAL SIGN : Confidence=0.6667, Lift=1.3333)\n",
            "\n",
            "yes\n",
            "Items: LADIES & GENTLEMEN METAL SIGN, WASHROOM METAL SIGN\n",
            "Support: 0.3333 (33.33%)\n",
            "Rule 1: (None -> LADIES & GENTLEMEN METAL SIGN, WASHROOM METAL SIGN : Confidence=0.3333, Lift=1.0000)\n",
            "Rule 2: (LADIES & GENTLEMEN METAL SIGN -> WASHROOM METAL SIGN : Confidence=0.6667, Lift=2.0000)\n",
            "Rule 3: (WASHROOM METAL SIGN -> LADIES & GENTLEMEN METAL SIGN : Confidence=1.0000, Lift=2.0000)\n",
            "\n",
            "yes\n",
            "Items: LAUNDRY 15C METAL SIGN, WASHROOM METAL SIGN\n",
            "Support: 0.3333 (33.33%)\n",
            "Rule 1: (None -> LAUNDRY 15C METAL SIGN, WASHROOM METAL SIGN : Confidence=0.3333, Lift=1.0000)\n",
            "Rule 2: (LAUNDRY 15C METAL SIGN -> WASHROOM METAL SIGN : Confidence=1.0000, Lift=3.0000)\n",
            "Rule 3: (WASHROOM METAL SIGN -> LAUNDRY 15C METAL SIGN : Confidence=1.0000, Lift=3.0000)\n",
            "\n",
            "yes\n",
            "Items: SET 3 RETROSPOT TEA,COFFEE,SUGAR, LUNCH BAG RED RETROSPOT\n",
            "Support: 0.3333 (33.33%)\n",
            "Rule 1: (None -> SET 3 RETROSPOT TEA,COFFEE,SUGAR, LUNCH BAG RED RETROSPOT : Confidence=0.3333, Lift=1.0000)\n",
            "Rule 2: (LUNCH BAG RED RETROSPOT -> SET 3 RETROSPOT TEA,COFFEE,SUGAR : Confidence=1.0000, Lift=3.0000)\n",
            "Rule 3: (SET 3 RETROSPOT TEA,COFFEE,SUGAR -> LUNCH BAG RED RETROSPOT : Confidence=1.0000, Lift=3.0000)\n",
            "\n",
            "yes\n",
            "Items: MILK PAN PINK POLKADOT, MILK PAN RED RETROSPOT\n",
            "Support: 0.3333 (33.33%)\n",
            "Rule 1: (None -> MILK PAN PINK POLKADOT, MILK PAN RED RETROSPOT : Confidence=0.3333, Lift=1.0000)\n",
            "Rule 2: (MILK PAN PINK POLKADOT -> MILK PAN RED RETROSPOT : Confidence=1.0000, Lift=3.0000)\n",
            "Rule 3: (MILK PAN RED RETROSPOT -> MILK PAN PINK POLKADOT : Confidence=1.0000, Lift=3.0000)\n",
            "\n",
            "yes\n",
            "Items: PLASTERS IN TIN SPACEBOY, MILK PAN PINK POLKADOT\n",
            "Support: 0.3333 (33.33%)\n",
            "Rule 1: (None -> PLASTERS IN TIN SPACEBOY, MILK PAN PINK POLKADOT : Confidence=0.3333, Lift=1.0000)\n",
            "Rule 2: (MILK PAN PINK POLKADOT -> PLASTERS IN TIN SPACEBOY : Confidence=1.0000, Lift=3.0000)\n",
            "Rule 3: (PLASTERS IN TIN SPACEBOY -> MILK PAN PINK POLKADOT : Confidence=1.0000, Lift=3.0000)\n",
            "\n",
            "yes\n",
            "Items: RED RETROSPOT CHILDRENS UMBRELLA, MILK PAN PINK POLKADOT\n",
            "Support: 0.3333 (33.33%)\n",
            "Rule 1: (None -> RED RETROSPOT CHILDRENS UMBRELLA, MILK PAN PINK POLKADOT : Confidence=0.3333, Lift=1.0000)\n",
            "Rule 2: (MILK PAN PINK POLKADOT -> RED RETROSPOT CHILDRENS UMBRELLA : Confidence=1.0000, Lift=3.0000)\n",
            "Rule 3: (RED RETROSPOT CHILDRENS UMBRELLA -> MILK PAN PINK POLKADOT : Confidence=1.0000, Lift=3.0000)\n",
            "\n",
            "yes\n",
            "Items: PLASTERS IN TIN SPACEBOY, MILK PAN RED RETROSPOT\n",
            "Support: 0.3333 (33.33%)\n",
            "Rule 1: (None -> PLASTERS IN TIN SPACEBOY, MILK PAN RED RETROSPOT : Confidence=0.3333, Lift=1.0000)\n",
            "Rule 2: (MILK PAN RED RETROSPOT -> PLASTERS IN TIN SPACEBOY : Confidence=1.0000, Lift=3.0000)\n",
            "Rule 3: (PLASTERS IN TIN SPACEBOY -> MILK PAN RED RETROSPOT : Confidence=1.0000, Lift=3.0000)\n",
            "\n",
            "yes\n",
            "Items: RED RETROSPOT CHILDRENS UMBRELLA, MILK PAN RED RETROSPOT\n",
            "Support: 0.3333 (33.33%)\n",
            "Rule 1: (None -> RED RETROSPOT CHILDRENS UMBRELLA, MILK PAN RED RETROSPOT : Confidence=0.3333, Lift=1.0000)\n",
            "Rule 2: (MILK PAN RED RETROSPOT -> RED RETROSPOT CHILDRENS UMBRELLA : Confidence=1.0000, Lift=3.0000)\n",
            "Rule 3: (RED RETROSPOT CHILDRENS UMBRELLA -> MILK PAN RED RETROSPOT : Confidence=1.0000, Lift=3.0000)\n",
            "\n",
            "yes\n",
            "Items: PARTY BUNTING, SET 3 PAPER VINTAGE CHICK PAPER EGG\n",
            "Support: 0.3333 (33.33%)\n",
            "Rule 1: (None -> PARTY BUNTING, SET 3 PAPER VINTAGE CHICK PAPER EGG : Confidence=0.3333, Lift=1.0000)\n",
            "Rule 2: (PARTY BUNTING -> SET 3 PAPER VINTAGE CHICK PAPER EGG : Confidence=1.0000, Lift=2.0000)\n",
            "Rule 3: (SET 3 PAPER VINTAGE CHICK PAPER EGG -> PARTY BUNTING : Confidence=0.6667, Lift=2.0000)\n",
            "\n",
            "yes\n",
            "Items: RED RETROSPOT CHILDRENS UMBRELLA, PLASTERS IN TIN SPACEBOY\n",
            "Support: 0.3333 (33.33%)\n",
            "Rule 1: (None -> RED RETROSPOT CHILDRENS UMBRELLA, PLASTERS IN TIN SPACEBOY : Confidence=0.3333, Lift=1.0000)\n",
            "Rule 2: (PLASTERS IN TIN SPACEBOY -> RED RETROSPOT CHILDRENS UMBRELLA : Confidence=1.0000, Lift=3.0000)\n",
            "Rule 3: (RED RETROSPOT CHILDRENS UMBRELLA -> PLASTERS IN TIN SPACEBOY : Confidence=1.0000, Lift=3.0000)\n",
            "\n",
            "yes\n",
            "Items: SET 3 PAPER VINTAGE CHICK PAPER EGG, SET OF 72 PINK HEART PAPER DOILIES\n",
            "Support: 0.3333 (33.33%)\n",
            "Rule 1: (None -> SET 3 PAPER VINTAGE CHICK PAPER EGG, SET OF 72 PINK HEART PAPER DOILIES : Confidence=0.3333, Lift=1.0000)\n",
            "Rule 2: (SET 3 PAPER VINTAGE CHICK PAPER EGG -> SET OF 72 PINK HEART PAPER DOILIES : Confidence=0.6667, Lift=2.0000)\n",
            "Rule 3: (SET OF 72 PINK HEART PAPER DOILIES -> SET 3 PAPER VINTAGE CHICK PAPER EGG : Confidence=1.0000, Lift=2.0000)\n",
            "\n",
            "yes\n",
            "Items: SET 3 RETROSPOT TEA,COFFEE,SUGAR, BASKET OF TOADSTOOLS, LUNCH BAG RED RETROSPOT\n",
            "Support: 0.3333 (33.33%)\n",
            "Rule 1: (None -> SET 3 RETROSPOT TEA,COFFEE,SUGAR, BASKET OF TOADSTOOLS, LUNCH BAG RED RETROSPOT : Confidence=0.3333, Lift=1.0000)\n",
            "Rule 2: (BASKET OF TOADSTOOLS -> SET 3 RETROSPOT TEA,COFFEE,SUGAR, LUNCH BAG RED RETROSPOT : Confidence=1.0000, Lift=3.0000)\n",
            "Rule 3: (LUNCH BAG RED RETROSPOT -> SET 3 RETROSPOT TEA,COFFEE,SUGAR, BASKET OF TOADSTOOLS : Confidence=1.0000, Lift=3.0000)\n",
            "Rule 4: (SET 3 RETROSPOT TEA,COFFEE,SUGAR -> BASKET OF TOADSTOOLS, LUNCH BAG RED RETROSPOT : Confidence=1.0000, Lift=3.0000)\n",
            "Rule 5: (BASKET OF TOADSTOOLS, LUNCH BAG RED RETROSPOT -> SET 3 RETROSPOT TEA,COFFEE,SUGAR : Confidence=1.0000, Lift=3.0000)\n",
            "Rule 6: (SET 3 RETROSPOT TEA,COFFEE,SUGAR, BASKET OF TOADSTOOLS -> LUNCH BAG RED RETROSPOT : Confidence=1.0000, Lift=3.0000)\n",
            "Rule 7: (SET 3 RETROSPOT TEA,COFFEE,SUGAR, LUNCH BAG RED RETROSPOT -> BASKET OF TOADSTOOLS : Confidence=1.0000, Lift=3.0000)\n",
            "\n",
            "yes\n",
            "Items: LADIES & GENTLEMEN METAL SIGN, BATH BUILDING BLOCK WORD, JAM MAKING SET WITH JARS\n",
            "Support: 0.3333 (33.33%)\n",
            "Rule 1: (None -> LADIES & GENTLEMEN METAL SIGN, BATH BUILDING BLOCK WORD, JAM MAKING SET WITH JARS : Confidence=0.3333, Lift=1.0000)\n",
            "Rule 2: (BATH BUILDING BLOCK WORD -> LADIES & GENTLEMEN METAL SIGN, JAM MAKING SET WITH JARS : Confidence=1.0000, Lift=3.0000)\n",
            "Rule 3: (JAM MAKING SET WITH JARS -> LADIES & GENTLEMEN METAL SIGN, BATH BUILDING BLOCK WORD : Confidence=1.0000, Lift=3.0000)\n",
            "Rule 4: (LADIES & GENTLEMEN METAL SIGN -> BATH BUILDING BLOCK WORD, JAM MAKING SET WITH JARS : Confidence=0.6667, Lift=2.0000)\n",
            "Rule 5: (BATH BUILDING BLOCK WORD, JAM MAKING SET WITH JARS -> LADIES & GENTLEMEN METAL SIGN : Confidence=1.0000, Lift=2.0000)\n",
            "Rule 6: (LADIES & GENTLEMEN METAL SIGN, BATH BUILDING BLOCK WORD -> JAM MAKING SET WITH JARS : Confidence=1.0000, Lift=3.0000)\n",
            "Rule 7: (LADIES & GENTLEMEN METAL SIGN, JAM MAKING SET WITH JARS -> BATH BUILDING BLOCK WORD : Confidence=1.0000, Lift=3.0000)\n",
            "\n",
            "yes\n",
            "Items: BATH BUILDING BLOCK WORD, SET 3 PAPER VINTAGE CHICK PAPER EGG, JAM MAKING SET WITH JARS\n",
            "Support: 0.3333 (33.33%)\n",
            "Rule 1: (None -> BATH BUILDING BLOCK WORD, SET 3 PAPER VINTAGE CHICK PAPER EGG, JAM MAKING SET WITH JARS : Confidence=0.3333, Lift=1.0000)\n",
            "Rule 2: (BATH BUILDING BLOCK WORD -> SET 3 PAPER VINTAGE CHICK PAPER EGG, JAM MAKING SET WITH JARS : Confidence=1.0000, Lift=3.0000)\n",
            "Rule 3: (JAM MAKING SET WITH JARS -> BATH BUILDING BLOCK WORD, SET 3 PAPER VINTAGE CHICK PAPER EGG : Confidence=1.0000, Lift=3.0000)\n",
            "Rule 4: (SET 3 PAPER VINTAGE CHICK PAPER EGG -> BATH BUILDING BLOCK WORD, JAM MAKING SET WITH JARS : Confidence=0.6667, Lift=2.0000)\n",
            "Rule 5: (BATH BUILDING BLOCK WORD, JAM MAKING SET WITH JARS -> SET 3 PAPER VINTAGE CHICK PAPER EGG : Confidence=1.0000, Lift=2.0000)\n",
            "Rule 6: (BATH BUILDING BLOCK WORD, SET 3 PAPER VINTAGE CHICK PAPER EGG -> JAM MAKING SET WITH JARS : Confidence=1.0000, Lift=3.0000)\n",
            "Rule 7: (SET 3 PAPER VINTAGE CHICK PAPER EGG, JAM MAKING SET WITH JARS -> BATH BUILDING BLOCK WORD : Confidence=1.0000, Lift=3.0000)\n",
            "\n",
            "yes\n",
            "Items: LADIES & GENTLEMEN METAL SIGN, BATH BUILDING BLOCK WORD, SET 3 PAPER VINTAGE CHICK PAPER EGG\n",
            "Support: 0.3333 (33.33%)\n",
            "Rule 1: (None -> LADIES & GENTLEMEN METAL SIGN, BATH BUILDING BLOCK WORD, SET 3 PAPER VINTAGE CHICK PAPER EGG : Confidence=0.3333, Lift=1.0000)\n",
            "Rule 2: (BATH BUILDING BLOCK WORD -> LADIES & GENTLEMEN METAL SIGN, SET 3 PAPER VINTAGE CHICK PAPER EGG : Confidence=1.0000, Lift=3.0000)\n",
            "Rule 3: (LADIES & GENTLEMEN METAL SIGN -> BATH BUILDING BLOCK WORD, SET 3 PAPER VINTAGE CHICK PAPER EGG : Confidence=0.6667, Lift=2.0000)\n",
            "Rule 4: (SET 3 PAPER VINTAGE CHICK PAPER EGG -> LADIES & GENTLEMEN METAL SIGN, BATH BUILDING BLOCK WORD : Confidence=0.6667, Lift=2.0000)\n",
            "Rule 5: (LADIES & GENTLEMEN METAL SIGN, BATH BUILDING BLOCK WORD -> SET 3 PAPER VINTAGE CHICK PAPER EGG : Confidence=1.0000, Lift=2.0000)\n",
            "Rule 6: (BATH BUILDING BLOCK WORD, SET 3 PAPER VINTAGE CHICK PAPER EGG -> LADIES & GENTLEMEN METAL SIGN : Confidence=1.0000, Lift=2.0000)\n",
            "Rule 7: (LADIES & GENTLEMEN METAL SIGN, SET 3 PAPER VINTAGE CHICK PAPER EGG -> BATH BUILDING BLOCK WORD : Confidence=1.0000, Lift=3.0000)\n",
            "\n",
            "yes\n",
            "Items: LAUNDRY 15C METAL SIGN, BEWARE OF THE CAT METAL SIGN , LADIES & GENTLEMEN METAL SIGN\n",
            "Support: 0.3333 (33.33%)\n",
            "Rule 1: (None -> LAUNDRY 15C METAL SIGN, BEWARE OF THE CAT METAL SIGN , LADIES & GENTLEMEN METAL SIGN : Confidence=0.3333, Lift=1.0000)\n",
            "Rule 2: (BEWARE OF THE CAT METAL SIGN  -> LAUNDRY 15C METAL SIGN, LADIES & GENTLEMEN METAL SIGN : Confidence=1.0000, Lift=3.0000)\n",
            "Rule 3: (LADIES & GENTLEMEN METAL SIGN -> LAUNDRY 15C METAL SIGN, BEWARE OF THE CAT METAL SIGN  : Confidence=0.6667, Lift=2.0000)\n",
            "Rule 4: (LAUNDRY 15C METAL SIGN -> BEWARE OF THE CAT METAL SIGN , LADIES & GENTLEMEN METAL SIGN : Confidence=1.0000, Lift=3.0000)\n",
            "Rule 5: (BEWARE OF THE CAT METAL SIGN , LADIES & GENTLEMEN METAL SIGN -> LAUNDRY 15C METAL SIGN : Confidence=1.0000, Lift=3.0000)\n",
            "Rule 6: (LAUNDRY 15C METAL SIGN, BEWARE OF THE CAT METAL SIGN  -> LADIES & GENTLEMEN METAL SIGN : Confidence=1.0000, Lift=2.0000)\n",
            "Rule 7: (LAUNDRY 15C METAL SIGN, LADIES & GENTLEMEN METAL SIGN -> BEWARE OF THE CAT METAL SIGN  : Confidence=1.0000, Lift=3.0000)\n",
            "\n",
            "yes\n",
            "Items: BEWARE OF THE CAT METAL SIGN , LADIES & GENTLEMEN METAL SIGN, WASHROOM METAL SIGN\n",
            "Support: 0.3333 (33.33%)\n",
            "Rule 1: (None -> BEWARE OF THE CAT METAL SIGN , LADIES & GENTLEMEN METAL SIGN, WASHROOM METAL SIGN : Confidence=0.3333, Lift=1.0000)\n",
            "Rule 2: (BEWARE OF THE CAT METAL SIGN  -> LADIES & GENTLEMEN METAL SIGN, WASHROOM METAL SIGN : Confidence=1.0000, Lift=3.0000)\n",
            "Rule 3: (LADIES & GENTLEMEN METAL SIGN -> BEWARE OF THE CAT METAL SIGN , WASHROOM METAL SIGN : Confidence=0.6667, Lift=2.0000)\n",
            "Rule 4: (WASHROOM METAL SIGN -> BEWARE OF THE CAT METAL SIGN , LADIES & GENTLEMEN METAL SIGN : Confidence=1.0000, Lift=3.0000)\n",
            "Rule 5: (BEWARE OF THE CAT METAL SIGN , LADIES & GENTLEMEN METAL SIGN -> WASHROOM METAL SIGN : Confidence=1.0000, Lift=3.0000)\n",
            "Rule 6: (BEWARE OF THE CAT METAL SIGN , WASHROOM METAL SIGN -> LADIES & GENTLEMEN METAL SIGN : Confidence=1.0000, Lift=2.0000)\n",
            "Rule 7: (LADIES & GENTLEMEN METAL SIGN, WASHROOM METAL SIGN -> BEWARE OF THE CAT METAL SIGN  : Confidence=1.0000, Lift=3.0000)\n",
            "\n",
            "yes\n",
            "Items: LAUNDRY 15C METAL SIGN, BEWARE OF THE CAT METAL SIGN , WASHROOM METAL SIGN\n",
            "Support: 0.3333 (33.33%)\n",
            "Rule 1: (None -> LAUNDRY 15C METAL SIGN, BEWARE OF THE CAT METAL SIGN , WASHROOM METAL SIGN : Confidence=0.3333, Lift=1.0000)\n",
            "Rule 2: (BEWARE OF THE CAT METAL SIGN  -> LAUNDRY 15C METAL SIGN, WASHROOM METAL SIGN : Confidence=1.0000, Lift=3.0000)\n",
            "Rule 3: (LAUNDRY 15C METAL SIGN -> BEWARE OF THE CAT METAL SIGN , WASHROOM METAL SIGN : Confidence=1.0000, Lift=3.0000)\n",
            "Rule 4: (WASHROOM METAL SIGN -> LAUNDRY 15C METAL SIGN, BEWARE OF THE CAT METAL SIGN  : Confidence=1.0000, Lift=3.0000)\n",
            "Rule 5: (LAUNDRY 15C METAL SIGN, BEWARE OF THE CAT METAL SIGN  -> WASHROOM METAL SIGN : Confidence=1.0000, Lift=3.0000)\n",
            "Rule 6: (BEWARE OF THE CAT METAL SIGN , WASHROOM METAL SIGN -> LAUNDRY 15C METAL SIGN : Confidence=1.0000, Lift=3.0000)\n",
            "Rule 7: (LAUNDRY 15C METAL SIGN, WASHROOM METAL SIGN -> BEWARE OF THE CAT METAL SIGN  : Confidence=1.0000, Lift=3.0000)\n",
            "\n",
            "yes\n",
            "Items: LADIES & GENTLEMEN METAL SIGN, DOORMAT UNION FLAG, METAL SIGN TAKE IT OR LEAVE IT \n",
            "Support: 0.3333 (33.33%)\n",
            "Rule 1: (None -> LADIES & GENTLEMEN METAL SIGN, DOORMAT UNION FLAG, METAL SIGN TAKE IT OR LEAVE IT  : Confidence=0.3333, Lift=1.0000)\n",
            "Rule 2: (DOORMAT UNION FLAG -> LADIES & GENTLEMEN METAL SIGN, METAL SIGN TAKE IT OR LEAVE IT  : Confidence=1.0000, Lift=3.0000)\n",
            "Rule 3: (LADIES & GENTLEMEN METAL SIGN -> DOORMAT UNION FLAG, METAL SIGN TAKE IT OR LEAVE IT  : Confidence=0.6667, Lift=2.0000)\n",
            "Rule 4: (METAL SIGN TAKE IT OR LEAVE IT  -> LADIES & GENTLEMEN METAL SIGN, DOORMAT UNION FLAG : Confidence=1.0000, Lift=3.0000)\n",
            "Rule 5: (LADIES & GENTLEMEN METAL SIGN, DOORMAT UNION FLAG -> METAL SIGN TAKE IT OR LEAVE IT  : Confidence=1.0000, Lift=3.0000)\n",
            "Rule 6: (DOORMAT UNION FLAG, METAL SIGN TAKE IT OR LEAVE IT  -> LADIES & GENTLEMEN METAL SIGN : Confidence=1.0000, Lift=2.0000)\n",
            "Rule 7: (LADIES & GENTLEMEN METAL SIGN, METAL SIGN TAKE IT OR LEAVE IT  -> DOORMAT UNION FLAG : Confidence=1.0000, Lift=3.0000)\n",
            "\n",
            "yes\n",
            "Items: LADIES & GENTLEMEN METAL SIGN, SET 3 PAPER VINTAGE CHICK PAPER EGG, JAM MAKING SET WITH JARS\n",
            "Support: 0.3333 (33.33%)\n",
            "Rule 1: (None -> LADIES & GENTLEMEN METAL SIGN, SET 3 PAPER VINTAGE CHICK PAPER EGG, JAM MAKING SET WITH JARS : Confidence=0.3333, Lift=1.0000)\n",
            "Rule 2: (JAM MAKING SET WITH JARS -> LADIES & GENTLEMEN METAL SIGN, SET 3 PAPER VINTAGE CHICK PAPER EGG : Confidence=1.0000, Lift=3.0000)\n",
            "Rule 3: (LADIES & GENTLEMEN METAL SIGN -> SET 3 PAPER VINTAGE CHICK PAPER EGG, JAM MAKING SET WITH JARS : Confidence=0.6667, Lift=2.0000)\n",
            "Rule 4: (SET 3 PAPER VINTAGE CHICK PAPER EGG -> LADIES & GENTLEMEN METAL SIGN, JAM MAKING SET WITH JARS : Confidence=0.6667, Lift=2.0000)\n",
            "Rule 5: (LADIES & GENTLEMEN METAL SIGN, JAM MAKING SET WITH JARS -> SET 3 PAPER VINTAGE CHICK PAPER EGG : Confidence=1.0000, Lift=2.0000)\n",
            "Rule 6: (SET 3 PAPER VINTAGE CHICK PAPER EGG, JAM MAKING SET WITH JARS -> LADIES & GENTLEMEN METAL SIGN : Confidence=1.0000, Lift=2.0000)\n",
            "Rule 7: (LADIES & GENTLEMEN METAL SIGN, SET 3 PAPER VINTAGE CHICK PAPER EGG -> JAM MAKING SET WITH JARS : Confidence=1.0000, Lift=3.0000)\n",
            "\n",
            "yes\n",
            "Items: LAUNDRY 15C METAL SIGN, LADIES & GENTLEMEN METAL SIGN, WASHROOM METAL SIGN\n",
            "Support: 0.3333 (33.33%)\n",
            "Rule 1: (None -> LAUNDRY 15C METAL SIGN, LADIES & GENTLEMEN METAL SIGN, WASHROOM METAL SIGN : Confidence=0.3333, Lift=1.0000)\n",
            "Rule 2: (LADIES & GENTLEMEN METAL SIGN -> LAUNDRY 15C METAL SIGN, WASHROOM METAL SIGN : Confidence=0.6667, Lift=2.0000)\n",
            "Rule 3: (LAUNDRY 15C METAL SIGN -> LADIES & GENTLEMEN METAL SIGN, WASHROOM METAL SIGN : Confidence=1.0000, Lift=3.0000)\n",
            "Rule 4: (WASHROOM METAL SIGN -> LAUNDRY 15C METAL SIGN, LADIES & GENTLEMEN METAL SIGN : Confidence=1.0000, Lift=3.0000)\n",
            "Rule 5: (LAUNDRY 15C METAL SIGN, LADIES & GENTLEMEN METAL SIGN -> WASHROOM METAL SIGN : Confidence=1.0000, Lift=3.0000)\n",
            "Rule 6: (LADIES & GENTLEMEN METAL SIGN, WASHROOM METAL SIGN -> LAUNDRY 15C METAL SIGN : Confidence=1.0000, Lift=3.0000)\n",
            "Rule 7: (LAUNDRY 15C METAL SIGN, WASHROOM METAL SIGN -> LADIES & GENTLEMEN METAL SIGN : Confidence=1.0000, Lift=2.0000)\n",
            "\n",
            "yes\n",
            "Items: PLASTERS IN TIN SPACEBOY, MILK PAN PINK POLKADOT, MILK PAN RED RETROSPOT\n",
            "Support: 0.3333 (33.33%)\n",
            "Rule 1: (None -> PLASTERS IN TIN SPACEBOY, MILK PAN PINK POLKADOT, MILK PAN RED RETROSPOT : Confidence=0.3333, Lift=1.0000)\n",
            "Rule 2: (MILK PAN PINK POLKADOT -> PLASTERS IN TIN SPACEBOY, MILK PAN RED RETROSPOT : Confidence=1.0000, Lift=3.0000)\n",
            "Rule 3: (MILK PAN RED RETROSPOT -> PLASTERS IN TIN SPACEBOY, MILK PAN PINK POLKADOT : Confidence=1.0000, Lift=3.0000)\n",
            "Rule 4: (PLASTERS IN TIN SPACEBOY -> MILK PAN PINK POLKADOT, MILK PAN RED RETROSPOT : Confidence=1.0000, Lift=3.0000)\n",
            "Rule 5: (MILK PAN PINK POLKADOT, MILK PAN RED RETROSPOT -> PLASTERS IN TIN SPACEBOY : Confidence=1.0000, Lift=3.0000)\n",
            "Rule 6: (PLASTERS IN TIN SPACEBOY, MILK PAN PINK POLKADOT -> MILK PAN RED RETROSPOT : Confidence=1.0000, Lift=3.0000)\n",
            "Rule 7: (PLASTERS IN TIN SPACEBOY, MILK PAN RED RETROSPOT -> MILK PAN PINK POLKADOT : Confidence=1.0000, Lift=3.0000)\n",
            "\n",
            "yes\n",
            "Items: RED RETROSPOT CHILDRENS UMBRELLA, MILK PAN PINK POLKADOT, MILK PAN RED RETROSPOT\n",
            "Support: 0.3333 (33.33%)\n",
            "Rule 1: (None -> RED RETROSPOT CHILDRENS UMBRELLA, MILK PAN PINK POLKADOT, MILK PAN RED RETROSPOT : Confidence=0.3333, Lift=1.0000)\n",
            "Rule 2: (MILK PAN PINK POLKADOT -> RED RETROSPOT CHILDRENS UMBRELLA, MILK PAN RED RETROSPOT : Confidence=1.0000, Lift=3.0000)\n",
            "Rule 3: (MILK PAN RED RETROSPOT -> RED RETROSPOT CHILDRENS UMBRELLA, MILK PAN PINK POLKADOT : Confidence=1.0000, Lift=3.0000)\n",
            "Rule 4: (RED RETROSPOT CHILDRENS UMBRELLA -> MILK PAN PINK POLKADOT, MILK PAN RED RETROSPOT : Confidence=1.0000, Lift=3.0000)\n",
            "Rule 5: (MILK PAN PINK POLKADOT, MILK PAN RED RETROSPOT -> RED RETROSPOT CHILDRENS UMBRELLA : Confidence=1.0000, Lift=3.0000)\n",
            "Rule 6: (RED RETROSPOT CHILDRENS UMBRELLA, MILK PAN PINK POLKADOT -> MILK PAN RED RETROSPOT : Confidence=1.0000, Lift=3.0000)\n",
            "Rule 7: (RED RETROSPOT CHILDRENS UMBRELLA, MILK PAN RED RETROSPOT -> MILK PAN PINK POLKADOT : Confidence=1.0000, Lift=3.0000)\n",
            "\n",
            "yes\n",
            "Items: RED RETROSPOT CHILDRENS UMBRELLA, PLASTERS IN TIN SPACEBOY, MILK PAN PINK POLKADOT\n",
            "Support: 0.3333 (33.33%)\n",
            "Rule 1: (None -> RED RETROSPOT CHILDRENS UMBRELLA, PLASTERS IN TIN SPACEBOY, MILK PAN PINK POLKADOT : Confidence=0.3333, Lift=1.0000)\n",
            "Rule 2: (MILK PAN PINK POLKADOT -> RED RETROSPOT CHILDRENS UMBRELLA, PLASTERS IN TIN SPACEBOY : Confidence=1.0000, Lift=3.0000)\n",
            "Rule 3: (PLASTERS IN TIN SPACEBOY -> RED RETROSPOT CHILDRENS UMBRELLA, MILK PAN PINK POLKADOT : Confidence=1.0000, Lift=3.0000)\n",
            "Rule 4: (RED RETROSPOT CHILDRENS UMBRELLA -> PLASTERS IN TIN SPACEBOY, MILK PAN PINK POLKADOT : Confidence=1.0000, Lift=3.0000)\n",
            "Rule 5: (PLASTERS IN TIN SPACEBOY, MILK PAN PINK POLKADOT -> RED RETROSPOT CHILDRENS UMBRELLA : Confidence=1.0000, Lift=3.0000)\n",
            "Rule 6: (RED RETROSPOT CHILDRENS UMBRELLA, MILK PAN PINK POLKADOT -> PLASTERS IN TIN SPACEBOY : Confidence=1.0000, Lift=3.0000)\n",
            "Rule 7: (RED RETROSPOT CHILDRENS UMBRELLA, PLASTERS IN TIN SPACEBOY -> MILK PAN PINK POLKADOT : Confidence=1.0000, Lift=3.0000)\n",
            "\n",
            "yes\n",
            "Items: RED RETROSPOT CHILDRENS UMBRELLA, PLASTERS IN TIN SPACEBOY, MILK PAN RED RETROSPOT\n",
            "Support: 0.3333 (33.33%)\n",
            "Rule 1: (None -> RED RETROSPOT CHILDRENS UMBRELLA, PLASTERS IN TIN SPACEBOY, MILK PAN RED RETROSPOT : Confidence=0.3333, Lift=1.0000)\n",
            "Rule 2: (MILK PAN RED RETROSPOT -> RED RETROSPOT CHILDRENS UMBRELLA, PLASTERS IN TIN SPACEBOY : Confidence=1.0000, Lift=3.0000)\n",
            "Rule 3: (PLASTERS IN TIN SPACEBOY -> RED RETROSPOT CHILDRENS UMBRELLA, MILK PAN RED RETROSPOT : Confidence=1.0000, Lift=3.0000)\n",
            "Rule 4: (RED RETROSPOT CHILDRENS UMBRELLA -> PLASTERS IN TIN SPACEBOY, MILK PAN RED RETROSPOT : Confidence=1.0000, Lift=3.0000)\n",
            "Rule 5: (PLASTERS IN TIN SPACEBOY, MILK PAN RED RETROSPOT -> RED RETROSPOT CHILDRENS UMBRELLA : Confidence=1.0000, Lift=3.0000)\n",
            "Rule 6: (RED RETROSPOT CHILDRENS UMBRELLA, MILK PAN RED RETROSPOT -> PLASTERS IN TIN SPACEBOY : Confidence=1.0000, Lift=3.0000)\n",
            "Rule 7: (RED RETROSPOT CHILDRENS UMBRELLA, PLASTERS IN TIN SPACEBOY -> MILK PAN RED RETROSPOT : Confidence=1.0000, Lift=3.0000)\n",
            "\n",
            "yes\n",
            "Items: LADIES & GENTLEMEN METAL SIGN, BATH BUILDING BLOCK WORD, SET 3 PAPER VINTAGE CHICK PAPER EGG, JAM MAKING SET WITH JARS\n",
            "Support: 0.3333 (33.33%)\n",
            "Rule 1: (None -> LADIES & GENTLEMEN METAL SIGN, BATH BUILDING BLOCK WORD, SET 3 PAPER VINTAGE CHICK PAPER EGG, JAM MAKING SET WITH JARS : Confidence=0.3333, Lift=1.0000)\n",
            "Rule 2: (BATH BUILDING BLOCK WORD -> LADIES & GENTLEMEN METAL SIGN, SET 3 PAPER VINTAGE CHICK PAPER EGG, JAM MAKING SET WITH JARS : Confidence=1.0000, Lift=3.0000)\n",
            "Rule 3: (JAM MAKING SET WITH JARS -> LADIES & GENTLEMEN METAL SIGN, BATH BUILDING BLOCK WORD, SET 3 PAPER VINTAGE CHICK PAPER EGG : Confidence=1.0000, Lift=3.0000)\n",
            "Rule 4: (LADIES & GENTLEMEN METAL SIGN -> BATH BUILDING BLOCK WORD, SET 3 PAPER VINTAGE CHICK PAPER EGG, JAM MAKING SET WITH JARS : Confidence=0.6667, Lift=2.0000)\n",
            "Rule 5: (SET 3 PAPER VINTAGE CHICK PAPER EGG -> LADIES & GENTLEMEN METAL SIGN, BATH BUILDING BLOCK WORD, JAM MAKING SET WITH JARS : Confidence=0.6667, Lift=2.0000)\n",
            "Rule 6: (BATH BUILDING BLOCK WORD, JAM MAKING SET WITH JARS -> LADIES & GENTLEMEN METAL SIGN, SET 3 PAPER VINTAGE CHICK PAPER EGG : Confidence=1.0000, Lift=3.0000)\n",
            "Rule 7: (LADIES & GENTLEMEN METAL SIGN, BATH BUILDING BLOCK WORD -> SET 3 PAPER VINTAGE CHICK PAPER EGG, JAM MAKING SET WITH JARS : Confidence=1.0000, Lift=3.0000)\n",
            "Rule 8: (BATH BUILDING BLOCK WORD, SET 3 PAPER VINTAGE CHICK PAPER EGG -> LADIES & GENTLEMEN METAL SIGN, JAM MAKING SET WITH JARS : Confidence=1.0000, Lift=3.0000)\n",
            "Rule 9: (LADIES & GENTLEMEN METAL SIGN, JAM MAKING SET WITH JARS -> BATH BUILDING BLOCK WORD, SET 3 PAPER VINTAGE CHICK PAPER EGG : Confidence=1.0000, Lift=3.0000)\n",
            "Rule 10: (SET 3 PAPER VINTAGE CHICK PAPER EGG, JAM MAKING SET WITH JARS -> LADIES & GENTLEMEN METAL SIGN, BATH BUILDING BLOCK WORD : Confidence=1.0000, Lift=3.0000)\n",
            "Rule 11: (LADIES & GENTLEMEN METAL SIGN, SET 3 PAPER VINTAGE CHICK PAPER EGG -> BATH BUILDING BLOCK WORD, JAM MAKING SET WITH JARS : Confidence=1.0000, Lift=3.0000)\n",
            "Rule 12: (LADIES & GENTLEMEN METAL SIGN, BATH BUILDING BLOCK WORD, JAM MAKING SET WITH JARS -> SET 3 PAPER VINTAGE CHICK PAPER EGG : Confidence=1.0000, Lift=2.0000)\n",
            "Rule 13: (BATH BUILDING BLOCK WORD, SET 3 PAPER VINTAGE CHICK PAPER EGG, JAM MAKING SET WITH JARS -> LADIES & GENTLEMEN METAL SIGN : Confidence=1.0000, Lift=2.0000)\n",
            "Rule 14: (LADIES & GENTLEMEN METAL SIGN, BATH BUILDING BLOCK WORD, SET 3 PAPER VINTAGE CHICK PAPER EGG -> JAM MAKING SET WITH JARS : Confidence=1.0000, Lift=3.0000)\n",
            "Rule 15: (LADIES & GENTLEMEN METAL SIGN, SET 3 PAPER VINTAGE CHICK PAPER EGG, JAM MAKING SET WITH JARS -> BATH BUILDING BLOCK WORD : Confidence=1.0000, Lift=3.0000)\n",
            "\n",
            "yes\n",
            "Items: LAUNDRY 15C METAL SIGN, BEWARE OF THE CAT METAL SIGN , LADIES & GENTLEMEN METAL SIGN, WASHROOM METAL SIGN\n",
            "Support: 0.3333 (33.33%)\n",
            "Rule 1: (None -> LAUNDRY 15C METAL SIGN, BEWARE OF THE CAT METAL SIGN , LADIES & GENTLEMEN METAL SIGN, WASHROOM METAL SIGN : Confidence=0.3333, Lift=1.0000)\n",
            "Rule 2: (BEWARE OF THE CAT METAL SIGN  -> LAUNDRY 15C METAL SIGN, LADIES & GENTLEMEN METAL SIGN, WASHROOM METAL SIGN : Confidence=1.0000, Lift=3.0000)\n",
            "Rule 3: (LADIES & GENTLEMEN METAL SIGN -> LAUNDRY 15C METAL SIGN, BEWARE OF THE CAT METAL SIGN , WASHROOM METAL SIGN : Confidence=0.6667, Lift=2.0000)\n",
            "Rule 4: (LAUNDRY 15C METAL SIGN -> BEWARE OF THE CAT METAL SIGN , LADIES & GENTLEMEN METAL SIGN, WASHROOM METAL SIGN : Confidence=1.0000, Lift=3.0000)\n",
            "Rule 5: (WASHROOM METAL SIGN -> LAUNDRY 15C METAL SIGN, BEWARE OF THE CAT METAL SIGN , LADIES & GENTLEMEN METAL SIGN : Confidence=1.0000, Lift=3.0000)\n",
            "Rule 6: (BEWARE OF THE CAT METAL SIGN , LADIES & GENTLEMEN METAL SIGN -> LAUNDRY 15C METAL SIGN, WASHROOM METAL SIGN : Confidence=1.0000, Lift=3.0000)\n",
            "Rule 7: (LAUNDRY 15C METAL SIGN, BEWARE OF THE CAT METAL SIGN  -> LADIES & GENTLEMEN METAL SIGN, WASHROOM METAL SIGN : Confidence=1.0000, Lift=3.0000)\n",
            "Rule 8: (BEWARE OF THE CAT METAL SIGN , WASHROOM METAL SIGN -> LAUNDRY 15C METAL SIGN, LADIES & GENTLEMEN METAL SIGN : Confidence=1.0000, Lift=3.0000)\n",
            "Rule 9: (LAUNDRY 15C METAL SIGN, LADIES & GENTLEMEN METAL SIGN -> BEWARE OF THE CAT METAL SIGN , WASHROOM METAL SIGN : Confidence=1.0000, Lift=3.0000)\n",
            "Rule 10: (LADIES & GENTLEMEN METAL SIGN, WASHROOM METAL SIGN -> LAUNDRY 15C METAL SIGN, BEWARE OF THE CAT METAL SIGN  : Confidence=1.0000, Lift=3.0000)\n",
            "Rule 11: (LAUNDRY 15C METAL SIGN, WASHROOM METAL SIGN -> BEWARE OF THE CAT METAL SIGN , LADIES & GENTLEMEN METAL SIGN : Confidence=1.0000, Lift=3.0000)\n",
            "Rule 12: (LAUNDRY 15C METAL SIGN, BEWARE OF THE CAT METAL SIGN , LADIES & GENTLEMEN METAL SIGN -> WASHROOM METAL SIGN : Confidence=1.0000, Lift=3.0000)\n",
            "Rule 13: (BEWARE OF THE CAT METAL SIGN , LADIES & GENTLEMEN METAL SIGN, WASHROOM METAL SIGN -> LAUNDRY 15C METAL SIGN : Confidence=1.0000, Lift=3.0000)\n",
            "Rule 14: (LAUNDRY 15C METAL SIGN, BEWARE OF THE CAT METAL SIGN , WASHROOM METAL SIGN -> LADIES & GENTLEMEN METAL SIGN : Confidence=1.0000, Lift=2.0000)\n",
            "Rule 15: (LAUNDRY 15C METAL SIGN, LADIES & GENTLEMEN METAL SIGN, WASHROOM METAL SIGN -> BEWARE OF THE CAT METAL SIGN  : Confidence=1.0000, Lift=3.0000)\n",
            "\n",
            "yes\n",
            "Items: RED RETROSPOT CHILDRENS UMBRELLA, PLASTERS IN TIN SPACEBOY, MILK PAN PINK POLKADOT, MILK PAN RED RETROSPOT\n",
            "Support: 0.3333 (33.33%)\n",
            "Rule 1: (None -> RED RETROSPOT CHILDRENS UMBRELLA, PLASTERS IN TIN SPACEBOY, MILK PAN PINK POLKADOT, MILK PAN RED RETROSPOT : Confidence=0.3333, Lift=1.0000)\n",
            "Rule 2: (MILK PAN PINK POLKADOT -> RED RETROSPOT CHILDRENS UMBRELLA, PLASTERS IN TIN SPACEBOY, MILK PAN RED RETROSPOT : Confidence=1.0000, Lift=3.0000)\n",
            "Rule 3: (MILK PAN RED RETROSPOT -> RED RETROSPOT CHILDRENS UMBRELLA, PLASTERS IN TIN SPACEBOY, MILK PAN PINK POLKADOT : Confidence=1.0000, Lift=3.0000)\n",
            "Rule 4: (PLASTERS IN TIN SPACEBOY -> RED RETROSPOT CHILDRENS UMBRELLA, MILK PAN PINK POLKADOT, MILK PAN RED RETROSPOT : Confidence=1.0000, Lift=3.0000)\n",
            "Rule 5: (RED RETROSPOT CHILDRENS UMBRELLA -> PLASTERS IN TIN SPACEBOY, MILK PAN PINK POLKADOT, MILK PAN RED RETROSPOT : Confidence=1.0000, Lift=3.0000)\n",
            "Rule 6: (MILK PAN PINK POLKADOT, MILK PAN RED RETROSPOT -> RED RETROSPOT CHILDRENS UMBRELLA, PLASTERS IN TIN SPACEBOY : Confidence=1.0000, Lift=3.0000)\n",
            "Rule 7: (PLASTERS IN TIN SPACEBOY, MILK PAN PINK POLKADOT -> RED RETROSPOT CHILDRENS UMBRELLA, MILK PAN RED RETROSPOT : Confidence=1.0000, Lift=3.0000)\n",
            "Rule 8: (RED RETROSPOT CHILDRENS UMBRELLA, MILK PAN PINK POLKADOT -> PLASTERS IN TIN SPACEBOY, MILK PAN RED RETROSPOT : Confidence=1.0000, Lift=3.0000)\n",
            "Rule 9: (PLASTERS IN TIN SPACEBOY, MILK PAN RED RETROSPOT -> RED RETROSPOT CHILDRENS UMBRELLA, MILK PAN PINK POLKADOT : Confidence=1.0000, Lift=3.0000)\n",
            "Rule 10: (RED RETROSPOT CHILDRENS UMBRELLA, MILK PAN RED RETROSPOT -> PLASTERS IN TIN SPACEBOY, MILK PAN PINK POLKADOT : Confidence=1.0000, Lift=3.0000)\n",
            "Rule 11: (RED RETROSPOT CHILDRENS UMBRELLA, PLASTERS IN TIN SPACEBOY -> MILK PAN PINK POLKADOT, MILK PAN RED RETROSPOT : Confidence=1.0000, Lift=3.0000)\n",
            "Rule 12: (PLASTERS IN TIN SPACEBOY, MILK PAN PINK POLKADOT, MILK PAN RED RETROSPOT -> RED RETROSPOT CHILDRENS UMBRELLA : Confidence=1.0000, Lift=3.0000)\n",
            "Rule 13: (RED RETROSPOT CHILDRENS UMBRELLA, MILK PAN PINK POLKADOT, MILK PAN RED RETROSPOT -> PLASTERS IN TIN SPACEBOY : Confidence=1.0000, Lift=3.0000)\n",
            "Rule 14: (RED RETROSPOT CHILDRENS UMBRELLA, PLASTERS IN TIN SPACEBOY, MILK PAN PINK POLKADOT -> MILK PAN RED RETROSPOT : Confidence=1.0000, Lift=3.0000)\n",
            "Rule 15: (RED RETROSPOT CHILDRENS UMBRELLA, PLASTERS IN TIN SPACEBOY, MILK PAN RED RETROSPOT -> MILK PAN PINK POLKADOT : Confidence=1.0000, Lift=3.0000)\n",
            "\n"
          ]
        }
      ]
    },
    {
      "cell_type": "markdown",
      "source": [
        "##ข้อ 4. ช่วงเวลา Chirtmas & New Year ในทวีป Europe (1 Dec -31 Dec)"
      ],
      "metadata": {
        "id": "XODMLLLBhYsJ"
      }
    },
    {
      "cell_type": "code",
      "source": [
        "# เลือกช่วงเวลา Chirtmas & New Year ในทวีป Europe (1 Dec -31 Dec)\n",
        "filtered_df4 = df[\n",
        "     (df['InvoiceDate'].dt.month == 12)  &\n",
        "    (df['Country'].isin(europe_countries))\n",
        "]\n",
        "\n",
        "\n",
        "# โชว์ datafram เพื่อcheck\n",
        "print(filtered_df4)"
      ],
      "metadata": {
        "id": "ReoP7dYnhaBG",
        "outputId": "4b7d31f1-1b75-48ae-ae56-505ef72b40a3",
        "colab": {
          "base_uri": "https://localhost:8080/"
        }
      },
      "execution_count": 38,
      "outputs": [
        {
          "output_type": "stream",
          "name": "stdout",
          "text": [
            "       InvoiceNo StockCode                          Description  Quantity  \\\n",
            "0         536365    85123A   WHITE HANGING HEART T-LIGHT HOLDER         6   \n",
            "1         536365     71053                  WHITE METAL LANTERN         6   \n",
            "2         536365    84406B       CREAM CUPID HEARTS COAT HANGER         8   \n",
            "3         536365    84029G  KNITTED UNION FLAG HOT WATER BOTTLE         6   \n",
            "4         536365    84029E       RED WOOLLY HOTTIE WHITE HEART.         6   \n",
            "...          ...       ...                                  ...       ...   \n",
            "541904    581587     22613          PACK OF 20 SPACEBOY NAPKINS        12   \n",
            "541905    581587     22899         CHILDREN'S APRON DOLLY GIRL          6   \n",
            "541906    581587     23254        CHILDRENS CUTLERY DOLLY GIRL          4   \n",
            "541907    581587     23255      CHILDRENS CUTLERY CIRCUS PARADE         4   \n",
            "541908    581587     22138        BAKING SET 9 PIECE RETROSPOT          3   \n",
            "\n",
            "               InvoiceDate  UnitPrice  CustomerID         Country  \n",
            "0      2010-12-01 08:26:00       2.55     17850.0  United Kingdom  \n",
            "1      2010-12-01 08:26:00       3.39     17850.0  United Kingdom  \n",
            "2      2010-12-01 08:26:00       2.75     17850.0  United Kingdom  \n",
            "3      2010-12-01 08:26:00       3.39     17850.0  United Kingdom  \n",
            "4      2010-12-01 08:26:00       3.39     17850.0  United Kingdom  \n",
            "...                    ...        ...         ...             ...  \n",
            "541904 2011-12-09 12:50:00       0.85     12680.0          France  \n",
            "541905 2011-12-09 12:50:00       2.10     12680.0          France  \n",
            "541906 2011-12-09 12:50:00       4.15     12680.0          France  \n",
            "541907 2011-12-09 12:50:00       4.15     12680.0          France  \n",
            "541908 2011-12-09 12:50:00       4.95     12680.0          France  \n",
            "\n",
            "[67852 rows x 8 columns]\n"
          ]
        }
      ]
    },
    {
      "cell_type": "code",
      "source": [
        "transactions4 = filtered_df4.groupby('InvoiceNo')['Description'].apply(list).reset_index() #ทำการ group และทำให้ข้อมูลใน Description เป็นlist\n",
        "transactions_apply4 = transactions4['Description'].apply(lambda x: [str(item) for item in x]) #ใช้ฟังก์ชัน lambda เพื่อแปลงสินค้าทุกชิ้นใน list ของ 'transactions' เป็นข้อความ (strin"
      ],
      "metadata": {
        "id": "lbWJUiDhhfSY"
      },
      "execution_count": 39,
      "outputs": []
    },
    {
      "cell_type": "code",
      "source": [
        "frequentItemset4 = list(apriori(transactions_apply4, min_support=0.035))\n",
        "\n",
        "for record in frequentItemset4:\n",
        "    if len(record.items) > 1:\n",
        "        print('yes')\n",
        "        print(f\"Items: {', '.join(record.items)}\")\n",
        "        print(f\"Support: {record.support:.4f} ({record.support*100:.2f}%)\")\n",
        "\n",
        "        for i, stat in enumerate(record.ordered_statistics, 1):\n",
        "            items_base = 'None' if not stat.items_base else ', '.join(stat.items_base)\n",
        "            items_add = ', '.join(stat.items_add)\n",
        "            confidence = stat.confidence\n",
        "            lift = stat.lift\n",
        "\n",
        "            print(f\"Rule {i}: ({items_base} -> {items_add} : Confidence={confidence:.4f}, Lift={lift:.4f})\")\n",
        "        print()"
      ],
      "metadata": {
        "id": "mSJmjKEVhhyi",
        "outputId": "3ea4be28-925a-4390-ee65-577487787f4d",
        "colab": {
          "base_uri": "https://localhost:8080/"
        }
      },
      "execution_count": 40,
      "outputs": [
        {
          "output_type": "stream",
          "name": "stdout",
          "text": [
            "yes\n",
            "Items: ALARM CLOCK BAKELIKE RED , ALARM CLOCK BAKELIKE GREEN\n",
            "Support: 0.0367 (3.67%)\n",
            "Rule 1: (None -> ALARM CLOCK BAKELIKE RED , ALARM CLOCK BAKELIKE GREEN : Confidence=0.0367, Lift=1.0000)\n",
            "Rule 2: (ALARM CLOCK BAKELIKE GREEN -> ALARM CLOCK BAKELIKE RED  : Confidence=0.7070, Lift=14.4602)\n",
            "Rule 3: (ALARM CLOCK BAKELIKE RED  -> ALARM CLOCK BAKELIKE GREEN : Confidence=0.7500, Lift=14.4602)\n",
            "\n",
            "yes\n",
            "Items: CHOCOLATE HOT WATER BOTTLE, HOT WATER BOTTLE I AM SO POORLY\n",
            "Support: 0.0367 (3.67%)\n",
            "Rule 1: (None -> CHOCOLATE HOT WATER BOTTLE, HOT WATER BOTTLE I AM SO POORLY : Confidence=0.0367, Lift=1.0000)\n",
            "Rule 2: (CHOCOLATE HOT WATER BOTTLE -> HOT WATER BOTTLE I AM SO POORLY : Confidence=0.5163, Lift=9.7067)\n",
            "Rule 3: (HOT WATER BOTTLE I AM SO POORLY -> CHOCOLATE HOT WATER BOTTLE : Confidence=0.6894, Lift=9.7067)\n",
            "\n",
            "yes\n",
            "Items: PAPER CHAIN KIT 50'S CHRISTMAS , PAPER CHAIN KIT VINTAGE CHRISTMAS\n",
            "Support: 0.0479 (4.79%)\n",
            "Rule 1: (None -> PAPER CHAIN KIT 50'S CHRISTMAS , PAPER CHAIN KIT VINTAGE CHRISTMAS : Confidence=0.0479, Lift=1.0000)\n",
            "Rule 2: (PAPER CHAIN KIT 50'S CHRISTMAS  -> PAPER CHAIN KIT VINTAGE CHRISTMAS : Confidence=0.5160, Lift=7.1650)\n",
            "Rule 3: (PAPER CHAIN KIT VINTAGE CHRISTMAS -> PAPER CHAIN KIT 50'S CHRISTMAS  : Confidence=0.6651, Lift=7.1650)\n",
            "\n"
          ]
        }
      ]
    },
    {
      "cell_type": "markdown",
      "source": [
        "##ข้อ 5. วันวาเลนไทน์"
      ],
      "metadata": {
        "id": "WsJs3UgwhlcI"
      }
    },
    {
      "cell_type": "code",
      "source": [
        "# เลือกเฉพาะวันวาเลนไทน์\n",
        "filtered_df5 = df[(df['InvoiceDate'].dt.month == 2) & (df['InvoiceDate'].dt.day == 14) ]\n",
        "\n",
        "# โชว์ datafram เพื่อcheck\n",
        "print(filtered_df5)"
      ],
      "metadata": {
        "id": "09gZlMZ0hn5u",
        "outputId": "8dd623d3-36dd-488c-afd4-05a0098042cd",
        "colab": {
          "base_uri": "https://localhost:8080/"
        }
      },
      "execution_count": 41,
      "outputs": [
        {
          "output_type": "stream",
          "name": "stdout",
          "text": [
            "      InvoiceNo StockCode                         Description  Quantity  \\\n",
            "88847    543821     22926      IVORY GIANT GARDEN THERMOMETER         2   \n",
            "88848    543821     22928     YELLOW GIANT GARDEN THERMOMETER         2   \n",
            "88849    543821     22925       BLUE GIANT GARDEN THERMOMETER         2   \n",
            "88850    543821     85175               CACTI T-LIGHT CANDLES        16   \n",
            "88851    543821     22456     NATURAL SLATE CHALKBOARD LARGE          3   \n",
            "...         ...       ...                                 ...       ...   \n",
            "89950    543979     21889              WOODEN BOX OF DOMINOES         1   \n",
            "89951    543979     85176          SEWING SUSAN 21 NEEDLE SET         1   \n",
            "89952    543979     37446  MINI CAKE STAND WITH HANGING CAKES         1   \n",
            "89953    543979     21657     MILK BOTTLE WITH GLASS STOPPER          1   \n",
            "89954   C543980     22728           ALARM CLOCK BAKELIKE PINK        -1   \n",
            "\n",
            "              InvoiceDate  UnitPrice  CustomerID         Country  \n",
            "88847 2011-02-14 09:24:00       5.95     17667.0  United Kingdom  \n",
            "88848 2011-02-14 09:24:00       5.95     17667.0  United Kingdom  \n",
            "88849 2011-02-14 09:24:00       5.95     17667.0  United Kingdom  \n",
            "88850 2011-02-14 09:24:00       0.42     17667.0  United Kingdom  \n",
            "88851 2011-02-14 09:24:00       4.95     17667.0  United Kingdom  \n",
            "...                   ...        ...         ...             ...  \n",
            "89950 2011-02-14 15:43:00       1.25     14606.0  United Kingdom  \n",
            "89951 2011-02-14 15:43:00       0.85     14606.0  United Kingdom  \n",
            "89952 2011-02-14 15:43:00       1.45     14606.0  United Kingdom  \n",
            "89953 2011-02-14 15:43:00       6.95     14606.0  United Kingdom  \n",
            "89954 2011-02-14 16:39:00       3.75     14189.0  United Kingdom  \n",
            "\n",
            "[1108 rows x 8 columns]\n"
          ]
        }
      ]
    },
    {
      "cell_type": "code",
      "source": [
        "transactions5 = filtered_df5.groupby('InvoiceNo')['Description'].apply(list).reset_index() #ทำการ group และทำให้ข้อมูลใน Description เป็นlist\n",
        "transactions_apply5 = transactions5['Description'].apply(lambda x: [str(item) for item in x]) #ใช้ฟังก์ชัน lambda เพื่อแปลงสินค้าทุกชิ้นใน list ของ 'transactions' เป็นข้อความ (string)"
      ],
      "metadata": {
        "id": "JAl3gszuhs26"
      },
      "execution_count": 42,
      "outputs": []
    },
    {
      "cell_type": "code",
      "source": [
        "frequentItemset5 = list(apriori(transactions_apply5, min_support=0.09))\n",
        "\n",
        "for record in frequentItemset5:\n",
        "    if len(record.items) > 1:\n",
        "        print('yes')\n",
        "        print(f\"Items: {', '.join(record.items)}\")\n",
        "        print(f\"Support: {record.support:.4f} ({record.support*100:.2f}%)\")\n",
        "\n",
        "        for i, stat in enumerate(record.ordered_statistics, 1):\n",
        "            items_base = 'None' if not stat.items_base else ', '.join(stat.items_base)\n",
        "            items_add = ', '.join(stat.items_add)\n",
        "            confidence = stat.confidence\n",
        "            lift = stat.lift\n",
        "\n",
        "            print(f\"Rule {i}: ({items_base} -> {items_add} : Confidence={confidence:.4f}, Lift={lift:.4f})\")\n",
        "        print()\n"
      ],
      "metadata": {
        "id": "NHb4FgZ_hxAz",
        "outputId": "48d65cc9-2957-4b16-fb9a-c42984f383fe",
        "colab": {
          "base_uri": "https://localhost:8080/"
        }
      },
      "execution_count": 43,
      "outputs": [
        {
          "output_type": "stream",
          "name": "stdout",
          "text": [
            "yes\n",
            "Items: SET OF 3 CAKE TINS PANTRY DESIGN , HOMEMADE JAM SCENTED CANDLES\n",
            "Support: 0.0909 (9.09%)\n",
            "Rule 1: (None -> HOMEMADE JAM SCENTED CANDLES, SET OF 3 CAKE TINS PANTRY DESIGN  : Confidence=0.0909, Lift=1.0000)\n",
            "Rule 2: (HOMEMADE JAM SCENTED CANDLES -> SET OF 3 CAKE TINS PANTRY DESIGN  : Confidence=1.0000, Lift=6.8750)\n",
            "Rule 3: (SET OF 3 CAKE TINS PANTRY DESIGN  -> HOMEMADE JAM SCENTED CANDLES : Confidence=0.6250, Lift=6.8750)\n",
            "\n",
            "yes\n",
            "Items: SET OF 3 CAKE TINS PANTRY DESIGN , SET OF 6 SPICE TINS PANTRY DESIGN\n",
            "Support: 0.0909 (9.09%)\n",
            "Rule 1: (None -> SET OF 3 CAKE TINS PANTRY DESIGN , SET OF 6 SPICE TINS PANTRY DESIGN : Confidence=0.0909, Lift=1.0000)\n",
            "Rule 2: (SET OF 3 CAKE TINS PANTRY DESIGN  -> SET OF 6 SPICE TINS PANTRY DESIGN : Confidence=0.6250, Lift=5.7292)\n",
            "Rule 3: (SET OF 6 SPICE TINS PANTRY DESIGN -> SET OF 3 CAKE TINS PANTRY DESIGN  : Confidence=0.8333, Lift=5.7292)\n",
            "\n"
          ]
        }
      ]
    },
    {
      "cell_type": "markdown",
      "source": [
        "##ข้อ 6. โดยจัดกลุ่มตามประเทศ+เดือน"
      ],
      "metadata": {
        "id": "3KmmuNRXh3KB"
      }
    },
    {
      "cell_type": "code",
      "source": [
        "df6 = pd.read_csv(os.path.join(path, 'reduced_marketbasket.csv'), encoding='latin-1')"
      ],
      "metadata": {
        "id": "-a2bdDmuh75L"
      },
      "execution_count": 44,
      "outputs": []
    },
    {
      "cell_type": "code",
      "source": [
        "# Convert รูปแบบเวลาใน column InvoiceDate ให้อยู่ในรูปที่ต้องการ\n",
        "df6['InvoiceDate'] = pd.to_datetime(df6['InvoiceDate'], format='%m/%d/%Y %H:%M')"
      ],
      "metadata": {
        "id": "Te_bUloJh_K6"
      },
      "execution_count": 45,
      "outputs": []
    },
    {
      "cell_type": "code",
      "source": [
        "df6['Month'] = df6['InvoiceDate'].dt.month\n",
        "\n",
        "# df6['Year'] = df6['InvoiceDate'].dt.year   #ถ้าต้องการ\"ปี\"ด้วย"
      ],
      "metadata": {
        "id": "X-VJbHq_iCEc"
      },
      "execution_count": 46,
      "outputs": []
    },
    {
      "cell_type": "code",
      "source": [
        "# transactions_Mon_Con = df6.groupby(['Country', 'Month'])['StockCode'].apply(list)"
      ],
      "metadata": {
        "id": "E-M1tZ_AiHMi"
      },
      "execution_count": 47,
      "outputs": []
    },
    {
      "cell_type": "code",
      "source": [
        "transactions6 = df6.groupby(['Country', 'Month'])['StockCode'].apply(list) #ทำการ group และทำให้ข้อมูลใน Description เป็นlist  สามารถเพิ่มปี ได้โดย 'Year'\n",
        "# transactions_apply6 = transactions6['Description'].apply(lambda x: [str(item) for item in x]) #ใช้ฟังก์ชัน lambda เพื่อแปลงสินค้าทุกชิ้นใน list ของ 'transactions' เป็นข้อความ (string)"
      ],
      "metadata": {
        "id": "GejhI4EYiPFM"
      },
      "execution_count": 48,
      "outputs": []
    },
    {
      "cell_type": "code",
      "source": [
        "frequentItemset6 = list(apriori(transactions6, min_support=0.30))\n",
        "\n",
        "for record in frequentItemset6:\n",
        "    if len(record.items) > 1:\n",
        "        print('yes')\n",
        "        print(f\"Items: {', '.join(record.items)}\")\n",
        "        print(f\"Support: {record.support:.4f} ({record.support*100:.2f}%)\")\n",
        "\n",
        "        for i, stat in enumerate(record.ordered_statistics, 1):\n",
        "            items_base = 'None' if not stat.items_base else ', '.join(stat.items_base)\n",
        "            items_add = ', '.join(stat.items_add)\n",
        "            confidence = stat.confidence\n",
        "            lift = stat.lift\n",
        "\n",
        "            print(f\"Rule {i}: ({items_base} -> {items_add} : Confidence={confidence:.4f}, Lift={lift:.4f})\")\n",
        "        print()"
      ],
      "metadata": {
        "id": "uG8pM0gXiRYE",
        "outputId": "33bc65b9-cfb0-4242-d4f4-af753a6e0a7a",
        "colab": {
          "base_uri": "https://localhost:8080/"
        }
      },
      "execution_count": 49,
      "outputs": [
        {
          "output_type": "stream",
          "name": "stdout",
          "text": [
            "yes\n",
            "Items: 22326, POST\n",
            "Support: 0.3209 (32.09%)\n",
            "Rule 1: (None -> 22326, POST : Confidence=0.3209, Lift=1.0000)\n",
            "Rule 2: (22326 -> POST : Confidence=0.8407, Lift=1.4638)\n",
            "Rule 3: (POST -> 22326 : Confidence=0.5588, Lift=1.4638)\n",
            "\n",
            "yes\n",
            "Items: 22423, POST\n",
            "Support: 0.3142 (31.42%)\n",
            "Rule 1: (None -> 22423, POST : Confidence=0.3142, Lift=1.0000)\n",
            "Rule 2: (22423 -> POST : Confidence=0.6838, Lift=1.1907)\n",
            "Rule 3: (POST -> 22423 : Confidence=0.5471, Lift=1.1907)\n",
            "\n",
            "yes\n",
            "Items: 22629, 22630\n",
            "Support: 0.3007 (30.07%)\n",
            "Rule 1: (None -> 22629, 22630 : Confidence=0.3007, Lift=1.0000)\n",
            "Rule 2: (22629 -> 22630 : Confidence=0.8812, Lift=2.5572)\n",
            "Rule 3: (22630 -> 22629 : Confidence=0.8725, Lift=2.5572)\n",
            "\n"
          ]
        }
      ]
    },
    {
      "cell_type": "markdown",
      "source": [
        "*  check description item\n",
        "\n"
      ],
      "metadata": {
        "id": "5gRgc_QAieEk"
      }
    },
    {
      "cell_type": "code",
      "source": [
        "def find_des(x,y) :\n",
        "  item=set(df[(df['StockCode']==x)|(df['StockCode']==y)]['Description'])\n",
        "  return item"
      ],
      "metadata": {
        "id": "dcqLEmzmim2e"
      },
      "execution_count": 50,
      "outputs": []
    },
    {
      "cell_type": "code",
      "source": [
        "find_des('POST', '22326')"
      ],
      "metadata": {
        "id": "8UMKU7AwirHY",
        "outputId": "59a30580-8872-4503-e3a2-f869a62e66a7",
        "colab": {
          "base_uri": "https://localhost:8080/"
        }
      },
      "execution_count": 51,
      "outputs": [
        {
          "output_type": "execute_result",
          "data": {
            "text/plain": [
              "{'POSTAGE', 'ROUND SNACK BOXES SET OF4 WOODLAND ', nan}"
            ]
          },
          "metadata": {},
          "execution_count": 51
        }
      ]
    },
    {
      "cell_type": "markdown",
      "source": [
        "##6.1 ช่วงเวลา Chirtmas & New Year(1 Dec -31 Dec)"
      ],
      "metadata": {
        "id": "jJC4p2E7ivy2"
      }
    },
    {
      "cell_type": "code",
      "source": [
        "# Filter December 1st to December 31st\n",
        "filtered_df61 = df6[(df6['InvoiceDate'].dt.month == 12) & (df6['InvoiceDate'].dt.day >= 1) & (df6['InvoiceDate'].dt.day <= 31)]"
      ],
      "metadata": {
        "id": "3C3l4EKoiyAh"
      },
      "execution_count": 52,
      "outputs": []
    },
    {
      "cell_type": "code",
      "source": [
        "transactions61 = filtered_df61.groupby(['Country', 'Month'])['StockCode'].apply(list)"
      ],
      "metadata": {
        "id": "kAyJ5Qm0i2c7"
      },
      "execution_count": 53,
      "outputs": []
    },
    {
      "cell_type": "code",
      "source": [
        "frequentItemset61 = list(apriori(transactions61, min_support=0.3))\n",
        "\n",
        "for record in frequentItemset61:\n",
        "    if len(record.items) > 1:\n",
        "        print('yes')\n",
        "        print(f\"Items: {', '.join(record.items)}\")\n",
        "        print(f\"Support: {record.support:.4f} ({record.support*100:.2f}%)\")\n",
        "\n",
        "        for i, stat in enumerate(record.ordered_statistics, 1):\n",
        "            items_base = 'None' if not stat.items_base else ', '.join(stat.items_base)\n",
        "            items_add = ', '.join(stat.items_add)\n",
        "            confidence = stat.confidence\n",
        "            lift = stat.lift\n",
        "\n",
        "            print(f\"Rule {i}: ({items_base} -> {items_add} : Confidence={confidence:.4f}, Lift={lift:.4f})\")\n",
        "        print()"
      ],
      "metadata": {
        "id": "vIeiE5eAi5lc",
        "outputId": "95aaf0f1-3013-4382-b920-b7407864015b",
        "colab": {
          "base_uri": "https://localhost:8080/"
        }
      },
      "execution_count": 54,
      "outputs": [
        {
          "output_type": "stream",
          "name": "stdout",
          "text": [
            "yes\n",
            "Items: POST, 20750\n",
            "Support: 0.3333 (33.33%)\n",
            "Rule 1: (None -> POST, 20750 : Confidence=0.3333, Lift=1.0000)\n",
            "Rule 2: (20750 -> POST : Confidence=0.9000, Lift=1.7357)\n",
            "Rule 3: (POST -> 20750 : Confidence=0.6429, Lift=1.7357)\n",
            "\n",
            "yes\n",
            "Items: 22728, 22727\n",
            "Support: 0.3333 (33.33%)\n",
            "Rule 1: (None -> 22728, 22727 : Confidence=0.3333, Lift=1.0000)\n",
            "Rule 2: (22727 -> 22728 : Confidence=1.0000, Lift=3.0000)\n",
            "Rule 3: (22728 -> 22727 : Confidence=1.0000, Lift=3.0000)\n",
            "\n"
          ]
        }
      ]
    },
    {
      "cell_type": "markdown",
      "source": [
        "\n",
        "*  check description item\n",
        "\n"
      ],
      "metadata": {
        "id": "P_Bh7tZXi9gB"
      }
    },
    {
      "cell_type": "code",
      "source": [
        "find_des('20750','POST')"
      ],
      "metadata": {
        "id": "bPV8tOEIjDhZ",
        "outputId": "01e1e8d7-0558-4158-fdf1-13d6d1d3008c",
        "colab": {
          "base_uri": "https://localhost:8080/"
        }
      },
      "execution_count": 55,
      "outputs": [
        {
          "output_type": "execute_result",
          "data": {
            "text/plain": [
              "{'POSTAGE', 'RED RETROSPOT MINI CASES', nan}"
            ]
          },
          "metadata": {},
          "execution_count": 55
        }
      ]
    },
    {
      "cell_type": "code",
      "source": [
        "find_des('22727','22728')"
      ],
      "metadata": {
        "id": "q-lessjkjH-e",
        "outputId": "49df289e-44ec-4656-b35b-d3c28578db77",
        "colab": {
          "base_uri": "https://localhost:8080/"
        }
      },
      "execution_count": 56,
      "outputs": [
        {
          "output_type": "execute_result",
          "data": {
            "text/plain": [
              "{'ALARM CLOCK BAKELIKE PINK', 'ALARM CLOCK BAKELIKE RED '}"
            ]
          },
          "metadata": {},
          "execution_count": 56
        }
      ]
    },
    {
      "cell_type": "markdown",
      "source": [
        "##6.2 ช่วงเวลา Chirtmas & New Year(1 Dec -31 Dec)"
      ],
      "metadata": {
        "id": "N96icVTejLL8"
      }
    },
    {
      "cell_type": "code",
      "source": [
        "# เลือกประเทศจาก european_countries\n",
        "filtered_df62 = df6[df6['Country'].isin(europe_countries)]"
      ],
      "metadata": {
        "id": "H94gKdICjNOr"
      },
      "execution_count": 57,
      "outputs": []
    },
    {
      "cell_type": "code",
      "source": [
        "filtered_df62"
      ],
      "metadata": {
        "id": "TV2xCgSejRtL",
        "outputId": "17ff4224-da36-4dc8-e57f-6476ebbcc527",
        "colab": {
          "base_uri": "https://localhost:8080/",
          "height": 423
        }
      },
      "execution_count": 58,
      "outputs": [
        {
          "output_type": "execute_result",
          "data": {
            "text/plain": [
              "       InvoiceNo StockCode                          Description  Quantity  \\\n",
              "0         536365    85123A   WHITE HANGING HEART T-LIGHT HOLDER         6   \n",
              "1         536365     71053                  WHITE METAL LANTERN         6   \n",
              "2         536365    84406B       CREAM CUPID HEARTS COAT HANGER         8   \n",
              "3         536365    84029G  KNITTED UNION FLAG HOT WATER BOTTLE         6   \n",
              "4         536365    84029E       RED WOOLLY HOTTIE WHITE HEART.         6   \n",
              "...          ...       ...                                  ...       ...   \n",
              "541904    581587     22613          PACK OF 20 SPACEBOY NAPKINS        12   \n",
              "541905    581587     22899         CHILDREN'S APRON DOLLY GIRL          6   \n",
              "541906    581587     23254        CHILDRENS CUTLERY DOLLY GIRL          4   \n",
              "541907    581587     23255      CHILDRENS CUTLERY CIRCUS PARADE         4   \n",
              "541908    581587     22138        BAKING SET 9 PIECE RETROSPOT          3   \n",
              "\n",
              "               InvoiceDate  UnitPrice  CustomerID         Country  Month  \n",
              "0      2010-12-01 08:26:00       2.55     17850.0  United Kingdom     12  \n",
              "1      2010-12-01 08:26:00       3.39     17850.0  United Kingdom     12  \n",
              "2      2010-12-01 08:26:00       2.75     17850.0  United Kingdom     12  \n",
              "3      2010-12-01 08:26:00       3.39     17850.0  United Kingdom     12  \n",
              "4      2010-12-01 08:26:00       3.39     17850.0  United Kingdom     12  \n",
              "...                    ...        ...         ...             ...    ...  \n",
              "541904 2011-12-09 12:50:00       0.85     12680.0          France     12  \n",
              "541905 2011-12-09 12:50:00       2.10     12680.0          France     12  \n",
              "541906 2011-12-09 12:50:00       4.15     12680.0          France     12  \n",
              "541907 2011-12-09 12:50:00       4.15     12680.0          France     12  \n",
              "541908 2011-12-09 12:50:00       4.95     12680.0          France     12  \n",
              "\n",
              "[538358 rows x 9 columns]"
            ],
            "text/html": [
              "\n",
              "  <div id=\"df-bed378a0-9294-4eca-99d3-4b8b2c58f91e\" class=\"colab-df-container\">\n",
              "    <div>\n",
              "<style scoped>\n",
              "    .dataframe tbody tr th:only-of-type {\n",
              "        vertical-align: middle;\n",
              "    }\n",
              "\n",
              "    .dataframe tbody tr th {\n",
              "        vertical-align: top;\n",
              "    }\n",
              "\n",
              "    .dataframe thead th {\n",
              "        text-align: right;\n",
              "    }\n",
              "</style>\n",
              "<table border=\"1\" class=\"dataframe\">\n",
              "  <thead>\n",
              "    <tr style=\"text-align: right;\">\n",
              "      <th></th>\n",
              "      <th>InvoiceNo</th>\n",
              "      <th>StockCode</th>\n",
              "      <th>Description</th>\n",
              "      <th>Quantity</th>\n",
              "      <th>InvoiceDate</th>\n",
              "      <th>UnitPrice</th>\n",
              "      <th>CustomerID</th>\n",
              "      <th>Country</th>\n",
              "      <th>Month</th>\n",
              "    </tr>\n",
              "  </thead>\n",
              "  <tbody>\n",
              "    <tr>\n",
              "      <th>0</th>\n",
              "      <td>536365</td>\n",
              "      <td>85123A</td>\n",
              "      <td>WHITE HANGING HEART T-LIGHT HOLDER</td>\n",
              "      <td>6</td>\n",
              "      <td>2010-12-01 08:26:00</td>\n",
              "      <td>2.55</td>\n",
              "      <td>17850.0</td>\n",
              "      <td>United Kingdom</td>\n",
              "      <td>12</td>\n",
              "    </tr>\n",
              "    <tr>\n",
              "      <th>1</th>\n",
              "      <td>536365</td>\n",
              "      <td>71053</td>\n",
              "      <td>WHITE METAL LANTERN</td>\n",
              "      <td>6</td>\n",
              "      <td>2010-12-01 08:26:00</td>\n",
              "      <td>3.39</td>\n",
              "      <td>17850.0</td>\n",
              "      <td>United Kingdom</td>\n",
              "      <td>12</td>\n",
              "    </tr>\n",
              "    <tr>\n",
              "      <th>2</th>\n",
              "      <td>536365</td>\n",
              "      <td>84406B</td>\n",
              "      <td>CREAM CUPID HEARTS COAT HANGER</td>\n",
              "      <td>8</td>\n",
              "      <td>2010-12-01 08:26:00</td>\n",
              "      <td>2.75</td>\n",
              "      <td>17850.0</td>\n",
              "      <td>United Kingdom</td>\n",
              "      <td>12</td>\n",
              "    </tr>\n",
              "    <tr>\n",
              "      <th>3</th>\n",
              "      <td>536365</td>\n",
              "      <td>84029G</td>\n",
              "      <td>KNITTED UNION FLAG HOT WATER BOTTLE</td>\n",
              "      <td>6</td>\n",
              "      <td>2010-12-01 08:26:00</td>\n",
              "      <td>3.39</td>\n",
              "      <td>17850.0</td>\n",
              "      <td>United Kingdom</td>\n",
              "      <td>12</td>\n",
              "    </tr>\n",
              "    <tr>\n",
              "      <th>4</th>\n",
              "      <td>536365</td>\n",
              "      <td>84029E</td>\n",
              "      <td>RED WOOLLY HOTTIE WHITE HEART.</td>\n",
              "      <td>6</td>\n",
              "      <td>2010-12-01 08:26:00</td>\n",
              "      <td>3.39</td>\n",
              "      <td>17850.0</td>\n",
              "      <td>United Kingdom</td>\n",
              "      <td>12</td>\n",
              "    </tr>\n",
              "    <tr>\n",
              "      <th>...</th>\n",
              "      <td>...</td>\n",
              "      <td>...</td>\n",
              "      <td>...</td>\n",
              "      <td>...</td>\n",
              "      <td>...</td>\n",
              "      <td>...</td>\n",
              "      <td>...</td>\n",
              "      <td>...</td>\n",
              "      <td>...</td>\n",
              "    </tr>\n",
              "    <tr>\n",
              "      <th>541904</th>\n",
              "      <td>581587</td>\n",
              "      <td>22613</td>\n",
              "      <td>PACK OF 20 SPACEBOY NAPKINS</td>\n",
              "      <td>12</td>\n",
              "      <td>2011-12-09 12:50:00</td>\n",
              "      <td>0.85</td>\n",
              "      <td>12680.0</td>\n",
              "      <td>France</td>\n",
              "      <td>12</td>\n",
              "    </tr>\n",
              "    <tr>\n",
              "      <th>541905</th>\n",
              "      <td>581587</td>\n",
              "      <td>22899</td>\n",
              "      <td>CHILDREN'S APRON DOLLY GIRL</td>\n",
              "      <td>6</td>\n",
              "      <td>2011-12-09 12:50:00</td>\n",
              "      <td>2.10</td>\n",
              "      <td>12680.0</td>\n",
              "      <td>France</td>\n",
              "      <td>12</td>\n",
              "    </tr>\n",
              "    <tr>\n",
              "      <th>541906</th>\n",
              "      <td>581587</td>\n",
              "      <td>23254</td>\n",
              "      <td>CHILDRENS CUTLERY DOLLY GIRL</td>\n",
              "      <td>4</td>\n",
              "      <td>2011-12-09 12:50:00</td>\n",
              "      <td>4.15</td>\n",
              "      <td>12680.0</td>\n",
              "      <td>France</td>\n",
              "      <td>12</td>\n",
              "    </tr>\n",
              "    <tr>\n",
              "      <th>541907</th>\n",
              "      <td>581587</td>\n",
              "      <td>23255</td>\n",
              "      <td>CHILDRENS CUTLERY CIRCUS PARADE</td>\n",
              "      <td>4</td>\n",
              "      <td>2011-12-09 12:50:00</td>\n",
              "      <td>4.15</td>\n",
              "      <td>12680.0</td>\n",
              "      <td>France</td>\n",
              "      <td>12</td>\n",
              "    </tr>\n",
              "    <tr>\n",
              "      <th>541908</th>\n",
              "      <td>581587</td>\n",
              "      <td>22138</td>\n",
              "      <td>BAKING SET 9 PIECE RETROSPOT</td>\n",
              "      <td>3</td>\n",
              "      <td>2011-12-09 12:50:00</td>\n",
              "      <td>4.95</td>\n",
              "      <td>12680.0</td>\n",
              "      <td>France</td>\n",
              "      <td>12</td>\n",
              "    </tr>\n",
              "  </tbody>\n",
              "</table>\n",
              "<p>538358 rows × 9 columns</p>\n",
              "</div>\n",
              "    <div class=\"colab-df-buttons\">\n",
              "\n",
              "  <div class=\"colab-df-container\">\n",
              "    <button class=\"colab-df-convert\" onclick=\"convertToInteractive('df-bed378a0-9294-4eca-99d3-4b8b2c58f91e')\"\n",
              "            title=\"Convert this dataframe to an interactive table.\"\n",
              "            style=\"display:none;\">\n",
              "\n",
              "  <svg xmlns=\"http://www.w3.org/2000/svg\" height=\"24px\" viewBox=\"0 -960 960 960\">\n",
              "    <path d=\"M120-120v-720h720v720H120Zm60-500h600v-160H180v160Zm220 220h160v-160H400v160Zm0 220h160v-160H400v160ZM180-400h160v-160H180v160Zm440 0h160v-160H620v160ZM180-180h160v-160H180v160Zm440 0h160v-160H620v160Z\"/>\n",
              "  </svg>\n",
              "    </button>\n",
              "\n",
              "  <style>\n",
              "    .colab-df-container {\n",
              "      display:flex;\n",
              "      gap: 12px;\n",
              "    }\n",
              "\n",
              "    .colab-df-convert {\n",
              "      background-color: #E8F0FE;\n",
              "      border: none;\n",
              "      border-radius: 50%;\n",
              "      cursor: pointer;\n",
              "      display: none;\n",
              "      fill: #1967D2;\n",
              "      height: 32px;\n",
              "      padding: 0 0 0 0;\n",
              "      width: 32px;\n",
              "    }\n",
              "\n",
              "    .colab-df-convert:hover {\n",
              "      background-color: #E2EBFA;\n",
              "      box-shadow: 0px 1px 2px rgba(60, 64, 67, 0.3), 0px 1px 3px 1px rgba(60, 64, 67, 0.15);\n",
              "      fill: #174EA6;\n",
              "    }\n",
              "\n",
              "    .colab-df-buttons div {\n",
              "      margin-bottom: 4px;\n",
              "    }\n",
              "\n",
              "    [theme=dark] .colab-df-convert {\n",
              "      background-color: #3B4455;\n",
              "      fill: #D2E3FC;\n",
              "    }\n",
              "\n",
              "    [theme=dark] .colab-df-convert:hover {\n",
              "      background-color: #434B5C;\n",
              "      box-shadow: 0px 1px 3px 1px rgba(0, 0, 0, 0.15);\n",
              "      filter: drop-shadow(0px 1px 2px rgba(0, 0, 0, 0.3));\n",
              "      fill: #FFFFFF;\n",
              "    }\n",
              "  </style>\n",
              "\n",
              "    <script>\n",
              "      const buttonEl =\n",
              "        document.querySelector('#df-bed378a0-9294-4eca-99d3-4b8b2c58f91e button.colab-df-convert');\n",
              "      buttonEl.style.display =\n",
              "        google.colab.kernel.accessAllowed ? 'block' : 'none';\n",
              "\n",
              "      async function convertToInteractive(key) {\n",
              "        const element = document.querySelector('#df-bed378a0-9294-4eca-99d3-4b8b2c58f91e');\n",
              "        const dataTable =\n",
              "          await google.colab.kernel.invokeFunction('convertToInteractive',\n",
              "                                                    [key], {});\n",
              "        if (!dataTable) return;\n",
              "\n",
              "        const docLinkHtml = 'Like what you see? Visit the ' +\n",
              "          '<a target=\"_blank\" href=https://colab.research.google.com/notebooks/data_table.ipynb>data table notebook</a>'\n",
              "          + ' to learn more about interactive tables.';\n",
              "        element.innerHTML = '';\n",
              "        dataTable['output_type'] = 'display_data';\n",
              "        await google.colab.output.renderOutput(dataTable, element);\n",
              "        const docLink = document.createElement('div');\n",
              "        docLink.innerHTML = docLinkHtml;\n",
              "        element.appendChild(docLink);\n",
              "      }\n",
              "    </script>\n",
              "  </div>\n",
              "\n",
              "\n",
              "<div id=\"df-c0ca405b-262f-44d2-9901-cf0088e1d629\">\n",
              "  <button class=\"colab-df-quickchart\" onclick=\"quickchart('df-c0ca405b-262f-44d2-9901-cf0088e1d629')\"\n",
              "            title=\"Suggest charts\"\n",
              "            style=\"display:none;\">\n",
              "\n",
              "<svg xmlns=\"http://www.w3.org/2000/svg\" height=\"24px\"viewBox=\"0 0 24 24\"\n",
              "     width=\"24px\">\n",
              "    <g>\n",
              "        <path d=\"M19 3H5c-1.1 0-2 .9-2 2v14c0 1.1.9 2 2 2h14c1.1 0 2-.9 2-2V5c0-1.1-.9-2-2-2zM9 17H7v-7h2v7zm4 0h-2V7h2v10zm4 0h-2v-4h2v4z\"/>\n",
              "    </g>\n",
              "</svg>\n",
              "  </button>\n",
              "\n",
              "<style>\n",
              "  .colab-df-quickchart {\n",
              "      --bg-color: #E8F0FE;\n",
              "      --fill-color: #1967D2;\n",
              "      --hover-bg-color: #E2EBFA;\n",
              "      --hover-fill-color: #174EA6;\n",
              "      --disabled-fill-color: #AAA;\n",
              "      --disabled-bg-color: #DDD;\n",
              "  }\n",
              "\n",
              "  [theme=dark] .colab-df-quickchart {\n",
              "      --bg-color: #3B4455;\n",
              "      --fill-color: #D2E3FC;\n",
              "      --hover-bg-color: #434B5C;\n",
              "      --hover-fill-color: #FFFFFF;\n",
              "      --disabled-bg-color: #3B4455;\n",
              "      --disabled-fill-color: #666;\n",
              "  }\n",
              "\n",
              "  .colab-df-quickchart {\n",
              "    background-color: var(--bg-color);\n",
              "    border: none;\n",
              "    border-radius: 50%;\n",
              "    cursor: pointer;\n",
              "    display: none;\n",
              "    fill: var(--fill-color);\n",
              "    height: 32px;\n",
              "    padding: 0;\n",
              "    width: 32px;\n",
              "  }\n",
              "\n",
              "  .colab-df-quickchart:hover {\n",
              "    background-color: var(--hover-bg-color);\n",
              "    box-shadow: 0 1px 2px rgba(60, 64, 67, 0.3), 0 1px 3px 1px rgba(60, 64, 67, 0.15);\n",
              "    fill: var(--button-hover-fill-color);\n",
              "  }\n",
              "\n",
              "  .colab-df-quickchart-complete:disabled,\n",
              "  .colab-df-quickchart-complete:disabled:hover {\n",
              "    background-color: var(--disabled-bg-color);\n",
              "    fill: var(--disabled-fill-color);\n",
              "    box-shadow: none;\n",
              "  }\n",
              "\n",
              "  .colab-df-spinner {\n",
              "    border: 2px solid var(--fill-color);\n",
              "    border-color: transparent;\n",
              "    border-bottom-color: var(--fill-color);\n",
              "    animation:\n",
              "      spin 1s steps(1) infinite;\n",
              "  }\n",
              "\n",
              "  @keyframes spin {\n",
              "    0% {\n",
              "      border-color: transparent;\n",
              "      border-bottom-color: var(--fill-color);\n",
              "      border-left-color: var(--fill-color);\n",
              "    }\n",
              "    20% {\n",
              "      border-color: transparent;\n",
              "      border-left-color: var(--fill-color);\n",
              "      border-top-color: var(--fill-color);\n",
              "    }\n",
              "    30% {\n",
              "      border-color: transparent;\n",
              "      border-left-color: var(--fill-color);\n",
              "      border-top-color: var(--fill-color);\n",
              "      border-right-color: var(--fill-color);\n",
              "    }\n",
              "    40% {\n",
              "      border-color: transparent;\n",
              "      border-right-color: var(--fill-color);\n",
              "      border-top-color: var(--fill-color);\n",
              "    }\n",
              "    60% {\n",
              "      border-color: transparent;\n",
              "      border-right-color: var(--fill-color);\n",
              "    }\n",
              "    80% {\n",
              "      border-color: transparent;\n",
              "      border-right-color: var(--fill-color);\n",
              "      border-bottom-color: var(--fill-color);\n",
              "    }\n",
              "    90% {\n",
              "      border-color: transparent;\n",
              "      border-bottom-color: var(--fill-color);\n",
              "    }\n",
              "  }\n",
              "</style>\n",
              "\n",
              "  <script>\n",
              "    async function quickchart(key) {\n",
              "      const quickchartButtonEl =\n",
              "        document.querySelector('#' + key + ' button');\n",
              "      quickchartButtonEl.disabled = true;  // To prevent multiple clicks.\n",
              "      quickchartButtonEl.classList.add('colab-df-spinner');\n",
              "      try {\n",
              "        const charts = await google.colab.kernel.invokeFunction(\n",
              "            'suggestCharts', [key], {});\n",
              "      } catch (error) {\n",
              "        console.error('Error during call to suggestCharts:', error);\n",
              "      }\n",
              "      quickchartButtonEl.classList.remove('colab-df-spinner');\n",
              "      quickchartButtonEl.classList.add('colab-df-quickchart-complete');\n",
              "    }\n",
              "    (() => {\n",
              "      let quickchartButtonEl =\n",
              "        document.querySelector('#df-c0ca405b-262f-44d2-9901-cf0088e1d629 button');\n",
              "      quickchartButtonEl.style.display =\n",
              "        google.colab.kernel.accessAllowed ? 'block' : 'none';\n",
              "    })();\n",
              "  </script>\n",
              "</div>\n",
              "    </div>\n",
              "  </div>\n"
            ]
          },
          "metadata": {},
          "execution_count": 58
        }
      ]
    },
    {
      "cell_type": "code",
      "source": [
        "transactions62 = filtered_df62.groupby(['Country', 'Month'])['StockCode'].apply(list)"
      ],
      "metadata": {
        "id": "xO3YmMSsjU_P"
      },
      "execution_count": 59,
      "outputs": []
    },
    {
      "cell_type": "code",
      "source": [
        "frequentItemset62 = list(apriori(transactions62, min_support=0.4))\n",
        "\n",
        "for record in frequentItemset62:\n",
        "    if len(record.items) > 1:\n",
        "        print('yes')\n",
        "        print(f\"Items: {', '.join(record.items)}\")\n",
        "        print(f\"Support: {record.support:.4f} ({record.support*100:.2f}%)\")\n",
        "\n",
        "        for i, stat in enumerate(record.ordered_statistics, 1):\n",
        "            items_base = 'None' if not stat.items_base else ', '.join(stat.items_base)\n",
        "            items_add = ', '.join(stat.items_add)\n",
        "            confidence = stat.confidence\n",
        "            lift = stat.lift\n",
        "\n",
        "            print(f\"Rule {i}: ({items_base} -> {items_add} : Confidence={confidence:.4f}, Lift={lift:.4f})\")\n",
        "        print()\n"
      ],
      "metadata": {
        "id": "y-FxsxmGjZHH",
        "outputId": "efea6b27-1979-437f-e0c8-d14caffa42af",
        "colab": {
          "base_uri": "https://localhost:8080/"
        }
      },
      "execution_count": 63,
      "outputs": [
        {
          "output_type": "stream",
          "name": "stdout",
          "text": [
            "yes\n",
            "Items: 22326, POST\n",
            "Support: 0.4115 (41.15%)\n",
            "Rule 1: (None -> 22326, POST : Confidence=0.4115, Lift=1.0000)\n",
            "Rule 2: (22326 -> POST : Confidence=0.9208, Lift=1.2689)\n",
            "Rule 3: (POST -> 22326 : Confidence=0.5671, Lift=1.2689)\n",
            "\n"
          ]
        }
      ]
    },
    {
      "cell_type": "markdown",
      "source": [
        "\n",
        "\n",
        "*  check description item\n",
        "\n",
        "\n",
        "\n"
      ],
      "metadata": {
        "id": "OhJ2YGvHjiyZ"
      }
    },
    {
      "cell_type": "code",
      "source": [
        "find_des('POST', '22326')"
      ],
      "metadata": {
        "id": "FgyEZA_wjvTq",
        "outputId": "9758ddbc-7c5f-40e2-9442-1f3b1e0a2119",
        "colab": {
          "base_uri": "https://localhost:8080/"
        }
      },
      "execution_count": 64,
      "outputs": [
        {
          "output_type": "execute_result",
          "data": {
            "text/plain": [
              "{'POSTAGE', 'ROUND SNACK BOXES SET OF4 WOODLAND ', nan}"
            ]
          },
          "metadata": {},
          "execution_count": 64
        }
      ]
    },
    {
      "cell_type": "markdown",
      "source": [
        "##6.3 ช่วงเวลา Chirtmas & New Year(1 Dec -31 Dec)"
      ],
      "metadata": {
        "id": "-CgTQfmdj27A"
      }
    },
    {
      "cell_type": "code",
      "source": [
        "filtered_df63 = df6[\n",
        "     (((df6['InvoiceDate'].dt.month == 1) & (df6['InvoiceDate'].dt.day >= 15)) |\n",
        "    ((df6['InvoiceDate'].dt.month == 2) & (df6['InvoiceDate'].dt.day <= 15))) &\n",
        "    (df6['Country'].isin(asia_countries))\n",
        "]"
      ],
      "metadata": {
        "id": "_URl-lrxj4mN"
      },
      "execution_count": 65,
      "outputs": []
    },
    {
      "cell_type": "code",
      "source": [
        "transactions63 = filtered_df63.groupby(['Country', 'Month'])['StockCode'].apply(list)"
      ],
      "metadata": {
        "id": "zWXYhS9pkJGw"
      },
      "execution_count": 68,
      "outputs": []
    },
    {
      "cell_type": "code",
      "source": [
        "frequentItemset63 = list(apriori(transactions63, min_support=0.35))\n",
        "\n",
        "for record in frequentItemset63:\n",
        "    if len(record.items) > 1:\n",
        "        print('yes')\n",
        "        print(f\"Items: {', '.join(record.items)}\")\n",
        "        print(f\"Support: {record.support:.4f} ({record.support*100:.2f}%)\")\n",
        "\n",
        "        for i, stat in enumerate(record.ordered_statistics, 1):\n",
        "            items_base = 'None' if not stat.items_base else ', '.join(stat.items_base)\n",
        "            items_add = ', '.join(stat.items_add)\n",
        "            confidence = stat.confidence\n",
        "            lift = stat.lift\n",
        "\n",
        "            print(f\"Rule {i}: ({items_base} -> {items_add} : Confidence={confidence:.4f}, Lift={lift:.4f})\")\n",
        "        print()"
      ],
      "metadata": {
        "id": "kRHqW1v5j8_d",
        "outputId": "79b1781f-143b-405f-e218-e9b3ee6eb379",
        "colab": {
          "base_uri": "https://localhost:8080/"
        }
      },
      "execution_count": 69,
      "outputs": [
        {
          "output_type": "stream",
          "name": "stdout",
          "text": [
            "yes\n",
            "Items: 20682, 22202\n",
            "Support: 0.4000 (40.00%)\n",
            "Rule 1: (None -> 20682, 22202 : Confidence=0.4000, Lift=1.0000)\n",
            "Rule 2: (20682 -> 22202 : Confidence=1.0000, Lift=2.5000)\n",
            "Rule 3: (22202 -> 20682 : Confidence=1.0000, Lift=2.5000)\n",
            "\n",
            "yes\n",
            "Items: 20682, 22203\n",
            "Support: 0.4000 (40.00%)\n",
            "Rule 1: (None -> 20682, 22203 : Confidence=0.4000, Lift=1.0000)\n",
            "Rule 2: (20682 -> 22203 : Confidence=1.0000, Lift=2.5000)\n",
            "Rule 3: (22203 -> 20682 : Confidence=1.0000, Lift=2.5000)\n",
            "\n",
            "yes\n",
            "Items: 20682, 22551\n",
            "Support: 0.4000 (40.00%)\n",
            "Rule 1: (None -> 20682, 22551 : Confidence=0.4000, Lift=1.0000)\n",
            "Rule 2: (20682 -> 22551 : Confidence=1.0000, Lift=2.5000)\n",
            "Rule 3: (22551 -> 20682 : Confidence=1.0000, Lift=2.5000)\n",
            "\n",
            "yes\n",
            "Items: 20725, 21216\n",
            "Support: 0.4000 (40.00%)\n",
            "Rule 1: (None -> 20725, 21216 : Confidence=0.4000, Lift=1.0000)\n",
            "Rule 2: (20725 -> 21216 : Confidence=1.0000, Lift=2.5000)\n",
            "Rule 3: (21216 -> 20725 : Confidence=1.0000, Lift=2.5000)\n",
            "\n",
            "yes\n",
            "Items: 20725, 21439\n",
            "Support: 0.4000 (40.00%)\n",
            "Rule 1: (None -> 20725, 21439 : Confidence=0.4000, Lift=1.0000)\n",
            "Rule 2: (20725 -> 21439 : Confidence=1.0000, Lift=2.5000)\n",
            "Rule 3: (21439 -> 20725 : Confidence=1.0000, Lift=2.5000)\n",
            "\n",
            "yes\n",
            "Items: 22620, 20725\n",
            "Support: 0.4000 (40.00%)\n",
            "Rule 1: (None -> 22620, 20725 : Confidence=0.4000, Lift=1.0000)\n",
            "Rule 2: (20725 -> 22620 : Confidence=1.0000, Lift=2.5000)\n",
            "Rule 3: (22620 -> 20725 : Confidence=1.0000, Lift=2.5000)\n",
            "\n",
            "yes\n",
            "Items: 21165, 82551\n",
            "Support: 0.4000 (40.00%)\n",
            "Rule 1: (None -> 21165, 82551 : Confidence=0.4000, Lift=1.0000)\n",
            "Rule 2: (21165 -> 82551 : Confidence=1.0000, Lift=2.5000)\n",
            "Rule 3: (82551 -> 21165 : Confidence=1.0000, Lift=2.5000)\n",
            "\n",
            "yes\n",
            "Items: 21165, 82552\n",
            "Support: 0.4000 (40.00%)\n",
            "Rule 1: (None -> 21165, 82552 : Confidence=0.4000, Lift=1.0000)\n",
            "Rule 2: (21165 -> 82552 : Confidence=1.0000, Lift=2.5000)\n",
            "Rule 3: (82552 -> 21165 : Confidence=1.0000, Lift=2.5000)\n",
            "\n",
            "yes\n",
            "Items: 21165, 85150\n",
            "Support: 0.4000 (40.00%)\n",
            "Rule 1: (None -> 21165, 85150 : Confidence=0.4000, Lift=1.0000)\n",
            "Rule 2: (21165 -> 85150 : Confidence=1.0000, Lift=1.6667)\n",
            "Rule 3: (85150 -> 21165 : Confidence=0.6667, Lift=1.6667)\n",
            "\n",
            "yes\n",
            "Items: 21216, 21439\n",
            "Support: 0.4000 (40.00%)\n",
            "Rule 1: (None -> 21216, 21439 : Confidence=0.4000, Lift=1.0000)\n",
            "Rule 2: (21216 -> 21439 : Confidence=1.0000, Lift=2.5000)\n",
            "Rule 3: (21439 -> 21216 : Confidence=1.0000, Lift=2.5000)\n",
            "\n",
            "yes\n",
            "Items: 22620, 21216\n",
            "Support: 0.4000 (40.00%)\n",
            "Rule 1: (None -> 22620, 21216 : Confidence=0.4000, Lift=1.0000)\n",
            "Rule 2: (21216 -> 22620 : Confidence=1.0000, Lift=2.5000)\n",
            "Rule 3: (22620 -> 21216 : Confidence=1.0000, Lift=2.5000)\n",
            "\n",
            "yes\n",
            "Items: 22620, 21439\n",
            "Support: 0.4000 (40.00%)\n",
            "Rule 1: (None -> 22620, 21439 : Confidence=0.4000, Lift=1.0000)\n",
            "Rule 2: (21439 -> 22620 : Confidence=1.0000, Lift=2.5000)\n",
            "Rule 3: (22620 -> 21439 : Confidence=1.0000, Lift=2.5000)\n",
            "\n",
            "yes\n",
            "Items: 22957, 21756\n",
            "Support: 0.4000 (40.00%)\n",
            "Rule 1: (None -> 22957, 21756 : Confidence=0.4000, Lift=1.0000)\n",
            "Rule 2: (21756 -> 22957 : Confidence=1.0000, Lift=1.6667)\n",
            "Rule 3: (22957 -> 21756 : Confidence=0.6667, Lift=1.6667)\n",
            "\n",
            "yes\n",
            "Items: 21756, 22960\n",
            "Support: 0.4000 (40.00%)\n",
            "Rule 1: (None -> 21756, 22960 : Confidence=0.4000, Lift=1.0000)\n",
            "Rule 2: (21756 -> 22960 : Confidence=1.0000, Lift=2.5000)\n",
            "Rule 3: (22960 -> 21756 : Confidence=1.0000, Lift=2.5000)\n",
            "\n",
            "yes\n",
            "Items: 21756, 85150\n",
            "Support: 0.4000 (40.00%)\n",
            "Rule 1: (None -> 21756, 85150 : Confidence=0.4000, Lift=1.0000)\n",
            "Rule 2: (21756 -> 85150 : Confidence=1.0000, Lift=1.6667)\n",
            "Rule 3: (85150 -> 21756 : Confidence=0.6667, Lift=1.6667)\n",
            "\n",
            "yes\n",
            "Items: 22203, 22202\n",
            "Support: 0.4000 (40.00%)\n",
            "Rule 1: (None -> 22203, 22202 : Confidence=0.4000, Lift=1.0000)\n",
            "Rule 2: (22202 -> 22203 : Confidence=1.0000, Lift=2.5000)\n",
            "Rule 3: (22203 -> 22202 : Confidence=1.0000, Lift=2.5000)\n",
            "\n",
            "yes\n",
            "Items: 22202, 22551\n",
            "Support: 0.4000 (40.00%)\n",
            "Rule 1: (None -> 22202, 22551 : Confidence=0.4000, Lift=1.0000)\n",
            "Rule 2: (22202 -> 22551 : Confidence=1.0000, Lift=2.5000)\n",
            "Rule 3: (22551 -> 22202 : Confidence=1.0000, Lift=2.5000)\n",
            "\n",
            "yes\n",
            "Items: 22203, 22551\n",
            "Support: 0.4000 (40.00%)\n",
            "Rule 1: (None -> 22203, 22551 : Confidence=0.4000, Lift=1.0000)\n",
            "Rule 2: (22203 -> 22551 : Confidence=1.0000, Lift=2.5000)\n",
            "Rule 3: (22551 -> 22203 : Confidence=1.0000, Lift=2.5000)\n",
            "\n",
            "yes\n",
            "Items: 48138, 22413\n",
            "Support: 0.4000 (40.00%)\n",
            "Rule 1: (None -> 48138, 22413 : Confidence=0.4000, Lift=1.0000)\n",
            "Rule 2: (22413 -> 48138 : Confidence=1.0000, Lift=2.5000)\n",
            "Rule 3: (48138 -> 22413 : Confidence=1.0000, Lift=2.5000)\n",
            "\n",
            "yes\n",
            "Items: 85150, 22413\n",
            "Support: 0.4000 (40.00%)\n",
            "Rule 1: (None -> 85150, 22413 : Confidence=0.4000, Lift=1.0000)\n",
            "Rule 2: (22413 -> 85150 : Confidence=1.0000, Lift=1.6667)\n",
            "Rule 3: (85150 -> 22413 : Confidence=0.6667, Lift=1.6667)\n",
            "\n",
            "yes\n",
            "Items: 22957, 22960\n",
            "Support: 0.4000 (40.00%)\n",
            "Rule 1: (None -> 22957, 22960 : Confidence=0.4000, Lift=1.0000)\n",
            "Rule 2: (22957 -> 22960 : Confidence=0.6667, Lift=1.6667)\n",
            "Rule 3: (22960 -> 22957 : Confidence=1.0000, Lift=1.6667)\n",
            "\n",
            "yes\n",
            "Items: 22957, 47566\n",
            "Support: 0.4000 (40.00%)\n",
            "Rule 1: (None -> 22957, 47566 : Confidence=0.4000, Lift=1.0000)\n",
            "Rule 2: (22957 -> 47566 : Confidence=0.6667, Lift=1.6667)\n",
            "Rule 3: (47566 -> 22957 : Confidence=1.0000, Lift=1.6667)\n",
            "\n",
            "yes\n",
            "Items: 84988, 22957\n",
            "Support: 0.4000 (40.00%)\n",
            "Rule 1: (None -> 84988, 22957 : Confidence=0.4000, Lift=1.0000)\n",
            "Rule 2: (22957 -> 84988 : Confidence=0.6667, Lift=1.6667)\n",
            "Rule 3: (84988 -> 22957 : Confidence=1.0000, Lift=1.6667)\n",
            "\n",
            "yes\n",
            "Items: 22957, 85150\n",
            "Support: 0.4000 (40.00%)\n",
            "Rule 1: (None -> 22957, 85150 : Confidence=0.4000, Lift=1.0000)\n",
            "Rule 2: (22957 -> 85150 : Confidence=0.6667, Lift=1.1111)\n",
            "Rule 3: (85150 -> 22957 : Confidence=0.6667, Lift=1.1111)\n",
            "\n",
            "yes\n",
            "Items: 22960, 85150\n",
            "Support: 0.4000 (40.00%)\n",
            "Rule 1: (None -> 22960, 85150 : Confidence=0.4000, Lift=1.0000)\n",
            "Rule 2: (22960 -> 85150 : Confidence=1.0000, Lift=1.6667)\n",
            "Rule 3: (85150 -> 22960 : Confidence=0.6667, Lift=1.6667)\n",
            "\n",
            "yes\n",
            "Items: 48138, 85150\n",
            "Support: 0.4000 (40.00%)\n",
            "Rule 1: (None -> 48138, 85150 : Confidence=0.4000, Lift=1.0000)\n",
            "Rule 2: (48138 -> 85150 : Confidence=1.0000, Lift=1.6667)\n",
            "Rule 3: (85150 -> 48138 : Confidence=0.6667, Lift=1.6667)\n",
            "\n",
            "yes\n",
            "Items: 82551, 82552\n",
            "Support: 0.4000 (40.00%)\n",
            "Rule 1: (None -> 82551, 82552 : Confidence=0.4000, Lift=1.0000)\n",
            "Rule 2: (82551 -> 82552 : Confidence=1.0000, Lift=2.5000)\n",
            "Rule 3: (82552 -> 82551 : Confidence=1.0000, Lift=2.5000)\n",
            "\n",
            "yes\n",
            "Items: 82551, 85150\n",
            "Support: 0.4000 (40.00%)\n",
            "Rule 1: (None -> 82551, 85150 : Confidence=0.4000, Lift=1.0000)\n",
            "Rule 2: (82551 -> 85150 : Confidence=1.0000, Lift=1.6667)\n",
            "Rule 3: (85150 -> 82551 : Confidence=0.6667, Lift=1.6667)\n",
            "\n",
            "yes\n",
            "Items: 85150, 82552\n",
            "Support: 0.4000 (40.00%)\n",
            "Rule 1: (None -> 82552, 85150 : Confidence=0.4000, Lift=1.0000)\n",
            "Rule 2: (82552 -> 85150 : Confidence=1.0000, Lift=1.6667)\n",
            "Rule 3: (85150 -> 82552 : Confidence=0.6667, Lift=1.6667)\n",
            "\n",
            "yes\n",
            "Items: 20682, 22202, 22203\n",
            "Support: 0.4000 (40.00%)\n",
            "Rule 1: (None -> 20682, 22202, 22203 : Confidence=0.4000, Lift=1.0000)\n",
            "Rule 2: (20682 -> 22203, 22202 : Confidence=1.0000, Lift=2.5000)\n",
            "Rule 3: (22202 -> 20682, 22203 : Confidence=1.0000, Lift=2.5000)\n",
            "Rule 4: (22203 -> 20682, 22202 : Confidence=1.0000, Lift=2.5000)\n",
            "Rule 5: (20682, 22202 -> 22203 : Confidence=1.0000, Lift=2.5000)\n",
            "Rule 6: (20682, 22203 -> 22202 : Confidence=1.0000, Lift=2.5000)\n",
            "Rule 7: (22203, 22202 -> 20682 : Confidence=1.0000, Lift=2.5000)\n",
            "\n",
            "yes\n",
            "Items: 20682, 22202, 22551\n",
            "Support: 0.4000 (40.00%)\n",
            "Rule 1: (None -> 20682, 22202, 22551 : Confidence=0.4000, Lift=1.0000)\n",
            "Rule 2: (20682 -> 22202, 22551 : Confidence=1.0000, Lift=2.5000)\n",
            "Rule 3: (22202 -> 20682, 22551 : Confidence=1.0000, Lift=2.5000)\n",
            "Rule 4: (22551 -> 20682, 22202 : Confidence=1.0000, Lift=2.5000)\n",
            "Rule 5: (20682, 22202 -> 22551 : Confidence=1.0000, Lift=2.5000)\n",
            "Rule 6: (20682, 22551 -> 22202 : Confidence=1.0000, Lift=2.5000)\n",
            "Rule 7: (22202, 22551 -> 20682 : Confidence=1.0000, Lift=2.5000)\n",
            "\n",
            "yes\n",
            "Items: 20682, 22203, 22551\n",
            "Support: 0.4000 (40.00%)\n",
            "Rule 1: (None -> 20682, 22203, 22551 : Confidence=0.4000, Lift=1.0000)\n",
            "Rule 2: (20682 -> 22203, 22551 : Confidence=1.0000, Lift=2.5000)\n",
            "Rule 3: (22203 -> 20682, 22551 : Confidence=1.0000, Lift=2.5000)\n",
            "Rule 4: (22551 -> 20682, 22203 : Confidence=1.0000, Lift=2.5000)\n",
            "Rule 5: (20682, 22203 -> 22551 : Confidence=1.0000, Lift=2.5000)\n",
            "Rule 6: (20682, 22551 -> 22203 : Confidence=1.0000, Lift=2.5000)\n",
            "Rule 7: (22203, 22551 -> 20682 : Confidence=1.0000, Lift=2.5000)\n",
            "\n",
            "yes\n",
            "Items: 20725, 21216, 21439\n",
            "Support: 0.4000 (40.00%)\n",
            "Rule 1: (None -> 20725, 21216, 21439 : Confidence=0.4000, Lift=1.0000)\n",
            "Rule 2: (20725 -> 21216, 21439 : Confidence=1.0000, Lift=2.5000)\n",
            "Rule 3: (21216 -> 20725, 21439 : Confidence=1.0000, Lift=2.5000)\n",
            "Rule 4: (21439 -> 20725, 21216 : Confidence=1.0000, Lift=2.5000)\n",
            "Rule 5: (20725, 21216 -> 21439 : Confidence=1.0000, Lift=2.5000)\n",
            "Rule 6: (20725, 21439 -> 21216 : Confidence=1.0000, Lift=2.5000)\n",
            "Rule 7: (21216, 21439 -> 20725 : Confidence=1.0000, Lift=2.5000)\n",
            "\n",
            "yes\n",
            "Items: 22620, 20725, 21216\n",
            "Support: 0.4000 (40.00%)\n",
            "Rule 1: (None -> 22620, 20725, 21216 : Confidence=0.4000, Lift=1.0000)\n",
            "Rule 2: (20725 -> 22620, 21216 : Confidence=1.0000, Lift=2.5000)\n",
            "Rule 3: (21216 -> 22620, 20725 : Confidence=1.0000, Lift=2.5000)\n",
            "Rule 4: (22620 -> 20725, 21216 : Confidence=1.0000, Lift=2.5000)\n",
            "Rule 5: (20725, 21216 -> 22620 : Confidence=1.0000, Lift=2.5000)\n",
            "Rule 6: (22620, 20725 -> 21216 : Confidence=1.0000, Lift=2.5000)\n",
            "Rule 7: (22620, 21216 -> 20725 : Confidence=1.0000, Lift=2.5000)\n",
            "\n",
            "yes\n",
            "Items: 22620, 20725, 21439\n",
            "Support: 0.4000 (40.00%)\n",
            "Rule 1: (None -> 22620, 20725, 21439 : Confidence=0.4000, Lift=1.0000)\n",
            "Rule 2: (20725 -> 22620, 21439 : Confidence=1.0000, Lift=2.5000)\n",
            "Rule 3: (21439 -> 22620, 20725 : Confidence=1.0000, Lift=2.5000)\n",
            "Rule 4: (22620 -> 20725, 21439 : Confidence=1.0000, Lift=2.5000)\n",
            "Rule 5: (20725, 21439 -> 22620 : Confidence=1.0000, Lift=2.5000)\n",
            "Rule 6: (22620, 20725 -> 21439 : Confidence=1.0000, Lift=2.5000)\n",
            "Rule 7: (22620, 21439 -> 20725 : Confidence=1.0000, Lift=2.5000)\n",
            "\n",
            "yes\n",
            "Items: 21165, 82551, 82552\n",
            "Support: 0.4000 (40.00%)\n",
            "Rule 1: (None -> 21165, 82551, 82552 : Confidence=0.4000, Lift=1.0000)\n",
            "Rule 2: (21165 -> 82551, 82552 : Confidence=1.0000, Lift=2.5000)\n",
            "Rule 3: (82551 -> 21165, 82552 : Confidence=1.0000, Lift=2.5000)\n",
            "Rule 4: (82552 -> 21165, 82551 : Confidence=1.0000, Lift=2.5000)\n",
            "Rule 5: (21165, 82551 -> 82552 : Confidence=1.0000, Lift=2.5000)\n",
            "Rule 6: (21165, 82552 -> 82551 : Confidence=1.0000, Lift=2.5000)\n",
            "Rule 7: (82551, 82552 -> 21165 : Confidence=1.0000, Lift=2.5000)\n",
            "\n",
            "yes\n",
            "Items: 21165, 82551, 85150\n",
            "Support: 0.4000 (40.00%)\n",
            "Rule 1: (None -> 21165, 82551, 85150 : Confidence=0.4000, Lift=1.0000)\n",
            "Rule 2: (21165 -> 82551, 85150 : Confidence=1.0000, Lift=2.5000)\n",
            "Rule 3: (82551 -> 21165, 85150 : Confidence=1.0000, Lift=2.5000)\n",
            "Rule 4: (85150 -> 21165, 82551 : Confidence=0.6667, Lift=1.6667)\n",
            "Rule 5: (21165, 82551 -> 85150 : Confidence=1.0000, Lift=1.6667)\n",
            "Rule 6: (21165, 85150 -> 82551 : Confidence=1.0000, Lift=2.5000)\n",
            "Rule 7: (82551, 85150 -> 21165 : Confidence=1.0000, Lift=2.5000)\n",
            "\n",
            "yes\n",
            "Items: 21165, 82552, 85150\n",
            "Support: 0.4000 (40.00%)\n",
            "Rule 1: (None -> 21165, 82552, 85150 : Confidence=0.4000, Lift=1.0000)\n",
            "Rule 2: (21165 -> 85150, 82552 : Confidence=1.0000, Lift=2.5000)\n",
            "Rule 3: (82552 -> 21165, 85150 : Confidence=1.0000, Lift=2.5000)\n",
            "Rule 4: (85150 -> 21165, 82552 : Confidence=0.6667, Lift=1.6667)\n",
            "Rule 5: (21165, 82552 -> 85150 : Confidence=1.0000, Lift=1.6667)\n",
            "Rule 6: (21165, 85150 -> 82552 : Confidence=1.0000, Lift=2.5000)\n",
            "Rule 7: (85150, 82552 -> 21165 : Confidence=1.0000, Lift=2.5000)\n",
            "\n",
            "yes\n",
            "Items: 22620, 21216, 21439\n",
            "Support: 0.4000 (40.00%)\n",
            "Rule 1: (None -> 22620, 21216, 21439 : Confidence=0.4000, Lift=1.0000)\n",
            "Rule 2: (21216 -> 22620, 21439 : Confidence=1.0000, Lift=2.5000)\n",
            "Rule 3: (21439 -> 22620, 21216 : Confidence=1.0000, Lift=2.5000)\n",
            "Rule 4: (22620 -> 21216, 21439 : Confidence=1.0000, Lift=2.5000)\n",
            "Rule 5: (21216, 21439 -> 22620 : Confidence=1.0000, Lift=2.5000)\n",
            "Rule 6: (22620, 21216 -> 21439 : Confidence=1.0000, Lift=2.5000)\n",
            "Rule 7: (22620, 21439 -> 21216 : Confidence=1.0000, Lift=2.5000)\n",
            "\n",
            "yes\n",
            "Items: 22957, 21756, 22960\n",
            "Support: 0.4000 (40.00%)\n",
            "Rule 1: (None -> 22957, 21756, 22960 : Confidence=0.4000, Lift=1.0000)\n",
            "Rule 2: (21756 -> 22957, 22960 : Confidence=1.0000, Lift=2.5000)\n",
            "Rule 3: (22957 -> 21756, 22960 : Confidence=0.6667, Lift=1.6667)\n",
            "Rule 4: (22960 -> 22957, 21756 : Confidence=1.0000, Lift=2.5000)\n",
            "Rule 5: (22957, 21756 -> 22960 : Confidence=1.0000, Lift=2.5000)\n",
            "Rule 6: (21756, 22960 -> 22957 : Confidence=1.0000, Lift=1.6667)\n",
            "Rule 7: (22957, 22960 -> 21756 : Confidence=1.0000, Lift=2.5000)\n",
            "\n",
            "yes\n",
            "Items: 22957, 21756, 85150\n",
            "Support: 0.4000 (40.00%)\n",
            "Rule 1: (None -> 22957, 21756, 85150 : Confidence=0.4000, Lift=1.0000)\n",
            "Rule 2: (21756 -> 22957, 85150 : Confidence=1.0000, Lift=2.5000)\n",
            "Rule 3: (22957 -> 21756, 85150 : Confidence=0.6667, Lift=1.6667)\n",
            "Rule 4: (85150 -> 22957, 21756 : Confidence=0.6667, Lift=1.6667)\n",
            "Rule 5: (22957, 21756 -> 85150 : Confidence=1.0000, Lift=1.6667)\n",
            "Rule 6: (21756, 85150 -> 22957 : Confidence=1.0000, Lift=1.6667)\n",
            "Rule 7: (22957, 85150 -> 21756 : Confidence=1.0000, Lift=2.5000)\n",
            "\n",
            "yes\n",
            "Items: 21756, 22960, 85150\n",
            "Support: 0.4000 (40.00%)\n",
            "Rule 1: (None -> 21756, 22960, 85150 : Confidence=0.4000, Lift=1.0000)\n",
            "Rule 2: (21756 -> 22960, 85150 : Confidence=1.0000, Lift=2.5000)\n",
            "Rule 3: (22960 -> 21756, 85150 : Confidence=1.0000, Lift=2.5000)\n",
            "Rule 4: (85150 -> 21756, 22960 : Confidence=0.6667, Lift=1.6667)\n",
            "Rule 5: (21756, 22960 -> 85150 : Confidence=1.0000, Lift=1.6667)\n",
            "Rule 6: (21756, 85150 -> 22960 : Confidence=1.0000, Lift=2.5000)\n",
            "Rule 7: (22960, 85150 -> 21756 : Confidence=1.0000, Lift=2.5000)\n",
            "\n",
            "yes\n",
            "Items: 22203, 22202, 22551\n",
            "Support: 0.4000 (40.00%)\n",
            "Rule 1: (None -> 22203, 22202, 22551 : Confidence=0.4000, Lift=1.0000)\n",
            "Rule 2: (22202 -> 22203, 22551 : Confidence=1.0000, Lift=2.5000)\n",
            "Rule 3: (22203 -> 22202, 22551 : Confidence=1.0000, Lift=2.5000)\n",
            "Rule 4: (22551 -> 22203, 22202 : Confidence=1.0000, Lift=2.5000)\n",
            "Rule 5: (22203, 22202 -> 22551 : Confidence=1.0000, Lift=2.5000)\n",
            "Rule 6: (22202, 22551 -> 22203 : Confidence=1.0000, Lift=2.5000)\n",
            "Rule 7: (22203, 22551 -> 22202 : Confidence=1.0000, Lift=2.5000)\n",
            "\n",
            "yes\n",
            "Items: 85150, 48138, 22413\n",
            "Support: 0.4000 (40.00%)\n",
            "Rule 1: (None -> 48138, 85150, 22413 : Confidence=0.4000, Lift=1.0000)\n",
            "Rule 2: (22413 -> 48138, 85150 : Confidence=1.0000, Lift=2.5000)\n",
            "Rule 3: (48138 -> 85150, 22413 : Confidence=1.0000, Lift=2.5000)\n",
            "Rule 4: (85150 -> 48138, 22413 : Confidence=0.6667, Lift=1.6667)\n",
            "Rule 5: (48138, 22413 -> 85150 : Confidence=1.0000, Lift=1.6667)\n",
            "Rule 6: (85150, 22413 -> 48138 : Confidence=1.0000, Lift=2.5000)\n",
            "Rule 7: (48138, 85150 -> 22413 : Confidence=1.0000, Lift=2.5000)\n",
            "\n",
            "yes\n",
            "Items: 22957, 22960, 85150\n",
            "Support: 0.4000 (40.00%)\n",
            "Rule 1: (None -> 22957, 22960, 85150 : Confidence=0.4000, Lift=1.0000)\n",
            "Rule 2: (22957 -> 22960, 85150 : Confidence=0.6667, Lift=1.6667)\n",
            "Rule 3: (22960 -> 22957, 85150 : Confidence=1.0000, Lift=2.5000)\n",
            "Rule 4: (85150 -> 22957, 22960 : Confidence=0.6667, Lift=1.6667)\n",
            "Rule 5: (22957, 22960 -> 85150 : Confidence=1.0000, Lift=1.6667)\n",
            "Rule 6: (22957, 85150 -> 22960 : Confidence=1.0000, Lift=2.5000)\n",
            "Rule 7: (22960, 85150 -> 22957 : Confidence=1.0000, Lift=1.6667)\n",
            "\n",
            "yes\n",
            "Items: 85150, 82551, 82552\n",
            "Support: 0.4000 (40.00%)\n",
            "Rule 1: (None -> 82552, 82551, 85150 : Confidence=0.4000, Lift=1.0000)\n",
            "Rule 2: (82551 -> 82552, 85150 : Confidence=1.0000, Lift=2.5000)\n",
            "Rule 3: (82552 -> 82551, 85150 : Confidence=1.0000, Lift=2.5000)\n",
            "Rule 4: (85150 -> 82551, 82552 : Confidence=0.6667, Lift=1.6667)\n",
            "Rule 5: (82551, 82552 -> 85150 : Confidence=1.0000, Lift=1.6667)\n",
            "Rule 6: (82551, 85150 -> 82552 : Confidence=1.0000, Lift=2.5000)\n",
            "Rule 7: (85150, 82552 -> 82551 : Confidence=1.0000, Lift=2.5000)\n",
            "\n",
            "yes\n",
            "Items: 20682, 22202, 22203, 22551\n",
            "Support: 0.4000 (40.00%)\n",
            "Rule 1: (None -> 20682, 22202, 22203, 22551 : Confidence=0.4000, Lift=1.0000)\n",
            "Rule 2: (20682 -> 22203, 22202, 22551 : Confidence=1.0000, Lift=2.5000)\n",
            "Rule 3: (22202 -> 20682, 22203, 22551 : Confidence=1.0000, Lift=2.5000)\n",
            "Rule 4: (22203 -> 20682, 22202, 22551 : Confidence=1.0000, Lift=2.5000)\n",
            "Rule 5: (22551 -> 20682, 22202, 22203 : Confidence=1.0000, Lift=2.5000)\n",
            "Rule 6: (20682, 22202 -> 22203, 22551 : Confidence=1.0000, Lift=2.5000)\n",
            "Rule 7: (20682, 22203 -> 22202, 22551 : Confidence=1.0000, Lift=2.5000)\n",
            "Rule 8: (20682, 22551 -> 22203, 22202 : Confidence=1.0000, Lift=2.5000)\n",
            "Rule 9: (22203, 22202 -> 20682, 22551 : Confidence=1.0000, Lift=2.5000)\n",
            "Rule 10: (22202, 22551 -> 20682, 22203 : Confidence=1.0000, Lift=2.5000)\n",
            "Rule 11: (22203, 22551 -> 20682, 22202 : Confidence=1.0000, Lift=2.5000)\n",
            "Rule 12: (20682, 22202, 22203 -> 22551 : Confidence=1.0000, Lift=2.5000)\n",
            "Rule 13: (20682, 22202, 22551 -> 22203 : Confidence=1.0000, Lift=2.5000)\n",
            "Rule 14: (20682, 22203, 22551 -> 22202 : Confidence=1.0000, Lift=2.5000)\n",
            "Rule 15: (22203, 22202, 22551 -> 20682 : Confidence=1.0000, Lift=2.5000)\n",
            "\n",
            "yes\n",
            "Items: 22620, 20725, 21216, 21439\n",
            "Support: 0.4000 (40.00%)\n",
            "Rule 1: (None -> 22620, 20725, 21216, 21439 : Confidence=0.4000, Lift=1.0000)\n",
            "Rule 2: (20725 -> 22620, 21216, 21439 : Confidence=1.0000, Lift=2.5000)\n",
            "Rule 3: (21216 -> 22620, 20725, 21439 : Confidence=1.0000, Lift=2.5000)\n",
            "Rule 4: (21439 -> 22620, 20725, 21216 : Confidence=1.0000, Lift=2.5000)\n",
            "Rule 5: (22620 -> 20725, 21216, 21439 : Confidence=1.0000, Lift=2.5000)\n",
            "Rule 6: (20725, 21216 -> 22620, 21439 : Confidence=1.0000, Lift=2.5000)\n",
            "Rule 7: (20725, 21439 -> 22620, 21216 : Confidence=1.0000, Lift=2.5000)\n",
            "Rule 8: (22620, 20725 -> 21216, 21439 : Confidence=1.0000, Lift=2.5000)\n",
            "Rule 9: (21216, 21439 -> 22620, 20725 : Confidence=1.0000, Lift=2.5000)\n",
            "Rule 10: (22620, 21216 -> 20725, 21439 : Confidence=1.0000, Lift=2.5000)\n",
            "Rule 11: (22620, 21439 -> 20725, 21216 : Confidence=1.0000, Lift=2.5000)\n",
            "Rule 12: (20725, 21216, 21439 -> 22620 : Confidence=1.0000, Lift=2.5000)\n",
            "Rule 13: (22620, 20725, 21216 -> 21439 : Confidence=1.0000, Lift=2.5000)\n",
            "Rule 14: (22620, 20725, 21439 -> 21216 : Confidence=1.0000, Lift=2.5000)\n",
            "Rule 15: (22620, 21216, 21439 -> 20725 : Confidence=1.0000, Lift=2.5000)\n",
            "\n",
            "yes\n",
            "Items: 21165, 82551, 82552, 85150\n",
            "Support: 0.4000 (40.00%)\n",
            "Rule 1: (None -> 21165, 82551, 82552, 85150 : Confidence=0.4000, Lift=1.0000)\n",
            "Rule 2: (21165 -> 85150, 82551, 82552 : Confidence=1.0000, Lift=2.5000)\n",
            "Rule 3: (82551 -> 21165, 82552, 85150 : Confidence=1.0000, Lift=2.5000)\n",
            "Rule 4: (82552 -> 21165, 82551, 85150 : Confidence=1.0000, Lift=2.5000)\n",
            "Rule 5: (85150 -> 21165, 82551, 82552 : Confidence=0.6667, Lift=1.6667)\n",
            "Rule 6: (21165, 82551 -> 85150, 82552 : Confidence=1.0000, Lift=2.5000)\n",
            "Rule 7: (21165, 82552 -> 82551, 85150 : Confidence=1.0000, Lift=2.5000)\n",
            "Rule 8: (21165, 85150 -> 82551, 82552 : Confidence=1.0000, Lift=2.5000)\n",
            "Rule 9: (82551, 82552 -> 21165, 85150 : Confidence=1.0000, Lift=2.5000)\n",
            "Rule 10: (82551, 85150 -> 21165, 82552 : Confidence=1.0000, Lift=2.5000)\n",
            "Rule 11: (85150, 82552 -> 21165, 82551 : Confidence=1.0000, Lift=2.5000)\n",
            "Rule 12: (21165, 82551, 82552 -> 85150 : Confidence=1.0000, Lift=1.6667)\n",
            "Rule 13: (21165, 82551, 85150 -> 82552 : Confidence=1.0000, Lift=2.5000)\n",
            "Rule 14: (21165, 82552, 85150 -> 82551 : Confidence=1.0000, Lift=2.5000)\n",
            "Rule 15: (85150, 82551, 82552 -> 21165 : Confidence=1.0000, Lift=2.5000)\n",
            "\n",
            "yes\n",
            "Items: 22957, 21756, 22960, 85150\n",
            "Support: 0.4000 (40.00%)\n",
            "Rule 1: (None -> 22957, 21756, 22960, 85150 : Confidence=0.4000, Lift=1.0000)\n",
            "Rule 2: (21756 -> 22957, 22960, 85150 : Confidence=1.0000, Lift=2.5000)\n",
            "Rule 3: (22957 -> 21756, 22960, 85150 : Confidence=0.6667, Lift=1.6667)\n",
            "Rule 4: (22960 -> 22957, 21756, 85150 : Confidence=1.0000, Lift=2.5000)\n",
            "Rule 5: (85150 -> 22957, 21756, 22960 : Confidence=0.6667, Lift=1.6667)\n",
            "Rule 6: (22957, 21756 -> 22960, 85150 : Confidence=1.0000, Lift=2.5000)\n",
            "Rule 7: (21756, 22960 -> 22957, 85150 : Confidence=1.0000, Lift=2.5000)\n",
            "Rule 8: (21756, 85150 -> 22957, 22960 : Confidence=1.0000, Lift=2.5000)\n",
            "Rule 9: (22957, 22960 -> 21756, 85150 : Confidence=1.0000, Lift=2.5000)\n",
            "Rule 10: (22957, 85150 -> 21756, 22960 : Confidence=1.0000, Lift=2.5000)\n",
            "Rule 11: (22960, 85150 -> 22957, 21756 : Confidence=1.0000, Lift=2.5000)\n",
            "Rule 12: (22957, 21756, 22960 -> 85150 : Confidence=1.0000, Lift=1.6667)\n",
            "Rule 13: (22957, 21756, 85150 -> 22960 : Confidence=1.0000, Lift=2.5000)\n",
            "Rule 14: (21756, 22960, 85150 -> 22957 : Confidence=1.0000, Lift=1.6667)\n",
            "Rule 15: (22957, 22960, 85150 -> 21756 : Confidence=1.0000, Lift=2.5000)\n",
            "\n"
          ]
        }
      ]
    },
    {
      "cell_type": "markdown",
      "source": [
        "\n",
        "\n",
        "*  check description item\n"
      ],
      "metadata": {
        "id": "k4WkO-w2kRl2"
      }
    },
    {
      "cell_type": "code",
      "source": [
        "find_des('22202', '22326')"
      ],
      "metadata": {
        "id": "bWxq1ONSkT9g",
        "outputId": "ab3ea18a-49ad-4e58-e250-5c152ed79606",
        "colab": {
          "base_uri": "https://localhost:8080/"
        }
      },
      "execution_count": 70,
      "outputs": [
        {
          "output_type": "execute_result",
          "data": {
            "text/plain": [
              "{'MILK PAN PINK POLKADOT', 'ROUND SNACK BOXES SET OF4 WOODLAND ', nan}"
            ]
          },
          "metadata": {},
          "execution_count": 70
        }
      ]
    },
    {
      "cell_type": "markdown",
      "source": [
        "##6.4 ช่วงเวลา Chirtmas & New Year(1 Dec -31 Dec)"
      ],
      "metadata": {
        "id": "TYWjiXgikepn"
      }
    },
    {
      "cell_type": "code",
      "source": [
        "filtered_df64 = df6[\n",
        "     (df6['InvoiceDate'].dt.month == 12)  &\n",
        "    (df6['Country'].isin(europe_countries))\n",
        "]"
      ],
      "metadata": {
        "id": "y0AiqQZLkY7N"
      },
      "execution_count": 72,
      "outputs": []
    },
    {
      "cell_type": "code",
      "source": [
        "transactions64 = filtered_df64.groupby(['Country', 'Month'])['StockCode'].apply(list)"
      ],
      "metadata": {
        "id": "LzUHE6hFkquY"
      },
      "execution_count": 73,
      "outputs": []
    },
    {
      "cell_type": "code",
      "source": [
        "frequentItemset64 = list(apriori(transactions64, min_support=0.4))\n",
        "\n",
        "for record in frequentItemset64:\n",
        "    if len(record.items) > 1:\n",
        "        print('yes')\n",
        "        print(f\"Items: {', '.join(record.items)}\")\n",
        "        print(f\"Support: {record.support:.4f} ({record.support*100:.2f}%)\")\n",
        "\n",
        "        for i, stat in enumerate(record.ordered_statistics, 1):\n",
        "            items_base = 'None' if not stat.items_base else ', '.join(stat.items_base)\n",
        "            items_add = ', '.join(stat.items_add)\n",
        "            confidence = stat.confidence\n",
        "            lift = stat.lift\n",
        "\n",
        "            print(f\"Rule {i}: ({items_base} -> {items_add} : Confidence={confidence:.4f}, Lift={lift:.4f})\")\n",
        "        print()\n"
      ],
      "metadata": {
        "id": "IzBGRtEVktYo",
        "outputId": "ab9224c1-557a-4506-dcc0-74f1d62bdd07",
        "colab": {
          "base_uri": "https://localhost:8080/"
        }
      },
      "execution_count": 74,
      "outputs": [
        {
          "output_type": "stream",
          "name": "stdout",
          "text": [
            "yes\n",
            "Items: POST, 20750\n",
            "Support: 0.4091 (40.91%)\n",
            "Rule 1: (None -> POST, 20750 : Confidence=0.4091, Lift=1.0000)\n",
            "Rule 2: (20750 -> POST : Confidence=0.9000, Lift=1.4143)\n",
            "Rule 3: (POST -> 20750 : Confidence=0.6429, Lift=1.4143)\n",
            "\n"
          ]
        }
      ]
    },
    {
      "cell_type": "markdown",
      "source": [
        "\n",
        "\n",
        "*   check description item\n"
      ],
      "metadata": {
        "id": "oyUJSgOhkxtm"
      }
    },
    {
      "cell_type": "code",
      "source": [
        "find_des('20750', 'POST')"
      ],
      "metadata": {
        "id": "9s1WOGOBk0ey",
        "outputId": "93b0c5dc-917d-4786-8488-6688951c4418",
        "colab": {
          "base_uri": "https://localhost:8080/"
        }
      },
      "execution_count": 75,
      "outputs": [
        {
          "output_type": "execute_result",
          "data": {
            "text/plain": [
              "{'POSTAGE', 'RED RETROSPOT MINI CASES', nan}"
            ]
          },
          "metadata": {},
          "execution_count": 75
        }
      ]
    },
    {
      "cell_type": "markdown",
      "source": [
        "##6.5 ช่วงเวลา Chirtmas & New Year(1 Dec -31 Dec)"
      ],
      "metadata": {
        "id": "IYmY8Jwwk5l3"
      }
    },
    {
      "cell_type": "code",
      "source": [
        "filtered_df65 = df6[(df6['InvoiceDate'].dt.month == 2) & (df6['InvoiceDate'].dt.day == 14) ]"
      ],
      "metadata": {
        "id": "4OkeYbEkk6wO"
      },
      "execution_count": 76,
      "outputs": []
    },
    {
      "cell_type": "code",
      "source": [
        "transactions65 = filtered_df65.groupby(['Country', 'Month'])['StockCode'].apply(list)"
      ],
      "metadata": {
        "id": "aeEBRpYXk-34"
      },
      "execution_count": 77,
      "outputs": []
    },
    {
      "cell_type": "code",
      "source": [
        "min_sup = 0.5\n",
        "frequentItemsets_va= list(apriori(transactions65,min_support = min_sup))\n",
        "for i in frequentItemsets_va:\n",
        "    if i[0].__len__()==2:\n",
        "        print('yes')\n",
        "        print(i)"
      ],
      "metadata": {
        "id": "7OGCrui5lBg8",
        "outputId": "b05441cb-ac5b-45f8-c2b2-656413f43260",
        "colab": {
          "base_uri": "https://localhost:8080/"
        }
      },
      "execution_count": 78,
      "outputs": [
        {
          "output_type": "stream",
          "name": "stdout",
          "text": [
            "yes\n",
            "RelationRecord(items=frozenset({'20719', '20726'}), support=0.5, ordered_statistics=[OrderedStatistic(items_base=frozenset(), items_add=frozenset({'20719', '20726'}), confidence=0.5, lift=1.0), OrderedStatistic(items_base=frozenset({'20719'}), items_add=frozenset({'20726'}), confidence=1.0, lift=2.0), OrderedStatistic(items_base=frozenset({'20726'}), items_add=frozenset({'20719'}), confidence=1.0, lift=2.0)])\n",
            "yes\n",
            "RelationRecord(items=frozenset({'20728', '20719'}), support=0.5, ordered_statistics=[OrderedStatistic(items_base=frozenset(), items_add=frozenset({'20728', '20719'}), confidence=0.5, lift=1.0), OrderedStatistic(items_base=frozenset({'20719'}), items_add=frozenset({'20728'}), confidence=1.0, lift=2.0), OrderedStatistic(items_base=frozenset({'20728'}), items_add=frozenset({'20719'}), confidence=1.0, lift=2.0)])\n",
            "yes\n",
            "RelationRecord(items=frozenset({'20719', '22383'}), support=0.5, ordered_statistics=[OrderedStatistic(items_base=frozenset(), items_add=frozenset({'20719', '22383'}), confidence=0.5, lift=1.0), OrderedStatistic(items_base=frozenset({'20719'}), items_add=frozenset({'22383'}), confidence=1.0, lift=2.0), OrderedStatistic(items_base=frozenset({'22383'}), items_add=frozenset({'20719'}), confidence=1.0, lift=2.0)])\n",
            "yes\n",
            "RelationRecord(items=frozenset({'20719', '22661'}), support=0.5, ordered_statistics=[OrderedStatistic(items_base=frozenset(), items_add=frozenset({'20719', '22661'}), confidence=0.5, lift=1.0), OrderedStatistic(items_base=frozenset({'20719'}), items_add=frozenset({'22661'}), confidence=1.0, lift=2.0), OrderedStatistic(items_base=frozenset({'22661'}), items_add=frozenset({'20719'}), confidence=1.0, lift=2.0)])\n",
            "yes\n",
            "RelationRecord(items=frozenset({'20719', '22662'}), support=0.5, ordered_statistics=[OrderedStatistic(items_base=frozenset(), items_add=frozenset({'20719', '22662'}), confidence=0.5, lift=1.0), OrderedStatistic(items_base=frozenset({'20719'}), items_add=frozenset({'22662'}), confidence=1.0, lift=2.0), OrderedStatistic(items_base=frozenset({'22662'}), items_add=frozenset({'20719'}), confidence=1.0, lift=2.0)])\n",
            "yes\n",
            "RelationRecord(items=frozenset({'22720', '20719'}), support=0.5, ordered_statistics=[OrderedStatistic(items_base=frozenset(), items_add=frozenset({'22720', '20719'}), confidence=0.5, lift=1.0), OrderedStatistic(items_base=frozenset({'20719'}), items_add=frozenset({'22720'}), confidence=1.0, lift=2.0), OrderedStatistic(items_base=frozenset({'22720'}), items_add=frozenset({'20719'}), confidence=1.0, lift=2.0)])\n",
            "yes\n",
            "RelationRecord(items=frozenset({'20719', '22722'}), support=0.5, ordered_statistics=[OrderedStatistic(items_base=frozenset(), items_add=frozenset({'20719', '22722'}), confidence=0.5, lift=1.0), OrderedStatistic(items_base=frozenset({'20719'}), items_add=frozenset({'22722'}), confidence=1.0, lift=2.0), OrderedStatistic(items_base=frozenset({'22722'}), items_add=frozenset({'20719'}), confidence=1.0, lift=2.0)])\n",
            "yes\n",
            "RelationRecord(items=frozenset({'20719', '22957'}), support=0.5, ordered_statistics=[OrderedStatistic(items_base=frozenset(), items_add=frozenset({'20719', '22957'}), confidence=0.5, lift=1.0), OrderedStatistic(items_base=frozenset({'20719'}), items_add=frozenset({'22957'}), confidence=1.0, lift=2.0), OrderedStatistic(items_base=frozenset({'22957'}), items_add=frozenset({'20719'}), confidence=1.0, lift=2.0)])\n",
            "yes\n",
            "RelationRecord(items=frozenset({'20728', '20726'}), support=0.5, ordered_statistics=[OrderedStatistic(items_base=frozenset(), items_add=frozenset({'20728', '20726'}), confidence=0.5, lift=1.0), OrderedStatistic(items_base=frozenset({'20726'}), items_add=frozenset({'20728'}), confidence=1.0, lift=2.0), OrderedStatistic(items_base=frozenset({'20728'}), items_add=frozenset({'20726'}), confidence=1.0, lift=2.0)])\n",
            "yes\n",
            "RelationRecord(items=frozenset({'22383', '20726'}), support=0.5, ordered_statistics=[OrderedStatistic(items_base=frozenset(), items_add=frozenset({'20726', '22383'}), confidence=0.5, lift=1.0), OrderedStatistic(items_base=frozenset({'20726'}), items_add=frozenset({'22383'}), confidence=1.0, lift=2.0), OrderedStatistic(items_base=frozenset({'22383'}), items_add=frozenset({'20726'}), confidence=1.0, lift=2.0)])\n",
            "yes\n",
            "RelationRecord(items=frozenset({'22661', '20726'}), support=0.5, ordered_statistics=[OrderedStatistic(items_base=frozenset(), items_add=frozenset({'20726', '22661'}), confidence=0.5, lift=1.0), OrderedStatistic(items_base=frozenset({'20726'}), items_add=frozenset({'22661'}), confidence=1.0, lift=2.0), OrderedStatistic(items_base=frozenset({'22661'}), items_add=frozenset({'20726'}), confidence=1.0, lift=2.0)])\n",
            "yes\n",
            "RelationRecord(items=frozenset({'20726', '22662'}), support=0.5, ordered_statistics=[OrderedStatistic(items_base=frozenset(), items_add=frozenset({'20726', '22662'}), confidence=0.5, lift=1.0), OrderedStatistic(items_base=frozenset({'20726'}), items_add=frozenset({'22662'}), confidence=1.0, lift=2.0), OrderedStatistic(items_base=frozenset({'22662'}), items_add=frozenset({'20726'}), confidence=1.0, lift=2.0)])\n",
            "yes\n",
            "RelationRecord(items=frozenset({'22720', '20726'}), support=0.5, ordered_statistics=[OrderedStatistic(items_base=frozenset(), items_add=frozenset({'22720', '20726'}), confidence=0.5, lift=1.0), OrderedStatistic(items_base=frozenset({'20726'}), items_add=frozenset({'22720'}), confidence=1.0, lift=2.0), OrderedStatistic(items_base=frozenset({'22720'}), items_add=frozenset({'20726'}), confidence=1.0, lift=2.0)])\n",
            "yes\n",
            "RelationRecord(items=frozenset({'22722', '20726'}), support=0.5, ordered_statistics=[OrderedStatistic(items_base=frozenset(), items_add=frozenset({'22722', '20726'}), confidence=0.5, lift=1.0), OrderedStatistic(items_base=frozenset({'20726'}), items_add=frozenset({'22722'}), confidence=1.0, lift=2.0), OrderedStatistic(items_base=frozenset({'22722'}), items_add=frozenset({'20726'}), confidence=1.0, lift=2.0)])\n",
            "yes\n",
            "RelationRecord(items=frozenset({'22957', '20726'}), support=0.5, ordered_statistics=[OrderedStatistic(items_base=frozenset(), items_add=frozenset({'22957', '20726'}), confidence=0.5, lift=1.0), OrderedStatistic(items_base=frozenset({'20726'}), items_add=frozenset({'22957'}), confidence=1.0, lift=2.0), OrderedStatistic(items_base=frozenset({'22957'}), items_add=frozenset({'20726'}), confidence=1.0, lift=2.0)])\n",
            "yes\n",
            "RelationRecord(items=frozenset({'20728', '22383'}), support=0.5, ordered_statistics=[OrderedStatistic(items_base=frozenset(), items_add=frozenset({'20728', '22383'}), confidence=0.5, lift=1.0), OrderedStatistic(items_base=frozenset({'20728'}), items_add=frozenset({'22383'}), confidence=1.0, lift=2.0), OrderedStatistic(items_base=frozenset({'22383'}), items_add=frozenset({'20728'}), confidence=1.0, lift=2.0)])\n",
            "yes\n",
            "RelationRecord(items=frozenset({'20728', '22661'}), support=0.5, ordered_statistics=[OrderedStatistic(items_base=frozenset(), items_add=frozenset({'20728', '22661'}), confidence=0.5, lift=1.0), OrderedStatistic(items_base=frozenset({'20728'}), items_add=frozenset({'22661'}), confidence=1.0, lift=2.0), OrderedStatistic(items_base=frozenset({'22661'}), items_add=frozenset({'20728'}), confidence=1.0, lift=2.0)])\n",
            "yes\n",
            "RelationRecord(items=frozenset({'20728', '22662'}), support=0.5, ordered_statistics=[OrderedStatistic(items_base=frozenset(), items_add=frozenset({'20728', '22662'}), confidence=0.5, lift=1.0), OrderedStatistic(items_base=frozenset({'20728'}), items_add=frozenset({'22662'}), confidence=1.0, lift=2.0), OrderedStatistic(items_base=frozenset({'22662'}), items_add=frozenset({'20728'}), confidence=1.0, lift=2.0)])\n",
            "yes\n",
            "RelationRecord(items=frozenset({'20728', '22720'}), support=0.5, ordered_statistics=[OrderedStatistic(items_base=frozenset(), items_add=frozenset({'20728', '22720'}), confidence=0.5, lift=1.0), OrderedStatistic(items_base=frozenset({'20728'}), items_add=frozenset({'22720'}), confidence=1.0, lift=2.0), OrderedStatistic(items_base=frozenset({'22720'}), items_add=frozenset({'20728'}), confidence=1.0, lift=2.0)])\n",
            "yes\n",
            "RelationRecord(items=frozenset({'20728', '22722'}), support=0.5, ordered_statistics=[OrderedStatistic(items_base=frozenset(), items_add=frozenset({'20728', '22722'}), confidence=0.5, lift=1.0), OrderedStatistic(items_base=frozenset({'20728'}), items_add=frozenset({'22722'}), confidence=1.0, lift=2.0), OrderedStatistic(items_base=frozenset({'22722'}), items_add=frozenset({'20728'}), confidence=1.0, lift=2.0)])\n",
            "yes\n",
            "RelationRecord(items=frozenset({'20728', '22957'}), support=0.5, ordered_statistics=[OrderedStatistic(items_base=frozenset(), items_add=frozenset({'20728', '22957'}), confidence=0.5, lift=1.0), OrderedStatistic(items_base=frozenset({'20728'}), items_add=frozenset({'22957'}), confidence=1.0, lift=2.0), OrderedStatistic(items_base=frozenset({'22957'}), items_add=frozenset({'20728'}), confidence=1.0, lift=2.0)])\n",
            "yes\n",
            "RelationRecord(items=frozenset({'21832', '22195'}), support=0.5, ordered_statistics=[OrderedStatistic(items_base=frozenset(), items_add=frozenset({'21832', '22195'}), confidence=0.5, lift=1.0), OrderedStatistic(items_base=frozenset({'21832'}), items_add=frozenset({'22195'}), confidence=1.0, lift=2.0), OrderedStatistic(items_base=frozenset({'22195'}), items_add=frozenset({'21832'}), confidence=1.0, lift=2.0)])\n",
            "yes\n",
            "RelationRecord(items=frozenset({'22661', '22383'}), support=0.5, ordered_statistics=[OrderedStatistic(items_base=frozenset(), items_add=frozenset({'22383', '22661'}), confidence=0.5, lift=1.0), OrderedStatistic(items_base=frozenset({'22383'}), items_add=frozenset({'22661'}), confidence=1.0, lift=2.0), OrderedStatistic(items_base=frozenset({'22661'}), items_add=frozenset({'22383'}), confidence=1.0, lift=2.0)])\n",
            "yes\n",
            "RelationRecord(items=frozenset({'22383', '22662'}), support=0.5, ordered_statistics=[OrderedStatistic(items_base=frozenset(), items_add=frozenset({'22383', '22662'}), confidence=0.5, lift=1.0), OrderedStatistic(items_base=frozenset({'22383'}), items_add=frozenset({'22662'}), confidence=1.0, lift=2.0), OrderedStatistic(items_base=frozenset({'22662'}), items_add=frozenset({'22383'}), confidence=1.0, lift=2.0)])\n",
            "yes\n",
            "RelationRecord(items=frozenset({'22720', '22383'}), support=0.5, ordered_statistics=[OrderedStatistic(items_base=frozenset(), items_add=frozenset({'22720', '22383'}), confidence=0.5, lift=1.0), OrderedStatistic(items_base=frozenset({'22383'}), items_add=frozenset({'22720'}), confidence=1.0, lift=2.0), OrderedStatistic(items_base=frozenset({'22720'}), items_add=frozenset({'22383'}), confidence=1.0, lift=2.0)])\n",
            "yes\n",
            "RelationRecord(items=frozenset({'22722', '22383'}), support=0.5, ordered_statistics=[OrderedStatistic(items_base=frozenset(), items_add=frozenset({'22722', '22383'}), confidence=0.5, lift=1.0), OrderedStatistic(items_base=frozenset({'22383'}), items_add=frozenset({'22722'}), confidence=1.0, lift=2.0), OrderedStatistic(items_base=frozenset({'22722'}), items_add=frozenset({'22383'}), confidence=1.0, lift=2.0)])\n",
            "yes\n",
            "RelationRecord(items=frozenset({'22957', '22383'}), support=0.5, ordered_statistics=[OrderedStatistic(items_base=frozenset(), items_add=frozenset({'22957', '22383'}), confidence=0.5, lift=1.0), OrderedStatistic(items_base=frozenset({'22383'}), items_add=frozenset({'22957'}), confidence=1.0, lift=2.0), OrderedStatistic(items_base=frozenset({'22957'}), items_add=frozenset({'22383'}), confidence=1.0, lift=2.0)])\n",
            "yes\n",
            "RelationRecord(items=frozenset({'22661', '22662'}), support=0.5, ordered_statistics=[OrderedStatistic(items_base=frozenset(), items_add=frozenset({'22661', '22662'}), confidence=0.5, lift=1.0), OrderedStatistic(items_base=frozenset({'22661'}), items_add=frozenset({'22662'}), confidence=1.0, lift=2.0), OrderedStatistic(items_base=frozenset({'22662'}), items_add=frozenset({'22661'}), confidence=1.0, lift=2.0)])\n",
            "yes\n",
            "RelationRecord(items=frozenset({'22720', '22661'}), support=0.5, ordered_statistics=[OrderedStatistic(items_base=frozenset(), items_add=frozenset({'22720', '22661'}), confidence=0.5, lift=1.0), OrderedStatistic(items_base=frozenset({'22661'}), items_add=frozenset({'22720'}), confidence=1.0, lift=2.0), OrderedStatistic(items_base=frozenset({'22720'}), items_add=frozenset({'22661'}), confidence=1.0, lift=2.0)])\n",
            "yes\n",
            "RelationRecord(items=frozenset({'22722', '22661'}), support=0.5, ordered_statistics=[OrderedStatistic(items_base=frozenset(), items_add=frozenset({'22722', '22661'}), confidence=0.5, lift=1.0), OrderedStatistic(items_base=frozenset({'22661'}), items_add=frozenset({'22722'}), confidence=1.0, lift=2.0), OrderedStatistic(items_base=frozenset({'22722'}), items_add=frozenset({'22661'}), confidence=1.0, lift=2.0)])\n",
            "yes\n",
            "RelationRecord(items=frozenset({'22957', '22661'}), support=0.5, ordered_statistics=[OrderedStatistic(items_base=frozenset(), items_add=frozenset({'22957', '22661'}), confidence=0.5, lift=1.0), OrderedStatistic(items_base=frozenset({'22661'}), items_add=frozenset({'22957'}), confidence=1.0, lift=2.0), OrderedStatistic(items_base=frozenset({'22957'}), items_add=frozenset({'22661'}), confidence=1.0, lift=2.0)])\n",
            "yes\n",
            "RelationRecord(items=frozenset({'22720', '22662'}), support=0.5, ordered_statistics=[OrderedStatistic(items_base=frozenset(), items_add=frozenset({'22720', '22662'}), confidence=0.5, lift=1.0), OrderedStatistic(items_base=frozenset({'22662'}), items_add=frozenset({'22720'}), confidence=1.0, lift=2.0), OrderedStatistic(items_base=frozenset({'22720'}), items_add=frozenset({'22662'}), confidence=1.0, lift=2.0)])\n",
            "yes\n",
            "RelationRecord(items=frozenset({'22722', '22662'}), support=0.5, ordered_statistics=[OrderedStatistic(items_base=frozenset(), items_add=frozenset({'22722', '22662'}), confidence=0.5, lift=1.0), OrderedStatistic(items_base=frozenset({'22662'}), items_add=frozenset({'22722'}), confidence=1.0, lift=2.0), OrderedStatistic(items_base=frozenset({'22722'}), items_add=frozenset({'22662'}), confidence=1.0, lift=2.0)])\n",
            "yes\n",
            "RelationRecord(items=frozenset({'22957', '22662'}), support=0.5, ordered_statistics=[OrderedStatistic(items_base=frozenset(), items_add=frozenset({'22957', '22662'}), confidence=0.5, lift=1.0), OrderedStatistic(items_base=frozenset({'22662'}), items_add=frozenset({'22957'}), confidence=1.0, lift=2.0), OrderedStatistic(items_base=frozenset({'22957'}), items_add=frozenset({'22662'}), confidence=1.0, lift=2.0)])\n",
            "yes\n",
            "RelationRecord(items=frozenset({'22720', '22722'}), support=0.5, ordered_statistics=[OrderedStatistic(items_base=frozenset(), items_add=frozenset({'22720', '22722'}), confidence=0.5, lift=1.0), OrderedStatistic(items_base=frozenset({'22720'}), items_add=frozenset({'22722'}), confidence=1.0, lift=2.0), OrderedStatistic(items_base=frozenset({'22722'}), items_add=frozenset({'22720'}), confidence=1.0, lift=2.0)])\n",
            "yes\n",
            "RelationRecord(items=frozenset({'22720', '22957'}), support=0.5, ordered_statistics=[OrderedStatistic(items_base=frozenset(), items_add=frozenset({'22720', '22957'}), confidence=0.5, lift=1.0), OrderedStatistic(items_base=frozenset({'22720'}), items_add=frozenset({'22957'}), confidence=1.0, lift=2.0), OrderedStatistic(items_base=frozenset({'22957'}), items_add=frozenset({'22720'}), confidence=1.0, lift=2.0)])\n",
            "yes\n",
            "RelationRecord(items=frozenset({'22957', '22722'}), support=0.5, ordered_statistics=[OrderedStatistic(items_base=frozenset(), items_add=frozenset({'22957', '22722'}), confidence=0.5, lift=1.0), OrderedStatistic(items_base=frozenset({'22722'}), items_add=frozenset({'22957'}), confidence=1.0, lift=2.0), OrderedStatistic(items_base=frozenset({'22957'}), items_add=frozenset({'22722'}), confidence=1.0, lift=2.0)])\n",
            "yes\n",
            "RelationRecord(items=frozenset({'84380', '22965'}), support=0.5, ordered_statistics=[OrderedStatistic(items_base=frozenset(), items_add=frozenset({'84380', '22965'}), confidence=0.5, lift=1.0), OrderedStatistic(items_base=frozenset({'22965'}), items_add=frozenset({'84380'}), confidence=1.0, lift=2.0), OrderedStatistic(items_base=frozenset({'84380'}), items_add=frozenset({'22965'}), confidence=1.0, lift=2.0)])\n"
          ]
        }
      ]
    },
    {
      "cell_type": "markdown",
      "source": [
        "\n",
        "*   check description item\n",
        "\n",
        "\n"
      ],
      "metadata": {
        "id": "LeslLvq7lFqh"
      }
    },
    {
      "cell_type": "code",
      "source": [
        "find_des('20726', '20719')"
      ],
      "metadata": {
        "id": "gCue0YNRlKgK",
        "outputId": "282790ed-c0fa-4de6-8151-985a2b7ed71f",
        "colab": {
          "base_uri": "https://localhost:8080/"
        }
      },
      "execution_count": 79,
      "outputs": [
        {
          "output_type": "execute_result",
          "data": {
            "text/plain": [
              "{'LUNCH BAG WOODLAND', 'WOODLAND CHARLOTTE BAG'}"
            ]
          },
          "metadata": {},
          "execution_count": 79
        }
      ]
    },
    {
      "cell_type": "code",
      "source": [
        "# frequentItemset65 = list(apriori(transactions65, min_support=0.5))\n",
        "\n",
        "# for record in frequentItemset65:\n",
        "#     if len(record.items) > 1:\n",
        "#         print('yes')\n",
        "#         print(f\"Items: {', '.join(record.items)}\")\n",
        "#         print(f\"Support: {record.support:.4f} ({record.support*100:.2f}%)\")\n",
        "\n",
        "#         for i, stat in enumerate(record.ordered_statistics, 1):\n",
        "#             items_base = 'None' if not stat.items_base else ', '.join(stat.items_base)\n",
        "#             items_add = ', '.join(stat.items_add)\n",
        "#             confidence = stat.confidence\n",
        "#             lift = stat.lift\n",
        "\n",
        "#             print(f\"Rule {i}: ({items_base} -> {items_add} : Confidence={confidence:.4f}, Lift={lift:.4f})\")\n",
        "#         print()"
      ],
      "metadata": {
        "id": "qZyejVBXlOuI"
      },
      "execution_count": 80,
      "outputs": []
    }
  ]
}