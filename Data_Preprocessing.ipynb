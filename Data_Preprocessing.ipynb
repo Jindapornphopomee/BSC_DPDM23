{
  "nbformat": 4,
  "nbformat_minor": 0,
  "metadata": {
    "colab": {
      "provenance": [],
      "include_colab_link": true
    },
    "kernelspec": {
      "name": "python3",
      "display_name": "Python 3"
    },
    "language_info": {
      "name": "python"
    }
  },
  "cells": [
    {
      "cell_type": "markdown",
      "metadata": {
        "id": "view-in-github",
        "colab_type": "text"
      },
      "source": [
        "<a href=\"https://colab.research.google.com/github/Jindapornphopomee/BSC_DPDM23/blob/main/Data_Preprocessing.ipynb\" target=\"_parent\"><img src=\"https://colab.research.google.com/assets/colab-badge.svg\" alt=\"Open In Colab\"/></a>"
      ]
    },
    {
      "cell_type": "code",
      "source": [
        "import pandas as pd\n"
      ],
      "metadata": {
        "id": "XKIpiLa_5u30"
      },
      "execution_count": 1,
      "outputs": []
    },
    {
      "cell_type": "code",
      "source": [
        "from google.colab import drive\n",
        "drive.mount('/content/drive')"
      ],
      "metadata": {
        "colab": {
          "base_uri": "https://localhost:8080/"
        },
        "id": "7iVAI_7C7Hma",
        "outputId": "a53029d1-42f6-4c90-9348-03a4857dbe9c"
      },
      "execution_count": 3,
      "outputs": [
        {
          "output_type": "stream",
          "name": "stdout",
          "text": [
            "Mounted at /content/drive\n"
          ]
        }
      ]
    },
    {
      "cell_type": "code",
      "source": [
        "shopping_data = pd.read_scv('/content/drive/MyDrive/bsc_dpdm23_data/content/customer_shopping_data.csv')"
      ],
      "metadata": {
        "colab": {
          "base_uri": "https://localhost:8080/",
          "height": 316
        },
        "id": "VWgwj85B7w8Y",
        "outputId": "da1e0ffe-57d1-4763-d26d-a9e577664bd8"
      },
      "execution_count": 10,
      "outputs": [
        {
          "output_type": "error",
          "ename": "AttributeError",
          "evalue": "ignored",
          "traceback": [
            "\u001b[0;31m---------------------------------------------------------------------------\u001b[0m",
            "\u001b[0;31mAttributeError\u001b[0m                            Traceback (most recent call last)",
            "\u001b[0;32m<ipython-input-10-b46c19a4eaf9>\u001b[0m in \u001b[0;36m<cell line: 1>\u001b[0;34m()\u001b[0m\n\u001b[0;32m----> 1\u001b[0;31m \u001b[0mshopping_data\u001b[0m \u001b[0;34m=\u001b[0m \u001b[0mpd\u001b[0m\u001b[0;34m.\u001b[0m\u001b[0mread_scv\u001b[0m\u001b[0;34m(\u001b[0m\u001b[0;34m'/content/drive/MyDrive/bsc_dpdm23_data/content/customer_shopping_data.csv'\u001b[0m\u001b[0;34m)\u001b[0m\u001b[0;34m\u001b[0m\u001b[0;34m\u001b[0m\u001b[0m\n\u001b[0m",
            "\u001b[0;32m/usr/local/lib/python3.10/dist-packages/pandas/__init__.py\u001b[0m in \u001b[0;36m__getattr__\u001b[0;34m(name)\u001b[0m\n\u001b[1;32m    262\u001b[0m         \u001b[0;32mreturn\u001b[0m \u001b[0m_SparseArray\u001b[0m\u001b[0;34m\u001b[0m\u001b[0;34m\u001b[0m\u001b[0m\n\u001b[1;32m    263\u001b[0m \u001b[0;34m\u001b[0m\u001b[0m\n\u001b[0;32m--> 264\u001b[0;31m     \u001b[0;32mraise\u001b[0m \u001b[0mAttributeError\u001b[0m\u001b[0;34m(\u001b[0m\u001b[0;34mf\"module 'pandas' has no attribute '{name}'\"\u001b[0m\u001b[0;34m)\u001b[0m\u001b[0;34m\u001b[0m\u001b[0;34m\u001b[0m\u001b[0m\n\u001b[0m\u001b[1;32m    265\u001b[0m \u001b[0;34m\u001b[0m\u001b[0m\n\u001b[1;32m    266\u001b[0m \u001b[0;34m\u001b[0m\u001b[0m\n",
            "\u001b[0;31mAttributeError\u001b[0m: module 'pandas' has no attribute 'read_scv'"
          ]
        }
      ]
    },
    {
      "cell_type": "markdown",
      "source": [
        "# ข้อมูลบางส่วนมีค่าตัวแปรบางตัวที่ไม่ทราบค่า (Missing Data)"
      ],
      "metadata": {
        "id": "RmWdPAaP5o5F"
      }
    },
    {
      "cell_type": "code",
      "source": [
        "shopping_data[(shopping_data['category']=='Clothing')&\n",
        "            (shopping_data['payment_method']=='Cashg')&\n",
        "            [(shopping_data['category']=='Clothing')]"
      ],
      "metadata": {
        "colab": {
          "base_uri": "https://localhost:8080/",
          "height": 142
        },
        "id": "16NJgSIZ7GC6",
        "outputId": "86038666-51bf-4b5f-c9a3-bd5d03afa885"
      },
      "execution_count": 11,
      "outputs": [
        {
          "output_type": "error",
          "ename": "SyntaxError",
          "evalue": "ignored",
          "traceback": [
            "\u001b[0;36m  File \u001b[0;32m\"<ipython-input-11-ea885504753f>\"\u001b[0;36m, line \u001b[0;32m3\u001b[0m\n\u001b[0;31m    [(shopping_data['category']=='Clothing')]\u001b[0m\n\u001b[0m                                             ^\u001b[0m\n\u001b[0;31mSyntaxError\u001b[0m\u001b[0;31m:\u001b[0m incomplete input\n"
          ]
        }
      ]
    },
    {
      "cell_type": "markdown",
      "source": [
        "แยก Data ส่วนไม่ missing ออกมา"
      ],
      "metadata": {
        "id": "H2dAJyY-BI9L"
      }
    },
    {
      "cell_type": "code",
      "source": [
        "nomissingshopping_data['']"
      ],
      "metadata": {
        "colab": {
          "base_uri": "https://localhost:8080/",
          "height": 177
        },
        "id": "qRSCvayJBVVG",
        "outputId": "8622ba4f-665f-4075-c411-40e11fb59405"
      },
      "execution_count": 13,
      "outputs": [
        {
          "output_type": "error",
          "ename": "NameError",
          "evalue": "ignored",
          "traceback": [
            "\u001b[0;31m---------------------------------------------------------------------------\u001b[0m",
            "\u001b[0;31mNameError\u001b[0m                                 Traceback (most recent call last)",
            "\u001b[0;32m<ipython-input-13-a9a8f43fa54a>\u001b[0m in \u001b[0;36m<cell line: 1>\u001b[0;34m()\u001b[0m\n\u001b[0;32m----> 1\u001b[0;31m \u001b[0mnomissingshopping_data\u001b[0m\u001b[0;34m[\u001b[0m\u001b[0;34m''\u001b[0m\u001b[0;34m]\u001b[0m\u001b[0;34m\u001b[0m\u001b[0;34m\u001b[0m\u001b[0m\n\u001b[0m",
            "\u001b[0;31mNameError\u001b[0m: name 'nomissingshopping_data' is not defined"
          ]
        }
      ]
    },
    {
      "cell_type": "markdown",
      "source": [
        "จับมันกลับมารวมกัน"
      ],
      "metadata": {
        "id": "Hn53DM-3Bk8D"
      }
    },
    {
      "cell_type": "code",
      "source": [
        "new_shopping_data = pd.concat[(willbemissing,nomissing)]\n",
        "new_shopping_data.shape"
      ],
      "metadata": {
        "colab": {
          "base_uri": "https://localhost:8080/",
          "height": 194
        },
        "id": "aNMhpSqFBpbB",
        "outputId": "22b5535a-142a-46e6-b383-eda2b1e17ea3"
      },
      "execution_count": 14,
      "outputs": [
        {
          "output_type": "error",
          "ename": "NameError",
          "evalue": "ignored",
          "traceback": [
            "\u001b[0;31m---------------------------------------------------------------------------\u001b[0m",
            "\u001b[0;31mNameError\u001b[0m                                 Traceback (most recent call last)",
            "\u001b[0;32m<ipython-input-14-0e6ce24da13a>\u001b[0m in \u001b[0;36m<cell line: 1>\u001b[0;34m()\u001b[0m\n\u001b[0;32m----> 1\u001b[0;31m \u001b[0mnew_shopping_data\u001b[0m \u001b[0;34m=\u001b[0m \u001b[0mpd\u001b[0m\u001b[0;34m.\u001b[0m\u001b[0mconcat\u001b[0m\u001b[0;34m[\u001b[0m\u001b[0;34m(\u001b[0m\u001b[0mwillbemissing\u001b[0m\u001b[0;34m,\u001b[0m\u001b[0mnomissing\u001b[0m\u001b[0;34m)\u001b[0m\u001b[0;34m]\u001b[0m\u001b[0;34m\u001b[0m\u001b[0;34m\u001b[0m\u001b[0m\n\u001b[0m\u001b[1;32m      2\u001b[0m \u001b[0mnew_shopping_data\u001b[0m\u001b[0;34m.\u001b[0m\u001b[0mshape\u001b[0m\u001b[0;34m\u001b[0m\u001b[0;34m\u001b[0m\u001b[0m\n",
            "\u001b[0;31mNameError\u001b[0m: name 'willbemissing' is not defined"
          ]
        }
      ]
    },
    {
      "cell_type": "markdown",
      "source": [
        "## Example"
      ],
      "metadata": {
        "id": "4L73JhqGQngL"
      }
    },
    {
      "cell_type": "code",
      "source": [
        "new_shopping_data.isnull().any()"
      ],
      "metadata": {
        "colab": {
          "base_uri": "https://localhost:8080/",
          "height": 177
        },
        "id": "jR8jN1ryCcT0",
        "outputId": "bb2ebe9a-e988-46f2-a092-deb83d66942e"
      },
      "execution_count": 12,
      "outputs": [
        {
          "output_type": "error",
          "ename": "NameError",
          "evalue": "ignored",
          "traceback": [
            "\u001b[0;31m---------------------------------------------------------------------------\u001b[0m",
            "\u001b[0;31mNameError\u001b[0m                                 Traceback (most recent call last)",
            "\u001b[0;32m<ipython-input-12-f7dddfbf5b9a>\u001b[0m in \u001b[0;36m<cell line: 1>\u001b[0;34m()\u001b[0m\n\u001b[0;32m----> 1\u001b[0;31m \u001b[0mnew_shopping_data\u001b[0m\u001b[0;34m\u001b[0m\u001b[0;34m\u001b[0m\u001b[0m\n\u001b[0m",
            "\u001b[0;31mNameError\u001b[0m: name 'new_shopping_data' is not defined"
          ]
        }
      ]
    },
    {
      "cell_type": "markdown",
      "source": [
        "## Fix"
      ],
      "metadata": {
        "id": "prh1BmpcQsil"
      }
    },
    {
      "cell_type": "markdown",
      "source": [
        "# ignore(ลบออกไปเลย)"
      ],
      "metadata": {
        "id": "orwX9nDMDLkP"
      }
    },
    {
      "cell_type": "markdown",
      "source": [
        "### Quiz\n",
        "-data หายไปที่ %\n",
        "-mean data รวมหลังจากแก้ missing เป็นเท่าไหร่\n"
      ],
      "metadata": {
        "id": "wuG7169jDYTY"
      }
    },
    {
      "cell_type": "code",
      "source": [
        "new_shopping_data_drop = new_shopping_data.dropa()"
      ],
      "metadata": {
        "id": "kQJ5uON8DyWe"
      },
      "execution_count": null,
      "outputs": []
    },
    {
      "cell_type": "code",
      "source": [
        "100*[(len(new_shopping_data)-len(new_shopping_data_drop)/len(new_shopping_data))]"
      ],
      "metadata": {
        "id": "fASCdPGsEUl0"
      },
      "execution_count": null,
      "outputs": []
    },
    {
      "cell_type": "code",
      "source": [
        "new_shopping_data_drop.describe()"
      ],
      "metadata": {
        "id": "ia9tAjH8E6nx"
      },
      "execution_count": null,
      "outputs": []
    },
    {
      "cell_type": "markdown",
      "source": [
        "#2.เติมด้วย unknown *เราจะเติมกับข้อมูล categorical"
      ],
      "metadata": {
        "id": "2eYeqLMcFKTy"
      }
    },
    {
      "cell_type": "markdown",
      "source": [
        "#3.เติมค่าเฉลี่ย"
      ],
      "metadata": {
        "id": "SRj5_hUjFbMG"
      }
    },
    {
      "cell_type": "code",
      "source": [
        "new_shopping_data_drop['price'].mean()"
      ],
      "metadata": {
        "id": "P2kSs0P9FnJz"
      },
      "execution_count": null,
      "outputs": []
    },
    {
      "cell_type": "code",
      "source": [
        "new_shopping_data_fillmean = new_shopping_data_fillna(new_shopping_data_drop)['price'].mean\n"
      ],
      "metadata": {
        "id": "vDHzhjKeGEDt"
      },
      "execution_count": null,
      "outputs": []
    },
    {
      "cell_type": "markdown",
      "source": [
        "#4.เติมด้วยค่าเฉลี่ยของกลุ่ม"
      ],
      "metadata": {
        "id": "Mw9IPc5BHHT5"
      }
    },
    {
      "cell_type": "markdown",
      "source": [
        "##Quiz\n",
        "-mean หลังเติมค่าเฉลี่ย Clothing ()\n",
        "-mean หลังเติมค่าเฉลี่ย Cash (684.31)\n",
        "-mean หลังเติมค่าเฉลี่ย Megacity (682.83)\n",
        "-mean หลังเติมค่าเฉลี่ย Cash+Megacity (681.97)\n"
      ],
      "metadata": {
        "id": "MR6MQeA3HaEV"
      }
    },
    {
      "cell_type": "code",
      "source": [],
      "metadata": {
        "id": "osrhdPdQKqvM"
      },
      "execution_count": null,
      "outputs": []
    },
    {
      "cell_type": "code",
      "source": [],
      "metadata": {
        "id": "WjzSz7T6L4Qh"
      },
      "execution_count": null,
      "outputs": []
    },
    {
      "cell_type": "code",
      "source": [],
      "metadata": {
        "id": "yCWgFD9PH6vC"
      },
      "execution_count": null,
      "outputs": []
    },
    {
      "cell_type": "code",
      "source": [],
      "metadata": {
        "id": "YlZ97J-zH5U3"
      },
      "execution_count": null,
      "outputs": []
    },
    {
      "cell_type": "markdown",
      "source": [
        "# ข้อมูลมีความซ้ำซ้อน (Duplicate Data)"
      ],
      "metadata": {
        "id": "kmBD1zE_QSeH"
      }
    },
    {
      "cell_type": "code",
      "source": [],
      "metadata": {
        "id": "M8zmBSODNz8w"
      },
      "execution_count": null,
      "outputs": []
    },
    {
      "cell_type": "markdown",
      "source": [
        "## Example"
      ],
      "metadata": {
        "id": "ruFadU49Q1lc"
      }
    },
    {
      "cell_type": "code",
      "source": [],
      "metadata": {
        "id": "ojReWF4DPQAY"
      },
      "execution_count": null,
      "outputs": []
    },
    {
      "cell_type": "markdown",
      "source": [
        "## Fix"
      ],
      "metadata": {
        "id": "KAzVw8omQ4Tc"
      }
    },
    {
      "cell_type": "code",
      "source": [],
      "metadata": {
        "id": "5ylrvOHuQxRs"
      },
      "execution_count": null,
      "outputs": []
    },
    {
      "cell_type": "markdown",
      "source": [
        "# ข้อมูลบางตัวในชุดข้อมูลมีลักษณะผิดปกติหรือแตกต่างจากข้อมูลส่วนใหญ่ (Outlier)"
      ],
      "metadata": {
        "id": "GlnaVednQZ2i"
      }
    },
    {
      "cell_type": "markdown",
      "source": [
        "## Example"
      ],
      "metadata": {
        "id": "asy8RImzQ8Jy"
      }
    },
    {
      "cell_type": "markdown",
      "source": [
        "## Fix"
      ],
      "metadata": {
        "id": "AZC8lgjiQ927"
      }
    },
    {
      "cell_type": "markdown",
      "source": [
        "# ค่าตัวแปรบางตัวที่ไม่ถูกต้อง (Erroneous Data)"
      ],
      "metadata": {
        "id": "E5ChKb1TPet8"
      }
    },
    {
      "cell_type": "markdown",
      "source": [
        "## Example"
      ],
      "metadata": {
        "id": "H7P2EYrGQ_Yp"
      }
    },
    {
      "cell_type": "markdown",
      "source": [
        "## Fix"
      ],
      "metadata": {
        "id": "NUgO4fRpRBqH"
      }
    },
    {
      "cell_type": "markdown",
      "source": [
        "# ข้อมูลมีค่าตัวแปรไม่สอดคล้องซึ่งกันและกัน (Inconsistent)"
      ],
      "metadata": {
        "id": "_s6K1cCgQhm6"
      }
    },
    {
      "cell_type": "markdown",
      "source": [
        "## Example"
      ],
      "metadata": {
        "id": "ZotQHar0RCxA"
      }
    },
    {
      "cell_type": "markdown",
      "source": [
        "## Fix"
      ],
      "metadata": {
        "id": "uuo5_wtLRERZ"
      }
    },
    {
      "cell_type": "code",
      "execution_count": null,
      "metadata": {
        "id": "t-0PtiONPICp"
      },
      "outputs": [],
      "source": []
    }
  ]
}