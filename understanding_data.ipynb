{
  "cells": [
    {
      "cell_type": "markdown",
      "metadata": {
        "id": "view-in-github",
        "colab_type": "text"
      },
      "source": [
        "<a href=\"https://colab.research.google.com/github/Jindapornphopomee/BSC_DPDM23/blob/main/understanding_data.ipynb\" target=\"_parent\"><img src=\"https://colab.research.google.com/assets/colab-badge.svg\" alt=\"Open In Colab\"/></a>"
      ]
    },
    {
      "cell_type": "markdown",
      "source": [
        "###Load data"
      ],
      "metadata": {
        "id": "kqHh3kmDCYRe"
      }
    },
    {
      "cell_type": "markdown",
      "source": [
        "###Load Excel from Gdrie"
      ],
      "metadata": {
        "id": "8yzlj89sEZQ8"
      }
    },
    {
      "cell_type": "code",
      "source": [],
      "metadata": {
        "id": "ZX7N8sf3AVxu"
      },
      "execution_count": null,
      "outputs": []
    },
    {
      "cell_type": "code",
      "source": [
        "#mounting colab with google drive\n",
        "from google.colab import drive\n",
        "drive.mount(\"\")"
      ],
      "metadata": {
        "id": "aMQP13HiE0jh"
      },
      "execution_count": null,
      "outputs": []
    },
    {
      "cell_type": "code",
      "source": [
        "from gooogle.colab import auth\n",
        "auth,authenticate_user()\n",
        "\n",
        "import gspread\n",
        "from google.auth import default\n",
        "creds, _ = default\n",
        "\n",
        "gc = gspread.authorize(creds)\n"
      ],
      "metadata": {
        "id": "_biKC25wHt_I"
      },
      "execution_count": null,
      "outputs": []
    },
    {
      "cell_type": "code",
      "source": [
        "gsht = gc.opan_by_key('')\n"
      ],
      "metadata": {
        "id": "DiBjspclJM2U"
      },
      "execution_count": null,
      "outputs": []
    },
    {
      "cell_type": "code",
      "source": [
        "worksheet2 = gsht.worksheet(\"\")\n",
        "rows = worksheet2,get_all_values()\n",
        "ืnayooH2 = pd.DataFraoe.froo_recrods(rows)\n",
        "ืnayooH2.column = nayooH2.iloc(0)\n",
        "\n"
      ],
      "metadata": {
        "id": "i5VDsCy_JXzQ"
      },
      "execution_count": null,
      "outputs": []
    },
    {
      "cell_type": "code",
      "source": [
        "gsht = gc.open_by_key('')\n"
      ],
      "metadata": {
        "id": "f3uPb4svKvmL"
      },
      "execution_count": null,
      "outputs": []
    },
    {
      "cell_type": "code",
      "source": [
        "worksheet2 = gsht.worksheet(\"\")\n",
        "rows = worksheet2,get_all_values()\n",
        "ืdata_from_gsheets = pd.DataFraom.from_recrods(rows)\n",
        "\n"
      ],
      "metadata": {
        "id": "l6QJzblRK60r"
      },
      "execution_count": null,
      "outputs": []
    },
    {
      "cell_type": "code",
      "source": [
        "data_from_gsheets"
      ],
      "metadata": {
        "id": "MtOdVYIXLltn"
      },
      "execution_count": null,
      "outputs": []
    },
    {
      "cell_type": "code",
      "source": [],
      "metadata": {
        "id": "0hdkZJQCLrpk"
      },
      "execution_count": null,
      "outputs": []
    },
    {
      "cell_type": "markdown",
      "source": [
        "###Basic stats"
      ],
      "metadata": {
        "id": "nTGvSJViCiYO"
      }
    },
    {
      "cell_type": "markdown",
      "source": [
        "###Visualization"
      ],
      "metadata": {
        "id": "KEq0V1hPCmj5"
      }
    },
    {
      "cell_type": "markdown",
      "source": [
        "###Distance-Simmilarity"
      ],
      "metadata": {
        "id": "JM_VQgu5Cvvu"
      }
    },
    {
      "cell_type": "markdown",
      "source": [],
      "metadata": {
        "id": "4EO_iLHYC-LQ"
      }
    }
  ],
  "metadata": {
    "colab": {
      "name": "Welcome To Colaboratory",
      "provenance": [],
      "include_colab_link": true
    },
    "kernelspec": {
      "display_name": "Python 3",
      "name": "python3"
    }
  },
  "nbformat": 4,
  "nbformat_minor": 0
}